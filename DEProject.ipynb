{
  "nbformat": 4,
  "nbformat_minor": 0,
  "metadata": {
    "colab": {
      "name": "DEProject.ipynb",
      "provenance": [],
      "mount_file_id": "1vTGIa9NjSwWF9O5iM10qLT-gLn7AMzKO",
      "authorship_tag": "ABX9TyOupcLRpl4ffufKbUmMFN+0",
      "include_colab_link": true
    },
    "kernelspec": {
      "name": "python3",
      "display_name": "Python 3"
    },
    "language_info": {
      "name": "python"
    }
  },
  "cells": [
    {
      "cell_type": "markdown",
      "metadata": {
        "id": "view-in-github",
        "colab_type": "text"
      },
      "source": [
        "<a href=\"https://colab.research.google.com/github/robertue1/Engineering/blob/main/DEProject.ipynb\" target=\"_parent\"><img src=\"https://colab.research.google.com/assets/colab-badge.svg\" alt=\"Open In Colab\"/></a>"
      ]
    },
    {
      "cell_type": "code",
      "metadata": {
        "id": "lknPZoYH_jvk",
        "colab": {
          "base_uri": "https://localhost:8080/"
        },
        "outputId": "e4b06538-55ec-4c16-db4c-cfa44bd17baa"
      },
      "source": [
        "\n",
        "import urllib3\n",
        "from urllib3 import request\n",
        "import json\n",
        "from pprint import pprint\n",
        "import pandas as pd\n",
        "import certifi\n",
        "import numpy as np\n",
        "import time\n",
        "import re\n",
        "\n",
        "#other needed tools\n",
        "from sqlalchemy import create_engine\n",
        "from sqlalchemy import Table, Column, Integer, String, MetaData, Float, Date\n",
        "from collections import defaultdict\n",
        "\n",
        "import gensim\n",
        "from nltk.stem import WordNetLemmatizer\n",
        "from collections import Counter\n",
        "import seaborn as sns\n",
        "import matplotlib.pyplot as plt\n",
        "from textblob import TextBlob\n",
        "\n",
        "from sklearn.feature_extraction.text import TfidfVectorizer, CountVectorizer, ENGLISH_STOP_WORDS\n",
        "from sklearn.decomposition import NMF, TruncatedSVD, LatentDirichletAllocation\n",
        "import nltk\n",
        "nltk.download('wordnet')\n",
        "\n",
        "http = urllib3.PoolManager(\n",
        "       cert_reqs='CERT_REQUIRED',\n",
        "       ca_certs=certifi.where())"
      ],
      "execution_count": 1,
      "outputs": [
        {
          "output_type": "stream",
          "name": "stdout",
          "text": [
            "[nltk_data] Downloading package wordnet to /root/nltk_data...\n",
            "[nltk_data]   Unzipping corpora/wordnet.zip.\n"
          ]
        }
      ]
    },
    {
      "cell_type": "code",
      "source": [
        "API_KEY = '189604c2-ac97-4295-9ccf-e3556505cff3'\n",
        "query = \"Venezuela | Maduro\"\n",
        "query_fields = \"webTitle\"\n",
        "section = \"news\"\n",
        "show_fields = \"body\"\n",
        "page_size = \"1\"\n",
        "from_date = \"2020-01-01\"\n",
        "to_date = \"Inifite and beyond\"\n",
        "retrieved_articles = 0\n",
        "for i in range(1,2):\n",
        "    query_url = f\"http://content.guardianapis.com/search?\" \\\n",
        "                f\"api-key={API_KEY}\" \\\n",
        "                f\"&q={query}\" \\\n",
        "                f\"&query-fields ={query_fields}\"\\\n",
        "                f\"&page={i}\" f\"&page-size={page_size}\"\\\n",
        "                f\"&show-fields={show_fields}\"\\\n",
        "                f\"&from-date={from_date}\" \\\n",
        "\n",
        "\n",
        "\n",
        "    r = http.request('GET', query_url)\n",
        "    time.sleep(1)\n",
        "    data = json.loads(r.data.decode('utf-8')) #Saving the articles in data\n",
        "    num_articles = data['response']['total'] #This is the total number of articles in the range of search. \n",
        "    #Here, I'm creating 'df' if it is the first time running the code, otherwise, I'll be concatenating the new data to the exisiting 'df'. \n",
        "    if i == 1:\n",
        "      df = pd.json_normalize(data['response'],record_path=['results'])\n",
        "    else:\n",
        "      df = pd.concat([df,pd.json_normalize(data['response'],record_path=['results'])], axis=0)\n",
        "    retrieved_articles = int(page_size)*i\n",
        "    #Now, I'm gonna compare the number of articles retrieved versus the total of \n",
        "    #articles, to see if i should break the for loop prematurely\n",
        "    if retrieved_articles > num_articles:\n",
        "      break\n",
        "pprint(data['response'])"
      ],
      "metadata": {
        "colab": {
          "base_uri": "https://localhost:8080/"
        },
        "id": "ZAMeKmxS6uwm",
        "outputId": "49b43e78-431f-4239-f06a-59489998c023"
      },
      "execution_count": 22,
      "outputs": [
        {
          "output_type": "stream",
          "name": "stdout",
          "text": [
            "{'currentPage': 1,\n",
            " 'orderBy': 'relevance',\n",
            " 'pageSize': 1,\n",
            " 'pages': 573,\n",
            " 'results': [{'apiUrl': 'https://content.guardianapis.com/world/2021/oct/17/brutal-aggression-venezuela-halts-talks-with-opposition-after-envoy-extradited-to-us',\n",
            "              'fields': {'body': '<p> Venezuela’s government is halting '\n",
            "                                 'negotiations with its opponents in '\n",
            "                                 'retaliation for the extradition to the US of '\n",
            "                                 'a close ally of president Nicolás Maduro, '\n",
            "                                 'who prosecutors believe could be the most '\n",
            "                                 'significant witness ever about corruption in '\n",
            "                                 'the South American country.</p> <p>Jorge '\n",
            "                                 'Rodríguez, who has been heading the '\n",
            "                                 'government’s delegation, said his team '\n",
            "                                 'wouldn’t travel to Mexico City for the next '\n",
            "                                 'scheduled round of negotiations.</p> <p>The '\n",
            "                                 'announcement capped a tumultuous day that '\n",
            "                                 'saw Colombian-born businessman Alex Saab '\n",
            "                                 'placed on a US-bound plane in Cape Verde '\n",
            "                                 'after a 16-month fight by Maduro and his '\n",
            "                                 'allies, including Russia, who consider Saab '\n",
            "                                 'a Venezuelan diplomat.</p> <aside '\n",
            "                                 'class=\"element element-rich-link '\n",
            "                                 'element--thumbnail\"> <p> <span>Related: '\n",
            "                                 '</span><a '\n",
            "                                 'href=\"https://www.theguardian.com/us-news/2021/jul/08/venezuela-caracas-gun-battles-police-gangs\">Venezuela: '\n",
            "                                 'intense gun battles rage in Caracas between '\n",
            "                                 'gangs and police</a> </p> </aside>  <p>The '\n",
            "                                 'Venezuelan government in September named '\n",
            "                                 'Saab – who was arrested in June 2020 when '\n",
            "                                 'his plane stopped in Cape Verde to refuel – '\n",
            "                                 'as a member of its negotiating team in talks '\n",
            "                                 'with the opposition in Mexico, where the two '\n",
            "                                 'sides are looking to solve their political '\n",
            "                                 'crisis.</p> <p>Rodriguez, reading from a '\n",
            "                                 'statement, called the decision to suspend '\n",
            "                                 'negotiations “an expression of our deepest '\n",
            "                                 'protest against the brutal aggression '\n",
            "                                 'against the person and the investiture of '\n",
            "                                 'our delegate Alex Saab Moran”.</p> <p>The '\n",
            "                                 'leadership of Venezuela’s opposition did not '\n",
            "                                 'immediately respond to a request for '\n",
            "                                 'comment.</p> <p>Venezuela, in a Twitter post '\n",
            "                                 'by the ministry of communications, denounced '\n",
            "                                 'the extradition as a “kidnapping”.</p> '\n",
            "                                 '<p>Hours after Saab’s extradition, Venezuela '\n",
            "                                 'revoked the house arrest of six former '\n",
            "                                 'executives of refiner Citgo, a US subsidiary '\n",
            "                                 'of state oil company PDVSA, two sources with '\n",
            "                                 'knowledge of the situation and a family '\n",
            "                                 'member told Reuters.</p> <p>The US Justice '\n",
            "                                 'Department had charged Saab, who also has '\n",
            "                                 'Venezuelan citizenship, in 2019 in '\n",
            "                                 'connection with a bribery scheme to take '\n",
            "                                 'advantage of Venezuela’s state-controlled '\n",
            "                                 'exchange rate. The US also sanctioned him '\n",
            "                                 'for allegedly orchestrating a corruption '\n",
            "                                 'network that allowed Saab and Maduro to '\n",
            "                                 'profit from a state-run food subsidy '\n",
            "                                 'program.</p> <p>Saab faces up to 20 years in '\n",
            "                                 'prison. His lawyers called the US charges '\n",
            "                                 '“politically motivated”.</p> <p>Saab is '\n",
            "                                 'expected to make his initial appearance in '\n",
            "                                 'court on Monday in Miami, according to '\n",
            "                                 'Justice Department spokesperson Nicole Navas '\n",
            "                                 'Oxman, who expressed gratitude and '\n",
            "                                 'admiration to the government of Cape Verde '\n",
            "                                 'for its professionalism and “perseverance '\n",
            "                                 'with this complex case”.</p> <p>Cape Verde '\n",
            "                                 'national radio reported the extradition on '\n",
            "                                 'Saturday. The government of Cape Verde was '\n",
            "                                 'not immediately available to comment.</p> '\n",
            "                                 '<p>In a Twitter post, Colombian president '\n",
            "                                 'Ivan Duque called Saab’s extradition “a '\n",
            "                                 'triumph in the fight against drug '\n",
            "                                 'trafficking, money laundering and corruption '\n",
            "                                 'by the dictatorship of Nicolas Maduro”.</p> '\n",
            "                                 '<aside class=\"element element-rich-link '\n",
            "                                 'element--thumbnail\"> <p> <span>Related: '\n",
            "                                 '</span><a '\n",
            "                                 'href=\"https://www.theguardian.com/world/2021/sep/09/former-venezuelan-spymaster-arrested-by-madrid-police-on-us-drugs-charges\">Former '\n",
            "                                 'Venezuelan spymaster arrested by Madrid '\n",
            "                                 'police on US drugs charges</a> </p> '\n",
            "                                 '</aside>  <p>The previous Trump '\n",
            "                                 'administration had made Saab’s extradition a '\n",
            "                                 'top priority, at one point even sending a '\n",
            "                                 'Navy warship to the African archipelago to '\n",
            "                                 'keep an eye on the captive.</p> <p>The '\n",
            "                                 'former Citgo executives, who were arrested '\n",
            "                                 'in November 2017 after being summoned to a '\n",
            "                                 'meeting at PDVSA headquarters in Caracas, '\n",
            "                                 'were taken from their homes to one of the '\n",
            "                                 'headquarters of the intelligence police, two '\n",
            "                                 'sources said.</p> <p>The six former '\n",
            "                                 'executives had been released from jail and '\n",
            "                                 'put on house arrest in April.<br>The group '\n",
            "                                 'is made up of five naturalised US citizens '\n",
            "                                 'and one permanent resident. The US '\n",
            "                                 'government has repeatedly demanded their '\n",
            "                                 'release.</p> <p>“My father cannot be used as '\n",
            "                                 'a bargaining chip,” said Cristina Vadell, '\n",
            "                                 'daughter of former executive Tomeu Vadell. '\n",
            "                                 '“I’m worried for his health, even more given '\n",
            "                                 'the country’s coronavirus cases.”</p> <p>The '\n",
            "                                 'ministry of communications and the attorney '\n",
            "                                 'general’s office did not immediately respond '\n",
            "                                 'to requests for comment.</p> '\n",
            "                                 '<p><em>Associated Press and Reuters '\n",
            "                                 'contributed to this report</em></p>'},\n",
            "              'id': 'world/2021/oct/17/brutal-aggression-venezuela-halts-talks-with-opposition-after-envoy-extradited-to-us',\n",
            "              'isHosted': False,\n",
            "              'pillarId': 'pillar/news',\n",
            "              'pillarName': 'News',\n",
            "              'sectionId': 'world',\n",
            "              'sectionName': 'World news',\n",
            "              'type': 'article',\n",
            "              'webPublicationDate': '2021-10-17T03:31:01Z',\n",
            "              'webTitle': '‘Brutal aggression’: Venezuela halts talks with '\n",
            "                          'opposition after envoy extradited to US',\n",
            "              'webUrl': 'https://www.theguardian.com/world/2021/oct/17/brutal-aggression-venezuela-halts-talks-with-opposition-after-envoy-extradited-to-us'}],\n",
            " 'startIndex': 1,\n",
            " 'status': 'ok',\n",
            " 'total': 573,\n",
            " 'userTier': 'developer'}\n"
          ]
        }
      ]
    },
    {
      "cell_type": "code",
      "metadata": {
        "id": "WFNklBqQwHpc"
      },
      "source": [
        "#Now trying with The Guardian API"
      ],
      "execution_count": null,
      "outputs": []
    },
    {
      "cell_type": "code",
      "metadata": {
        "id": "f5nLn8Td0bHs",
        "colab": {
          "base_uri": "https://localhost:8080/"
        },
        "outputId": "2be00822-5f3a-48e6-9031-1e8ae1d5ce01"
      },
      "source": [
        "#from  https://towardsdatascience.com/scraping-news-and-articles-from-public-apis-with-python-be84521d85b9\n",
        "\n",
        "#This was the code that made everything work and now I'm using inside loop functions. \n",
        "\n",
        "#This the actual line of code that seems to be working to give even the text information from the articles. I would like to get to know the amount of articles I can retrieve. \n",
        "API_KEY = '189604c2-ac97-4295-9ccf-e3556505cff3'\n",
        "query = \"Venezuela | Chavez | Maduro\"\n",
        "query_fields = \"webTitle\"\n",
        "section = \"news\"\n",
        "page = \"1\"      #I have to give these two values, they are required otherwise it won't work\n",
        "page_size = \"1\"\n",
        "show_fields = 'body' #This one can be empty without trouble. \n",
        "from_date = \"1999-01-01\"\n",
        "to_date = \"2021-12-01\"\n",
        "query_url = f\"http://content.guardianapis.com/search?\" \\\n",
        "            f\"api-key={API_KEY}\" \\\n",
        "            f\"&q={query}\" \\\n",
        "            f\"&query-fields ={query_fields}\"\\\n",
        "            f\"&page={page}\"\\\n",
        "            f\"&page-size={page_size}\"\\\n",
        "            f\"&show-fields={show_fields}\"\\\n",
        "            f\"&from-date={from_date}\" \\\n",
        "            f\"&to-date={to_date}\"\\\n",
        "\n",
        "r = http.request('GET', query_url)\n",
        "print(r.status)\n",
        "#pprint(r.json())\n",
        "#print(f\"There are {r.json()['response']['pages'] } articles in this year \")\n",
        "#print(r.json()['response']['total'])\n",
        "\n",
        "data = json.loads(r.data.decode('utf-8'))\n",
        "#data['response']['total']\n",
        "data\n"
      ],
      "execution_count": null,
      "outputs": [
        {
          "output_type": "stream",
          "name": "stdout",
          "text": [
            "200\n"
          ]
        },
        {
          "output_type": "execute_result",
          "data": {
            "text/plain": [
              "{'response': {'currentPage': 1,\n",
              "  'orderBy': 'relevance',\n",
              "  'pageSize': 1,\n",
              "  'pages': 7636,\n",
              "  'results': [{'apiUrl': 'https://content.guardianapis.com/world/2021/oct/17/brutal-aggression-venezuela-halts-talks-with-opposition-after-envoy-extradited-to-us',\n",
              "    'fields': {'body': '<p> Venezuela’s government is halting negotiations with its opponents in retaliation for the extradition to the US of a close ally of president Nicolás Maduro, who prosecutors believe could be the most significant witness ever about corruption in the South American country.</p> <p>Jorge Rodríguez, who has been heading the government’s delegation, said his team wouldn’t travel to Mexico City for the next scheduled round of negotiations.</p> <p>The announcement capped a tumultuous day that saw Colombian-born businessman Alex Saab placed on a US-bound plane in Cape Verde after a 16-month fight by Maduro and his allies, including Russia, who consider Saab a Venezuelan diplomat.</p> <aside class=\"element element-rich-link element--thumbnail\"> <p> <span>Related: </span><a href=\"https://www.theguardian.com/us-news/2021/jul/08/venezuela-caracas-gun-battles-police-gangs\">Venezuela: intense gun battles rage in Caracas between gangs and police</a> </p> </aside>  <p>The Venezuelan government in September named Saab – who was arrested in June 2020 when his plane stopped in Cape Verde to refuel – as a member of its negotiating team in talks with the opposition in Mexico, where the two sides are looking to solve their political crisis.</p> <p>Rodriguez, reading from a statement, called the decision to suspend negotiations “an expression of our deepest protest against the brutal aggression against the person and the investiture of our delegate Alex Saab Moran”.</p> <p>The leadership of Venezuela’s opposition did not immediately respond to a request for comment.</p> <p>Venezuela, in a Twitter post by the ministry of communications, denounced the extradition as a “kidnapping”.</p> <p>Hours after Saab’s extradition, Venezuela revoked the house arrest of six former executives of refiner Citgo, a US subsidiary of state oil company PDVSA, two sources with knowledge of the situation and a family member told Reuters.</p> <p>The US Justice Department had charged Saab, who also has Venezuelan citizenship, in 2019 in connection with a bribery scheme to take advantage of Venezuela’s state-controlled exchange rate. The US also sanctioned him for allegedly orchestrating a corruption network that allowed Saab and Maduro to profit from a state-run food subsidy program.</p> <p>Saab faces up to 20 years in prison. His lawyers called the US charges “politically motivated”.</p> <p>Saab is expected to make his initial appearance in court on Monday in Miami, according to Justice Department spokesperson Nicole Navas Oxman, who expressed gratitude and admiration to the government of Cape Verde for its professionalism and “perseverance with this complex case”.</p> <p>Cape Verde national radio reported the extradition on Saturday. The government of Cape Verde was not immediately available to comment.</p> <p>In a Twitter post, Colombian president Ivan Duque called Saab’s extradition “a triumph in the fight against drug trafficking, money laundering and corruption by the dictatorship of Nicolas Maduro”.</p> <aside class=\"element element-rich-link element--thumbnail\"> <p> <span>Related: </span><a href=\"https://www.theguardian.com/world/2021/sep/09/former-venezuelan-spymaster-arrested-by-madrid-police-on-us-drugs-charges\">Former Venezuelan spymaster arrested by Madrid police on US drugs charges</a> </p> </aside>  <p>The previous Trump administration had made Saab’s extradition a top priority, at one point even sending a Navy warship to the African archipelago to keep an eye on the captive.</p> <p>The former Citgo executives, who were arrested in November 2017 after being summoned to a meeting at PDVSA headquarters in Caracas, were taken from their homes to one of the headquarters of the intelligence police, two sources said.</p> <p>The six former executives had been released from jail and put on house arrest in April.<br>The group is made up of five naturalised US citizens and one permanent resident. The US government has repeatedly demanded their release.</p> <p>“My father cannot be used as a bargaining chip,” said Cristina Vadell, daughter of former executive Tomeu Vadell. “I’m worried for his health, even more given the country’s coronavirus cases.”</p> <p>The ministry of communications and the attorney general’s office did not immediately respond to requests for comment.</p> <p><em>Associated Press and Reuters contributed to this report</em></p>'},\n",
              "    'id': 'world/2021/oct/17/brutal-aggression-venezuela-halts-talks-with-opposition-after-envoy-extradited-to-us',\n",
              "    'isHosted': False,\n",
              "    'pillarId': 'pillar/news',\n",
              "    'pillarName': 'News',\n",
              "    'sectionId': 'world',\n",
              "    'sectionName': 'World news',\n",
              "    'type': 'article',\n",
              "    'webPublicationDate': '2021-10-17T03:31:01Z',\n",
              "    'webTitle': '‘Brutal aggression’: Venezuela halts talks with opposition after envoy extradited to US',\n",
              "    'webUrl': 'https://www.theguardian.com/world/2021/oct/17/brutal-aggression-venezuela-halts-talks-with-opposition-after-envoy-extradited-to-us'}],\n",
              "  'startIndex': 1,\n",
              "  'status': 'ok',\n",
              "  'total': 7636,\n",
              "  'userTier': 'developer'}}"
            ]
          },
          "metadata": {},
          "execution_count": 13
        }
      ]
    },
    {
      "cell_type": "code",
      "metadata": {
        "id": "rUAf1Mu0QMC2"
      },
      "source": [
        "#12-11-2021. Today is when I'll be pulling the data iteratively and adding it to\n",
        "#the DataFrame"
      ],
      "execution_count": null,
      "outputs": []
    },
    {
      "cell_type": "code",
      "metadata": {
        "id": "trvXzW6lQYuY"
      },
      "source": [
        "#Things that won't change and can be outside of the loop\n",
        "API_KEY = '189604c2-ac97-4295-9ccf-e3556505cff3'\n",
        "query = \"Venezuela\"\n",
        "section = \"news\"\n",
        "show_fields = \"body\"\n",
        "page_size = \"100\"\n",
        "from_date = \"1999-01-01\"\n",
        "to_date = \"2005-12-31\"\n",
        "retrieved_articles = 0\n",
        "for i in range(1,40):\n",
        "  query_url = f\"http://content.guardianapis.com/search?\" \\\n",
        "              f\"api-key={API_KEY}\" \\\n",
        "              f\"&q={query}\" \\\n",
        "              f\"&page={i}\" f\"&page-size={page_size}\"\\\n",
        "              f\"&show-fields={show_fields}\"\\\n",
        "              f\"&from-date={from_date}\" \\\n",
        "              f\"&to-date={to_date}\"\\\n",
        "\n",
        "  r = http.request('GET', query_url)\n",
        "  time.sleep(3)\n",
        "  data = json.loads(r.data.decode('utf-8')) #Saving the articles in data\n",
        "  num_articles = data['response']['total'] #This is the total number of articles in the range of search. \n",
        "  #Here, I'm creating 'df' if it is the first time running the code, otherwise, I'll be concatenating the new data to the exisiting 'df'. \n",
        "  if i == 1:\n",
        "    df99_05 = pd.json_normalize(data['response'],record_path=['results'])\n",
        "  else:\n",
        "    df99_05 = pd.concat([df99_05,pd.json_normalize(data['response'],record_path=['results'])], axis=0)\n",
        "  retrieved_articles = int(page_size)*i\n",
        "  #Now, I'm gonna compare the number of articles retrieved versus the total of \n",
        "  #articles, to see if i should break the for loop prematurely\n",
        "  if retrieved_articles > num_articles:\n",
        "    break\n",
        "  \n",
        "\n",
        "  #Ok! Let's give it a try!\n",
        "\n",
        "  #It worked! I have the first dataframe from 1999 to 2005 (including it)."
      ],
      "execution_count": null,
      "outputs": []
    },
    {
      "cell_type": "code",
      "metadata": {
        "colab": {
          "base_uri": "https://localhost:8080/"
        },
        "id": "MwUdRtUSaLP_",
        "outputId": "92e9ac25-ecd4-449e-e8dd-3ce74a374e58"
      },
      "source": [
        "df99_05.info()"
      ],
      "execution_count": null,
      "outputs": [
        {
          "output_type": "stream",
          "name": "stdout",
          "text": [
            "<class 'pandas.core.frame.DataFrame'>\n",
            "Int64Index: 1029 entries, 0 to 28\n",
            "Data columns (total 12 columns):\n",
            " #   Column              Non-Null Count  Dtype \n",
            "---  ------              --------------  ----- \n",
            " 0   id                  1029 non-null   object\n",
            " 1   type                1029 non-null   object\n",
            " 2   sectionId           1029 non-null   object\n",
            " 3   sectionName         1029 non-null   object\n",
            " 4   webPublicationDate  1029 non-null   object\n",
            " 5   webTitle            1029 non-null   object\n",
            " 6   webUrl              1029 non-null   object\n",
            " 7   apiUrl              1029 non-null   object\n",
            " 8   isHosted            1029 non-null   bool  \n",
            " 9   pillarId            1006 non-null   object\n",
            " 10  pillarName          1006 non-null   object\n",
            " 11  fields.body         1029 non-null   object\n",
            "dtypes: bool(1), object(11)\n",
            "memory usage: 97.5+ KB\n"
          ]
        }
      ]
    },
    {
      "cell_type": "code",
      "metadata": {
        "colab": {
          "base_uri": "https://localhost:8080/"
        },
        "id": "n_tzlgptfdXL",
        "outputId": "eb0f3179-d8c1-4ca9-98b4-217df8948d1e"
      },
      "source": [
        "#Now that I have 1999 to 2005, gonna go from 2006 to 2016. \n",
        "API_KEY = '189604c2-ac97-4295-9ccf-e3556505cff3'\n",
        "query = \"Venezuela\"\n",
        "section = \"news\"\n",
        "show_fields = \"body\"\n",
        "page_size = \"100\"\n",
        "from_date = \"2006-01-01\"\n",
        "to_date = \"2016-12-31\"\n",
        "retrieved_articles = 0\n",
        "for i in range(1,50):\n",
        "  query_url = f\"http://content.guardianapis.com/search?\" \\\n",
        "              f\"api-key={API_KEY}\" \\\n",
        "              f\"&q={query}\" \\\n",
        "              f\"&page={i}\" f\"&page-size={page_size}\"\\\n",
        "              f\"&show-fields={show_fields}\"\\\n",
        "              f\"&from-date={from_date}\" \\\n",
        "              f\"&to-date={to_date}\"\\\n",
        "\n",
        "  r = http.request('GET', query_url)\n",
        "  time.sleep(2)\n",
        "  data = json.loads(r.data.decode('utf-8')) #Saving the articles in data\n",
        "  num_articles = data['response']['total'] #This is the total number of articles in the range of search. \n",
        "  #Here, I'm creating 'df' if it is the first time running the code, otherwise, I'll be concatenating the new data to the exisiting 'df'. \n",
        "  if i == 1:\n",
        "    df06_16 = pd.json_normalize(data['response'],record_path=['results'])\n",
        "  else:\n",
        "    df06_16 = pd.concat([df06_16,pd.json_normalize(data['response'],record_path=['results'])], axis=0)\n",
        "  retrieved_articles = int(page_size)*i\n",
        "  #Now, I'm gonna compare the number of articles retrieved versus the total of \n",
        "  #articles, to see if i should break the for loop prematurely\n",
        "  if retrieved_articles > num_articles:\n",
        "    break\n",
        "print (num_articles)\n",
        "  "
      ],
      "execution_count": null,
      "outputs": [
        {
          "output_type": "stream",
          "name": "stdout",
          "text": [
            "3840\n"
          ]
        }
      ]
    },
    {
      "cell_type": "code",
      "metadata": {
        "colab": {
          "base_uri": "https://localhost:8080/"
        },
        "id": "lQWbS23OiFlr",
        "outputId": "b32657b5-bd76-4b42-87d7-5f210bf1b745"
      },
      "source": [
        "df06_16.info()"
      ],
      "execution_count": null,
      "outputs": [
        {
          "output_type": "stream",
          "name": "stdout",
          "text": [
            "<class 'pandas.core.frame.DataFrame'>\n",
            "Int64Index: 3840 entries, 0 to 39\n",
            "Data columns (total 12 columns):\n",
            " #   Column              Non-Null Count  Dtype \n",
            "---  ------              --------------  ----- \n",
            " 0   id                  3840 non-null   object\n",
            " 1   type                3840 non-null   object\n",
            " 2   sectionId           3840 non-null   object\n",
            " 3   sectionName         3840 non-null   object\n",
            " 4   webPublicationDate  3840 non-null   object\n",
            " 5   webTitle            3840 non-null   object\n",
            " 6   webUrl              3840 non-null   object\n",
            " 7   apiUrl              3840 non-null   object\n",
            " 8   isHosted            3840 non-null   bool  \n",
            " 9   pillarId            3767 non-null   object\n",
            " 10  pillarName          3767 non-null   object\n",
            " 11  fields.body         3840 non-null   object\n",
            "dtypes: bool(1), object(11)\n",
            "memory usage: 363.8+ KB\n"
          ]
        }
      ]
    },
    {
      "cell_type": "code",
      "metadata": {
        "colab": {
          "base_uri": "https://localhost:8080/"
        },
        "id": "xk8dB-emts0V",
        "outputId": "537b147a-ff35-4163-828b-8eef9fbaf53f"
      },
      "source": [
        "#Gonna go from 2017 to december 1st 2021.\n",
        "API_KEY = '189604c2-ac97-4295-9ccf-e3556505cff3'\n",
        "query = \"Venezuela\"\n",
        "section = \"news\"\n",
        "show_fields = \"body\"\n",
        "page_size = \"100\"\n",
        "from_date = \"2017-01-01\"\n",
        "to_date = \"2021-12-01\"\n",
        "retrieved_articles = 0\n",
        "for i in range(1,50):\n",
        "  query_url = f\"http://content.guardianapis.com/search?\" \\\n",
        "              f\"api-key={API_KEY}\" \\\n",
        "              f\"&q={query}\" \\\n",
        "              f\"&page={i}\" f\"&page-size={page_size}\"\\\n",
        "              f\"&show-fields={show_fields}\"\\\n",
        "              f\"&from-date={from_date}\" \\\n",
        "              f\"&to-date={to_date}\"\\\n",
        "\n",
        "  r = http.request('GET', query_url)\n",
        "  time.sleep(2)\n",
        "  data = json.loads(r.data.decode('utf-8')) #Saving the articles in data\n",
        "  num_articles = data['response']['total'] #This is the total number of articles in the range of search. \n",
        "  #Here, I'm creating 'df' if it is the first time running the code, otherwise, I'll be concatenating the new data to the exisiting 'df'. \n",
        "  if i == 1:\n",
        "    df17_21 = pd.json_normalize(data['response'],record_path=['results'])\n",
        "  else:\n",
        "    df17_21 = pd.concat([df17_21,pd.json_normalize(data['response'],record_path=['results'])], axis=0)\n",
        "  retrieved_articles = int(page_size)*i\n",
        "  #Now, I'm gonna compare the number of articles retrieved versus the total of \n",
        "  #articles, to see if i should break the for loop prematurely\n",
        "  if retrieved_articles > num_articles:\n",
        "    break\n",
        "print (num_articles)"
      ],
      "execution_count": null,
      "outputs": [
        {
          "output_type": "stream",
          "name": "stdout",
          "text": [
            "1693\n"
          ]
        }
      ]
    },
    {
      "cell_type": "code",
      "metadata": {
        "colab": {
          "base_uri": "https://localhost:8080/"
        },
        "id": "7lC2CmyquFjy",
        "outputId": "da8692e5-8376-46e0-e3ae-6f25425c5f91"
      },
      "source": [
        "df17_21.info()"
      ],
      "execution_count": null,
      "outputs": [
        {
          "output_type": "stream",
          "name": "stdout",
          "text": [
            "<class 'pandas.core.frame.DataFrame'>\n",
            "Int64Index: 1693 entries, 0 to 92\n",
            "Data columns (total 12 columns):\n",
            " #   Column              Non-Null Count  Dtype \n",
            "---  ------              --------------  ----- \n",
            " 0   id                  1693 non-null   object\n",
            " 1   type                1693 non-null   object\n",
            " 2   sectionId           1693 non-null   object\n",
            " 3   sectionName         1693 non-null   object\n",
            " 4   webPublicationDate  1693 non-null   object\n",
            " 5   webTitle            1693 non-null   object\n",
            " 6   webUrl              1693 non-null   object\n",
            " 7   apiUrl              1693 non-null   object\n",
            " 8   isHosted            1693 non-null   bool  \n",
            " 9   pillarId            1677 non-null   object\n",
            " 10  pillarName          1677 non-null   object\n",
            " 11  fields.body         1693 non-null   object\n",
            "dtypes: bool(1), object(11)\n",
            "memory usage: 160.4+ KB\n"
          ]
        }
      ]
    },
    {
      "cell_type": "code",
      "metadata": {
        "colab": {
          "base_uri": "https://localhost:8080/",
          "height": 530
        },
        "id": "SZ73wc13uSxn",
        "outputId": "1df53b4c-b307-4530-827f-3112be04cfe3"
      },
      "source": [
        "df17_21.tail()"
      ],
      "execution_count": null,
      "outputs": [
        {
          "output_type": "execute_result",
          "data": {
            "text/html": [
              "<div>\n",
              "<style scoped>\n",
              "    .dataframe tbody tr th:only-of-type {\n",
              "        vertical-align: middle;\n",
              "    }\n",
              "\n",
              "    .dataframe tbody tr th {\n",
              "        vertical-align: top;\n",
              "    }\n",
              "\n",
              "    .dataframe thead th {\n",
              "        text-align: right;\n",
              "    }\n",
              "</style>\n",
              "<table border=\"1\" class=\"dataframe\">\n",
              "  <thead>\n",
              "    <tr style=\"text-align: right;\">\n",
              "      <th></th>\n",
              "      <th>id</th>\n",
              "      <th>type</th>\n",
              "      <th>sectionId</th>\n",
              "      <th>sectionName</th>\n",
              "      <th>webPublicationDate</th>\n",
              "      <th>webTitle</th>\n",
              "      <th>webUrl</th>\n",
              "      <th>apiUrl</th>\n",
              "      <th>isHosted</th>\n",
              "      <th>pillarId</th>\n",
              "      <th>pillarName</th>\n",
              "      <th>fields.body</th>\n",
              "    </tr>\n",
              "  </thead>\n",
              "  <tbody>\n",
              "    <tr>\n",
              "      <th>88</th>\n",
              "      <td>politics/2017/feb/14/will-trump-presidency-fin...</td>\n",
              "      <td>article</td>\n",
              "      <td>politics</td>\n",
              "      <td>Politics</td>\n",
              "      <td>2017-02-14T06:00:34Z</td>\n",
              "      <td>Will Trump’s presidency finally kill the myth ...</td>\n",
              "      <td>https://www.theguardian.com/politics/2017/feb/...</td>\n",
              "      <td>https://content.guardianapis.com/politics/2017...</td>\n",
              "      <td>False</td>\n",
              "      <td>pillar/news</td>\n",
              "      <td>News</td>\n",
              "      <td>&lt;p&gt;At the end of January, Theresa May rushed t...</td>\n",
              "    </tr>\n",
              "    <tr>\n",
              "      <th>89</th>\n",
              "      <td>politics/blog/live/2017/oct/11/pmqs-theresa-ma...</td>\n",
              "      <td>liveblog</td>\n",
              "      <td>politics</td>\n",
              "      <td>Politics</td>\n",
              "      <td>2017-10-11T16:10:23Z</td>\n",
              "      <td>May rules out extending Brexit deadline after ...</td>\n",
              "      <td>https://www.theguardian.com/politics/blog/live...</td>\n",
              "      <td>https://content.guardianapis.com/politics/blog...</td>\n",
              "      <td>False</td>\n",
              "      <td>pillar/news</td>\n",
              "      <td>News</td>\n",
              "      <td>&lt;div id=\"block-59de3c4de4b0d247a08b9c04\" class...</td>\n",
              "    </tr>\n",
              "    <tr>\n",
              "      <th>90</th>\n",
              "      <td>world/live/2017/aug/18/barcelona-cambrils-terr...</td>\n",
              "      <td>liveblog</td>\n",
              "      <td>world</td>\n",
              "      <td>World news</td>\n",
              "      <td>2017-08-19T04:47:43Z</td>\n",
              "      <td>Moussa Oukabir, 17, confirmed as one of five a...</td>\n",
              "      <td>https://www.theguardian.com/world/live/2017/au...</td>\n",
              "      <td>https://content.guardianapis.com/world/live/20...</td>\n",
              "      <td>False</td>\n",
              "      <td>pillar/news</td>\n",
              "      <td>News</td>\n",
              "      <td>&lt;div id=\"block-5997b9f4e4b03a2d9a1a15fc\" class...</td>\n",
              "    </tr>\n",
              "    <tr>\n",
              "      <th>91</th>\n",
              "      <td>politics/blog/live/2017/sep/24/labour-conferen...</td>\n",
              "      <td>liveblog</td>\n",
              "      <td>politics</td>\n",
              "      <td>Politics</td>\n",
              "      <td>2017-09-24T18:01:13Z</td>\n",
              "      <td>Labour conference rules out contentious vote o...</td>\n",
              "      <td>https://www.theguardian.com/politics/blog/live...</td>\n",
              "      <td>https://content.guardianapis.com/politics/blog...</td>\n",
              "      <td>False</td>\n",
              "      <td>pillar/news</td>\n",
              "      <td>News</td>\n",
              "      <td>&lt;div id=\"block-59c7ed4de4b0c2f349fe3ab3\" class...</td>\n",
              "    </tr>\n",
              "    <tr>\n",
              "      <th>92</th>\n",
              "      <td>politics/blog/live/2017/sep/25/labour-conferen...</td>\n",
              "      <td>liveblog</td>\n",
              "      <td>politics</td>\n",
              "      <td>Politics</td>\n",
              "      <td>2017-09-25T16:15:27Z</td>\n",
              "      <td>CBI says Labour nationalisation plans 'will se...</td>\n",
              "      <td>https://www.theguardian.com/politics/blog/live...</td>\n",
              "      <td>https://content.guardianapis.com/politics/blog...</td>\n",
              "      <td>False</td>\n",
              "      <td>pillar/news</td>\n",
              "      <td>News</td>\n",
              "      <td>&lt;div id=\"block-59c92458e4b024b286a9aef5\" class...</td>\n",
              "    </tr>\n",
              "  </tbody>\n",
              "</table>\n",
              "</div>"
            ],
            "text/plain": [
              "                                                   id  ...                                        fields.body\n",
              "88  politics/2017/feb/14/will-trump-presidency-fin...  ...  <p>At the end of January, Theresa May rushed t...\n",
              "89  politics/blog/live/2017/oct/11/pmqs-theresa-ma...  ...  <div id=\"block-59de3c4de4b0d247a08b9c04\" class...\n",
              "90  world/live/2017/aug/18/barcelona-cambrils-terr...  ...  <div id=\"block-5997b9f4e4b03a2d9a1a15fc\" class...\n",
              "91  politics/blog/live/2017/sep/24/labour-conferen...  ...  <div id=\"block-59c7ed4de4b0c2f349fe3ab3\" class...\n",
              "92  politics/blog/live/2017/sep/25/labour-conferen...  ...  <div id=\"block-59c92458e4b024b286a9aef5\" class...\n",
              "\n",
              "[5 rows x 12 columns]"
            ]
          },
          "metadata": {},
          "execution_count": 79
        }
      ]
    },
    {
      "cell_type": "code",
      "metadata": {
        "id": "UOlXSBGzzQvF"
      },
      "source": [
        "#Concatenating all of the data into a final DF and eventually saving it locally\n",
        "frames = [df99_05, df06_16, df17_21]\n",
        "result = pd.concat(frames, axis=0)"
      ],
      "execution_count": null,
      "outputs": []
    },
    {
      "cell_type": "code",
      "metadata": {
        "colab": {
          "base_uri": "https://localhost:8080/",
          "height": 34
        },
        "id": "uWGUFpSA0fEK",
        "outputId": "ec6be805-8a36-4564-c164-2051902cfee2"
      },
      "source": [
        "result.to_csv('news.csv') \n",
        "files.download('news.csv')"
      ],
      "execution_count": null,
      "outputs": [
        {
          "output_type": "display_data",
          "data": {
            "application/javascript": [
              "\n",
              "    async function download(id, filename, size) {\n",
              "      if (!google.colab.kernel.accessAllowed) {\n",
              "        return;\n",
              "      }\n",
              "      const div = document.createElement('div');\n",
              "      const label = document.createElement('label');\n",
              "      label.textContent = `Downloading \"${filename}\": `;\n",
              "      div.appendChild(label);\n",
              "      const progress = document.createElement('progress');\n",
              "      progress.max = size;\n",
              "      div.appendChild(progress);\n",
              "      document.body.appendChild(div);\n",
              "\n",
              "      const buffers = [];\n",
              "      let downloaded = 0;\n",
              "\n",
              "      const channel = await google.colab.kernel.comms.open(id);\n",
              "      // Send a message to notify the kernel that we're ready.\n",
              "      channel.send({})\n",
              "\n",
              "      for await (const message of channel.messages) {\n",
              "        // Send a message to notify the kernel that we're ready.\n",
              "        channel.send({})\n",
              "        if (message.buffers) {\n",
              "          for (const buffer of message.buffers) {\n",
              "            buffers.push(buffer);\n",
              "            downloaded += buffer.byteLength;\n",
              "            progress.value = downloaded;\n",
              "          }\n",
              "        }\n",
              "      }\n",
              "      const blob = new Blob(buffers, {type: 'application/binary'});\n",
              "      const a = document.createElement('a');\n",
              "      a.href = window.URL.createObjectURL(blob);\n",
              "      a.download = filename;\n",
              "      div.appendChild(a);\n",
              "      a.click();\n",
              "      div.remove();\n",
              "    }\n",
              "  "
            ],
            "text/plain": [
              "<IPython.core.display.Javascript object>"
            ]
          },
          "metadata": {}
        },
        {
          "output_type": "display_data",
          "data": {
            "application/javascript": [
              "download(\"download_157c3301-dde8-4fa5-a9f0-d10c223f4b45\", \"news.csv\", 90614266)"
            ],
            "text/plain": [
              "<IPython.core.display.Javascript object>"
            ]
          },
          "metadata": {}
        }
      ]
    },
    {
      "cell_type": "code",
      "metadata": {
        "id": "4exSILuOJto4"
      },
      "source": [
        "#Everytime I want to run this code, I'll have to upload the news.csv file "
      ],
      "execution_count": null,
      "outputs": []
    },
    {
      "cell_type": "code",
      "metadata": {
        "id": "d5gCCXnV1TdG"
      },
      "source": [
        "result = pd.read_csv('./news.csv')"
      ],
      "execution_count": null,
      "outputs": []
    },
    {
      "cell_type": "code",
      "metadata": {
        "colab": {
          "base_uri": "https://localhost:8080/",
          "height": 400
        },
        "id": "wKg8ICNf1kC5",
        "outputId": "3ab60e4f-c302-4daa-8d88-a9a41148f5bb"
      },
      "source": [
        "result.head(3)"
      ],
      "execution_count": null,
      "outputs": [
        {
          "output_type": "execute_result",
          "data": {
            "text/html": [
              "<div>\n",
              "<style scoped>\n",
              "    .dataframe tbody tr th:only-of-type {\n",
              "        vertical-align: middle;\n",
              "    }\n",
              "\n",
              "    .dataframe tbody tr th {\n",
              "        vertical-align: top;\n",
              "    }\n",
              "\n",
              "    .dataframe thead th {\n",
              "        text-align: right;\n",
              "    }\n",
              "</style>\n",
              "<table border=\"1\" class=\"dataframe\">\n",
              "  <thead>\n",
              "    <tr style=\"text-align: right;\">\n",
              "      <th></th>\n",
              "      <th>Unnamed: 0</th>\n",
              "      <th>id</th>\n",
              "      <th>type</th>\n",
              "      <th>sectionId</th>\n",
              "      <th>sectionName</th>\n",
              "      <th>webPublicationDate</th>\n",
              "      <th>webTitle</th>\n",
              "      <th>webUrl</th>\n",
              "      <th>apiUrl</th>\n",
              "      <th>isHosted</th>\n",
              "      <th>pillarId</th>\n",
              "      <th>pillarName</th>\n",
              "      <th>fields.body</th>\n",
              "    </tr>\n",
              "  </thead>\n",
              "  <tbody>\n",
              "    <tr>\n",
              "      <th>0</th>\n",
              "      <td>0</td>\n",
              "      <td>world/2005/aug/30/venezuela.usa</td>\n",
              "      <td>article</td>\n",
              "      <td>world</td>\n",
              "      <td>World news</td>\n",
              "      <td>2005-08-29T23:11:17Z</td>\n",
              "      <td>Venezuela threatens legal action</td>\n",
              "      <td>https://www.theguardian.com/world/2005/aug/30/...</td>\n",
              "      <td>https://content.guardianapis.com/world/2005/au...</td>\n",
              "      <td>False</td>\n",
              "      <td>pillar/news</td>\n",
              "      <td>News</td>\n",
              "      <td>&lt;p&gt;Venezuela said yesterday that it might ask ...</td>\n",
              "    </tr>\n",
              "    <tr>\n",
              "      <th>1</th>\n",
              "      <td>1</td>\n",
              "      <td>world/2005/dec/08/usa.venezuela</td>\n",
              "      <td>article</td>\n",
              "      <td>world</td>\n",
              "      <td>World news</td>\n",
              "      <td>2005-12-08T00:09:37Z</td>\n",
              "      <td>Cheap fuel for the Bronx, with love from Venez...</td>\n",
              "      <td>https://www.theguardian.com/world/2005/dec/08/...</td>\n",
              "      <td>https://content.guardianapis.com/world/2005/de...</td>\n",
              "      <td>False</td>\n",
              "      <td>pillar/news</td>\n",
              "      <td>News</td>\n",
              "      <td>&lt;p&gt;One of New York city's poorest neighbourhoo...</td>\n",
              "    </tr>\n",
              "    <tr>\n",
              "      <th>2</th>\n",
              "      <td>2</td>\n",
              "      <td>business/2005/aug/18/theairlineindustry.venezuela</td>\n",
              "      <td>article</td>\n",
              "      <td>business</td>\n",
              "      <td>Business</td>\n",
              "      <td>2005-08-18T12:28:02Z</td>\n",
              "      <td>Airline's flights suspended after Venezuela crash</td>\n",
              "      <td>https://www.theguardian.com/business/2005/aug/...</td>\n",
              "      <td>https://content.guardianapis.com/business/2005...</td>\n",
              "      <td>False</td>\n",
              "      <td>pillar/news</td>\n",
              "      <td>News</td>\n",
              "      <td>&lt;p&gt;The airline that owned the charter plane th...</td>\n",
              "    </tr>\n",
              "  </tbody>\n",
              "</table>\n",
              "</div>"
            ],
            "text/plain": [
              "   Unnamed: 0  ...                                        fields.body\n",
              "0           0  ...  <p>Venezuela said yesterday that it might ask ...\n",
              "1           1  ...  <p>One of New York city's poorest neighbourhoo...\n",
              "2           2  ...  <p>The airline that owned the charter plane th...\n",
              "\n",
              "[3 rows x 13 columns]"
            ]
          },
          "metadata": {},
          "execution_count": 9
        }
      ]
    },
    {
      "cell_type": "code",
      "metadata": {
        "colab": {
          "base_uri": "https://localhost:8080/",
          "height": 140
        },
        "id": "ohcbSR3911tz",
        "outputId": "0e446d29-9b94-4503-8632-af459e9f3fc7"
      },
      "source": [
        "result.iloc[6499]['fields.body']"
      ],
      "execution_count": null,
      "outputs": [
        {
          "output_type": "execute_result",
          "data": {
            "application/vnd.google.colaboratory.intrinsic+json": {
              "type": "string"
            },
            "text/plain": [
              "'<p>When The Spanish Civil War appeared in 1961, it quickly became established in the popular mind as <em>the</em> book on the conflict. Eulogistic reviews from liberal pundits such as Cyril Connolly and <a href=\"https://www.theguardian.com/politics/2010/mar/03/michael-foot-obituary\">Michael Foot</a> saw it widely accepted as a classic, and it went on to sell nearly a million copies throughout the world.</p> <p>At the time he embarked on writing it, Hugh Thomas, who has died aged 85, did not know any Spanish. But he set about reading voraciously, and ruthlessly picking the brains of innumerable participants on both sides, as well as of the war correspondent Henry Buckley and the great expert on the subject, Herbert Southworth. Not only was the resulting work presented in a colourful and highly readable style, but it also marked the first attempt at an objective general view of a struggle that still excited the passions of right and left.</p> <p>Although banned in <a href=\"https://www.theguardian.com/world/francisco-franco\">General Francisco Franco</a>’s Spain, the translation by an exiled Spanish publishing house in Paris, <a href=\"http://www.ruedoiberico.org/intro/\">Ruedo Ibérico</a>, became a clandestine bestseller. The dictator’s propagandists had never ceased proclaiming that the war had been a crusade against communist barbarism. However, the impact of foreign works by Thomas and Southworth, smuggled in despite the efforts of the frontier police, entirely discredited the standard regime line. An example of official efforts to stifle the impact of Hugh’s book was the arrest of Octavio Jordá, a 31-year old working-class Valencian, at the French frontier with two suitcases packed with copies of it. At his subsequent trial, Jordá was found guilty of “illegal propaganda” and “spreading communism”, and sentenced to two years’ imprisonment.</p>  <figure class=\"element element-image element--supporting\" data-media-id=\"411f01cc41b68fe96d97f70b9f94e1465efc24ba\"> <img src=\"https://media.guim.co.uk/411f01cc41b68fe96d97f70b9f94e1465efc24ba/0_0_734_1107/663.jpg\" alt=\"The Spanish Civil War by Hugh Thomas.\" width=\"663\" height=\"1000\" class=\"gu-image\" /> <figcaption> <span class=\"element-image__caption\">The Spanish Civil War by Hugh Thomas.</span> <span class=\"element-image__credit\">Photograph: Penguin</span> </figcaption> </figure>  <p>In response to Thomas and Southworth, Franco’s then minister of information, <a href=\"https://www.theguardian.com/world/2012/jan/17/manuel-fraga\">Manuel Fraga</a>, set up an official centre for civil war studies to streamline crusade historiography. It was too late. So successful was the book that even Franco himself was regularly asked to comment on statements in it. The Caudillo largely dismissed it all as lies, denying that civilians were killed when he bombed Barcelona or that there were mass executions. The book’s notoriety led to colossal sales after the dictator’s death in 1975. In frustration, the centre’s director, Ricardo de la Cierva, called it a “vade mecum for simpletons”.</p> <p>The degree of financial security that followed from the book’s success enabled Hugh in 1962 to marry Vanessa Jebb, the daughter of the diplomat Sir Gladwyn Jebb, later Lord Gladwyn, for whom he had worked in the British embassy in Paris. She was at the centre of the social circle that met at their home in Ladbroke Grove, west London, and they had three children, Inigo, Isambard and Isabella.</p> <p>In 1966 Hugh was made professor of history at the University of Reading. Although a thoroughly entertaining and popular teacher, he was never comfortable with the demands of academic life, and resigned in 1976. Whether in intellectual or social circles, he could be charming and generous, but he was quite thin-skinned.</p> <p>Even before going to Reading, Hugh had begun research for his gigantic history Cuba, Or the Pursuit of Freedom (1971). At nearly 1,700 pages, it was not a success. Its long early survey of the island’s history, beginning with the British occupation of Havana, was found hard going by many readers.</p> <p>Only when it reached <a href=\"https://www.theguardian.com/world/2016/nov/26/fidel-castro-obituary\">Fidel Castro</a>’s revolution did it match the confident sweep of the Spanish book. After Cuba, he was commissioned to do a similar job on Venezuela, but never really got started. Moreover, he felt constrained after spending, as he put it, “seven years in the study of a short period in the history of a small society and it is, therefore, natural that I should wish to write on a more generous scale”. The result was An Unfinished History of the World (1979).</p> <p>At the behest of his friend <a href=\"https://www.theguardian.com/news/2003/jan/06/guardianobituaries.obituaries\">Roy Jenkins</a>, he had a second unsuccessful attempt to secure a Labour seat (he had been the prospective candidate for Ruislip and Northwood in 1957-58) but was thwarted by members of the Militant Tendency on the selection committee.</p> <p>Thereafter, if not in consequence, he publicly declared his abandonment of the Labour party and his embrace of Thatcherite free-market economics. He became one of Margaret Thatcher’s unofficial advisers and was made chairman of her thinktank, the Centre for Policy Studies, in succession to Keith Joseph. In line with his new political vocation, when An Unfinished History of the World was awarded a £7,500 Arts Council literary award in April 1980, he refused to take the cheque. Saying that his bank manager would be aghast, he made the gesture on the grounds that the final chapters of the book argued that “the intervention of the state [leads] to the decay of civilisation and the collapse of societies”.</p> <p>In History, Capitalism and Freedom, a pamphlet published in 1979 with a foreword by Thatcher, he argued that the decline of Britain was the consequence of the encroachment of the state.</p> <p>At the Centre for Policy Studies, he tried to help <a href=\"https://www.theguardian.com/politics/1994/dec/12/obituaries\">Joseph</a>, now education secretary, to re-establish a sense of the glories of English history that they both believed had been obscured by the works of <a href=\"https://www.theguardian.com/books/2012/oct/01/eric-hobsbawm\">Eric Hobsbawm</a>, <a href=\"https://www.theguardian.com/books/2013/mar/06/ep-thompson-unconventional-historian\">EP Thompson</a> and others. It was a project that belied his own works on Spain and Cuba and led to accusations that a first-class historian was trying to turn a subject on which he had never worked into “hollow, pseudo-patriotic indoctrination”. In his pamphlet Our Place in the World (1983), he attributed the decline of Britain to the transformation of “the old England of individualism and laissez-faire into an England organised from above”.</p> <p>In 1981 he was made Lord Thomas of Swynnerton and there were rumours that he might be sent to Madrid as ambassador, although the deficiencies of his Spanish might have made it difficult.</p> <p>Born in Windsor, Berkshire, Hugh was the only son of Hugh Thomas, a British colonial officer based in what was then the Gold Coast (now Ghana), and his wife Margery (nee Swynnerton), who worked in the Colonial Nursing Service. His uncle, <a href=\"http://www.britishempire.co.uk/maproom/nyasaland/shentonwhiteleggethomas.htm\">Sir Shenton Thomas</a>, was the governor of Singapore who surrendered to the Japanese in 1942.</p> <p>From Sherborne school in Dorset, Hugh went to Queens’ College, Cambridge, where he studied history, not very assiduously, but did attain prominence as a swashbuckling Tory president of the Union. After graduating, he led a champagne-fuelled life as a man-about-London. He was recruited for the Paris embassy thanks, it was said, to the influence of <a href=\"https://www.britannica.com/biography/Harold-Nicolson\">Harold Nicolson</a>, a friend of Jebb’s. He left in early 1957, claiming that he did so because of disgust with the British role in the Suez crisis. However, he may have jumped before he was pushed. Rumours swirled around about important documents inadvertently left on the Metro and/or an affair with the wife of a French minister. The publicity given to his clash with the Foreign Office made him an attractive catch for the Labour party, and he edited The Establishment (1959), a collection of essays attacking the political elite.</p>  <figure class=\"element element-image element--supporting\" data-media-id=\"c9076c5bebea7ec8ef5823a447cb34c3c1a58421\"> <img src=\"https://media.guim.co.uk/c9076c5bebea7ec8ef5823a447cb34c3c1a58421/0_0_450_705/319.jpg\" alt=\"Rivers of Gold: The Rise of the Spanish Empire by Hugh Thomas.\" width=\"319\" height=\"500\" class=\"gu-image\" /> <figcaption> <span class=\"element-image__caption\">Rivers of Gold: The Rise of the Spanish Empire by Hugh Thomas.</span> <span class=\"element-image__credit\">Photograph: Penguin</span> </figcaption> </figure>  <p>However, he still needed an income. A brief stint as a lecturer at the Royal Military Academy at Sandhurst (1957) did not satisfy him. He tried his hand as a novelist, but The Oxygen Age (1958) did not sell. However, the previous year’s equally unsuccessful novel, The World’s Game, would change his life.</p> <p>Dedicated to Jebb’s friend Nancy Mitford, it cemented an already key connection. More importantly, it had been read by the gentleman publisher <a href=\"https://www.theguardian.com/news/2000/mar/04/guardianobituaries\">James MacGibbon</a>, then a literary agent with Curtis Brown. MacGibbon invited him to lunch and told him that the scene in his novel where the hero went to fight in Israel had reminded him of volunteers in the Spanish civil war. Remarking that the time was ripe for a broad survey of the conflict, he urged Hugh to make a pitch. It was taken up by Eyre and Spottiswood.</p> <p>After Thatcher’s resignation in 1990, Hugh was increasingly disillusioned by what he saw as a festering Euroscepticism. Finally, in November 1997, he crossed the floor of the Lords to the Liberal Democrat benches. He announced: “I have resigned the Conservative whip in the House of Lords because since the election of May 1st last, its attitudes towards the European Union as it is presently constituted, and as it is likely to develop, have become ever more critical and sceptical.” Once he was free of the politics that had never really fulfilled him, he returned to his real metier and produced a series of flamboyant works on imperial Spain.</p> <p>The sparkling narrative drive of his work on Spain was carried over first into The Conquest of Mexico (1993) and then The Slave Trade: The History of the Atlantic Slave Trade 1440–1870 (1997). They were followed by his crowning achievement, a trilogy about the Spanish empire: Rivers of Gold (2003); The Golden Age: The Spanish Empire of Charles V (2010); and World Without End: The Global Empire of Philip II (2014). When I last spoke to him, a couple of weeks ago, he was fulminating about Brexit.</p> <p>He is survived by Vanessa and his children.</p> <p>• Hugh Swynnerton Thomas, Lord Thomas of Swynnerton, historian, born 21 October 1931; died 7 May 2017</p> <ul> <li>This article was amended on 18 May 2017. Lord Thomas of Swynnerton died on 7 May rather than 6 May.</li> </ul>'"
            ]
          },
          "metadata": {},
          "execution_count": 10
        }
      ]
    },
    {
      "cell_type": "code",
      "metadata": {
        "colab": {
          "base_uri": "https://localhost:8080/"
        },
        "id": "2qVTc42M5zgx",
        "outputId": "ddb84f68-cbff-497d-ed61-0bebba5de33e"
      },
      "source": [
        "result.columns"
      ],
      "execution_count": null,
      "outputs": [
        {
          "output_type": "execute_result",
          "data": {
            "text/plain": [
              "Index(['Unnamed: 0', 'id', 'type', 'sectionId', 'sectionName',\n",
              "       'webPublicationDate', 'webTitle', 'webUrl', 'apiUrl', 'isHosted',\n",
              "       'pillarId', 'pillarName', 'fields.body'],\n",
              "      dtype='object')"
            ]
          },
          "metadata": {},
          "execution_count": 27
        }
      ]
    },
    {
      "cell_type": "code",
      "metadata": {
        "id": "3JSOH6-25qEg"
      },
      "source": [
        "#As there are a lot of articles that mention Venezuela too briefly, I'll focus just on those that include Venezuela in the title.\n",
        "titleve = result[result['webTitle'].str.contains(\"Venezuela\")]"
      ],
      "execution_count": null,
      "outputs": []
    },
    {
      "cell_type": "code",
      "metadata": {
        "colab": {
          "base_uri": "https://localhost:8080/",
          "height": 284
        },
        "id": "biBJNaWJJF0D",
        "outputId": "cc6b17ec-c663-4feb-bc39-4d2f82a875da"
      },
      "source": [
        "titleve.head(2)"
      ],
      "execution_count": null,
      "outputs": [
        {
          "output_type": "execute_result",
          "data": {
            "text/html": [
              "<div>\n",
              "<style scoped>\n",
              "    .dataframe tbody tr th:only-of-type {\n",
              "        vertical-align: middle;\n",
              "    }\n",
              "\n",
              "    .dataframe tbody tr th {\n",
              "        vertical-align: top;\n",
              "    }\n",
              "\n",
              "    .dataframe thead th {\n",
              "        text-align: right;\n",
              "    }\n",
              "</style>\n",
              "<table border=\"1\" class=\"dataframe\">\n",
              "  <thead>\n",
              "    <tr style=\"text-align: right;\">\n",
              "      <th></th>\n",
              "      <th>Unnamed: 0</th>\n",
              "      <th>id</th>\n",
              "      <th>type</th>\n",
              "      <th>sectionId</th>\n",
              "      <th>sectionName</th>\n",
              "      <th>webPublicationDate</th>\n",
              "      <th>webTitle</th>\n",
              "      <th>webUrl</th>\n",
              "      <th>apiUrl</th>\n",
              "      <th>isHosted</th>\n",
              "      <th>pillarId</th>\n",
              "      <th>pillarName</th>\n",
              "      <th>fields.body</th>\n",
              "    </tr>\n",
              "  </thead>\n",
              "  <tbody>\n",
              "    <tr>\n",
              "      <th>0</th>\n",
              "      <td>0</td>\n",
              "      <td>world/2005/aug/30/venezuela.usa</td>\n",
              "      <td>article</td>\n",
              "      <td>world</td>\n",
              "      <td>World news</td>\n",
              "      <td>2005-08-29T23:11:17Z</td>\n",
              "      <td>Venezuela threatens legal action</td>\n",
              "      <td>https://www.theguardian.com/world/2005/aug/30/...</td>\n",
              "      <td>https://content.guardianapis.com/world/2005/au...</td>\n",
              "      <td>False</td>\n",
              "      <td>pillar/news</td>\n",
              "      <td>News</td>\n",
              "      <td>&lt;p&gt;Venezuela said yesterday that it might ask ...</td>\n",
              "    </tr>\n",
              "    <tr>\n",
              "      <th>1</th>\n",
              "      <td>1</td>\n",
              "      <td>world/2005/dec/08/usa.venezuela</td>\n",
              "      <td>article</td>\n",
              "      <td>world</td>\n",
              "      <td>World news</td>\n",
              "      <td>2005-12-08T00:09:37Z</td>\n",
              "      <td>Cheap fuel for the Bronx, with love from Venez...</td>\n",
              "      <td>https://www.theguardian.com/world/2005/dec/08/...</td>\n",
              "      <td>https://content.guardianapis.com/world/2005/de...</td>\n",
              "      <td>False</td>\n",
              "      <td>pillar/news</td>\n",
              "      <td>News</td>\n",
              "      <td>&lt;p&gt;One of New York city's poorest neighbourhoo...</td>\n",
              "    </tr>\n",
              "  </tbody>\n",
              "</table>\n",
              "</div>"
            ],
            "text/plain": [
              "   Unnamed: 0  ...                                        fields.body\n",
              "0           0  ...  <p>Venezuela said yesterday that it might ask ...\n",
              "1           1  ...  <p>One of New York city's poorest neighbourhoo...\n",
              "\n",
              "[2 rows x 13 columns]"
            ]
          },
          "metadata": {},
          "execution_count": 12
        }
      ]
    },
    {
      "cell_type": "code",
      "metadata": {
        "colab": {
          "base_uri": "https://localhost:8080/"
        },
        "id": "h5xrC_TPJTsl",
        "outputId": "8ef2d446-de20-4c97-a235-60a533fd72be"
      },
      "source": [
        "titleve.info()"
      ],
      "execution_count": null,
      "outputs": [
        {
          "output_type": "stream",
          "name": "stdout",
          "text": [
            "<class 'pandas.core.frame.DataFrame'>\n",
            "Int64Index: 991 entries, 0 to 6486\n",
            "Data columns (total 13 columns):\n",
            " #   Column              Non-Null Count  Dtype \n",
            "---  ------              --------------  ----- \n",
            " 0   Unnamed: 0          991 non-null    int64 \n",
            " 1   id                  991 non-null    object\n",
            " 2   type                991 non-null    object\n",
            " 3   sectionId           991 non-null    object\n",
            " 4   sectionName         991 non-null    object\n",
            " 5   webPublicationDate  991 non-null    object\n",
            " 6   webTitle            991 non-null    object\n",
            " 7   webUrl              991 non-null    object\n",
            " 8   apiUrl              991 non-null    object\n",
            " 9   isHosted            991 non-null    bool  \n",
            " 10  pillarId            978 non-null    object\n",
            " 11  pillarName          978 non-null    object\n",
            " 12  fields.body         948 non-null    object\n",
            "dtypes: bool(1), int64(1), object(11)\n",
            "memory usage: 101.6+ KB\n"
          ]
        }
      ]
    },
    {
      "cell_type": "code",
      "metadata": {
        "colab": {
          "base_uri": "https://localhost:8080/"
        },
        "id": "nf6WukvGMuOx",
        "outputId": "7fa3552c-40cb-44a2-bbf9-ef1a6d2cea1f"
      },
      "source": [
        "titleve.dropna(inplace=True)\n",
        "titleve.info()"
      ],
      "execution_count": null,
      "outputs": [
        {
          "output_type": "stream",
          "name": "stdout",
          "text": [
            "<class 'pandas.core.frame.DataFrame'>\n",
            "Int64Index: 944 entries, 0 to 6486\n",
            "Data columns (total 13 columns):\n",
            " #   Column              Non-Null Count  Dtype \n",
            "---  ------              --------------  ----- \n",
            " 0   Unnamed: 0          944 non-null    int64 \n",
            " 1   id                  944 non-null    object\n",
            " 2   type                944 non-null    object\n",
            " 3   sectionId           944 non-null    object\n",
            " 4   sectionName         944 non-null    object\n",
            " 5   webPublicationDate  944 non-null    object\n",
            " 6   webTitle            944 non-null    object\n",
            " 7   webUrl              944 non-null    object\n",
            " 8   apiUrl              944 non-null    object\n",
            " 9   isHosted            944 non-null    bool  \n",
            " 10  pillarId            944 non-null    object\n",
            " 11  pillarName          944 non-null    object\n",
            " 12  fields.body         944 non-null    object\n",
            "dtypes: bool(1), int64(1), object(11)\n",
            "memory usage: 96.8+ KB\n"
          ]
        },
        {
          "output_type": "stream",
          "name": "stderr",
          "text": [
            "/usr/local/lib/python3.7/dist-packages/ipykernel_launcher.py:1: SettingWithCopyWarning: \n",
            "A value is trying to be set on a copy of a slice from a DataFrame\n",
            "\n",
            "See the caveats in the documentation: https://pandas.pydata.org/pandas-docs/stable/user_guide/indexing.html#returning-a-view-versus-a-copy\n",
            "  \"\"\"Entry point for launching an IPython kernel.\n"
          ]
        }
      ]
    },
    {
      "cell_type": "code",
      "metadata": {
        "id": "VmupmVG_57-6"
      },
      "source": [
        "#Just 944 articles include Venezuela in the TITLE :("
      ],
      "execution_count": null,
      "outputs": []
    },
    {
      "cell_type": "code",
      "metadata": {
        "id": "N8dntNGOAD7x"
      },
      "source": [
        "#Trying to begin the cleaning process"
      ],
      "execution_count": null,
      "outputs": []
    },
    {
      "cell_type": "code",
      "metadata": {
        "id": "3ZZ-LAAJB2E6"
      },
      "source": [
        "def cleaning_content(text):\n",
        "    \"\"\"Remove html tags from a string\"\"\"\n",
        "    clean = re.compile('<.*?>')\n",
        "    #Removing accents\n",
        "    text = re.sub(u\"[àáâãäå]\", 'a', text)\n",
        "    text = re.sub(u\"[èéêë]\", 'e', text)\n",
        "    text = re.sub(u\"[ìíîï]\", 'i', text)\n",
        "    text = re.sub(u\"[òóôõö]\", 'o', text)\n",
        "    text = re.sub(u\"[ùúûü]\", 'u', text)\n",
        "    text = re.sub(u\"[ýÿ]\", 'y', text)\n",
        "    text = re.sub(u\"[ß]\", 'ss', text)\n",
        "    text = re.sub(u\"[ñ]\", 'n', text)\n",
        "    text = text.replace(\"\\\\\", \" \")\n",
        "    return re.sub(clean, '', text)\n",
        "\n",
        "cleaning_content(titleve['fields.body'][5])"
      ],
      "execution_count": null,
      "outputs": []
    },
    {
      "cell_type": "code",
      "metadata": {
        "colab": {
          "base_uri": "https://localhost:8080/",
          "height": 140
        },
        "id": "yKNjOXwlCDMF",
        "outputId": "65516774-815d-4698-a10d-7b7bdb0292ef"
      },
      "source": [
        "cleaning_content(titleve['fields.body'][5])"
      ],
      "execution_count": null,
      "outputs": [
        {
          "output_type": "execute_result",
          "data": {
            "application/vnd.google.colaboratory.intrinsic+json": {
              "type": "string"
            },
            "text/plain": [
              "'A Colombian charter plane carrying 152 passengers and eight crew crashed in a remote area of western Venezuela early yesterday, killing everyone on board, officials said. Soon after the pilot reported engine problems, airport authorities lost contact with the West Caribbean Airways plane carrying French holidaymakers. It had taken off from Panama en route to the Caribbean island of Martinique. More than an hour in to the flight, at about 3am local time, the pilot told the control tower at Caracas\\'s airport that he was having problems with one engine and would try to make an emergency landing. Minutes later he reported that the second engine had failed and the control tower then lost contact. Venezuela\\'s interior minister, Jesse Chacon, said that the jet fell from the sky at a rate of 7,000ft (2,100 metres) a minute, estimating the time of the crash at about 3.30am. It went down in Machiques, a remote zone in western Venezuela near the border with Colombia. \"The firefighters who responded to the crash have confirmed that there were no survivors,\" said Colonel Carlos Montealegre, the acting director of Colombia\\'s civil aviation agency. According to the agency, the passengers were from Martinique and the plane had been chartered for holidays in Panama. They were returning home. The crew was Colombian. Immediate rescue attempts were hampered by intense rain in the area. The zone is so isolated from the rest of Venezuela that some of the first emergency workers to appear arrived by crossing the border from Colombia. Rescue teams pulled dozens of bodies from the wreckage scattered amid charred trees in a wooded area. \"It\\'s really terrible, I can\\'t describe it, there are bodies mutilated, in pieces, there is practically nothing left out there,\" a local mayor, Alfonso Marquez, told local television by telephone. Last night rescue workers found one of the plane\\'s black boxes. In Paris, the Elysee palace said that the French president, Jacques Chirac, on holiday in the south of France, had learned \"with very deep emotion of the appalling disaster in which a very great number of victims were French\". François Baroin, the minister for France\\'s overseas territories, was to leave yesterday evening for Martinique, home to all 152 of the plane\\'s passengers, the president\\'s office said. Colombian authorities are likely to review the airline\\'s operations. The crash is the company\\'s second in six months. In March, a West Caribbean plane crashed as it tried to take off from Colombia\\'s Caribbean island of Providence. Eight people were killed and six injured. An official at Colombia\\'s civil aviation authority said that the authority had been concerned about the airline in the past, but that this flight had met all the safety requirements. John Ospina, a spokesman for the airline, said that the tail cone of the plane that crashed yesterday had dropped off during a flight last month, but was later repaired. West Caribbean Airlines was founded in 1998 and is based in the city of Medellin, northwest Colombia. The airline had taken advantage of the recent growth in air travel to position itself as one of the country\\'s low-cost airlines. The French transport minister, Dominique Perben, said West Caribbean Airways had been running a charter service between Panama and the towns of Fort de France and Point-a-Pitre on the French Caribbean territories of Martinique and Guadeloupe. Mr Perben added that French civil aviation authorities had checked the plane on two separate occasions since May and had found nothing out of the ordinary. A crisis centre has been set up at the French foreign ministry, and Vincent Carmigniani, of the French civil aviation authority in Fort de France, said that investigators from Paris would be dispatched to both Venezuela and Martinique. Andre Charpentier, the mayor of the Martinique town of Basse-Pointe, said 16 people from his town, including eight municipal employees, were among the dead. \"There were couples who went away, and so today there are children who are orphans,\" he told French television. \"Every effort must now be directed towards them, to enable them to bear this catastrophe.\" Mr Chirac\\'s office said that the president was in \"permanent contact\" with the French prime minister, Dominique de Villepin, \"to ensure that all possible measures are put in place on the spot with the Venezuelan authorities\". Mr de Villepin said that his thoughts went \"first to the victims and their families\". He said: \"I wish to express to them the solidarity of the entire nation and my most profound sympathy.\"'"
            ]
          },
          "metadata": {},
          "execution_count": 29
        }
      ]
    },
    {
      "cell_type": "code",
      "metadata": {
        "colab": {
          "base_uri": "https://localhost:8080/"
        },
        "id": "mDy3Ipq1HQX4",
        "outputId": "f952832a-ac6c-44c6-f59f-0ebf8c3879b8"
      },
      "source": [
        "titleve['clean'] = titleve['fields.body'].apply(cleaning_content)"
      ],
      "execution_count": null,
      "outputs": [
        {
          "output_type": "stream",
          "name": "stderr",
          "text": [
            "/usr/local/lib/python3.7/dist-packages/ipykernel_launcher.py:1: SettingWithCopyWarning: \n",
            "A value is trying to be set on a copy of a slice from a DataFrame.\n",
            "Try using .loc[row_indexer,col_indexer] = value instead\n",
            "\n",
            "See the caveats in the documentation: https://pandas.pydata.org/pandas-docs/stable/user_guide/indexing.html#returning-a-view-versus-a-copy\n",
            "  \"\"\"Entry point for launching an IPython kernel.\n"
          ]
        }
      ]
    },
    {
      "cell_type": "code",
      "metadata": {
        "colab": {
          "base_uri": "https://localhost:8080/",
          "height": 140
        },
        "id": "UJk0zBsrM25P",
        "outputId": "26f41b56-3daa-4e0e-b272-254b616ed838"
      },
      "source": [
        "titleve.clean[0]"
      ],
      "execution_count": null,
      "outputs": [
        {
          "output_type": "execute_result",
          "data": {
            "application/vnd.google.colaboratory.intrinsic+json": {
              "type": "string"
            },
            "text/plain": [
              "'Venezuela said yesterday that it might ask the US to extradite the tele-evangelist Pat Robertson for suggesting American agents should kill its president, Hugo Chavez. Speaking at a meeting of the Organisation of American States, Mr Chavez said Venezuela would \"exercise legal action in the US\" against Mr Robertson. The broadcaster\\'s comments last week have increased the tension between Caracas and Washington. He called for Mr Chavez\\'s assassination on his television show, The 700 Club, saying the US should \"take him out\" because he posed a danger to the region. Mr Robertson, the founder of the Christian Coalition of America, later apologised. \"Calling for the assassination of a head of state is a terrorist act,\" said Mr Chavez, an outspoken critic of George Bush. \"We could even request his extradition.\" Mr Chavez said Venezuela would consider bringing the issue to United Nations if the American government failed to cooperate. The Bush administration distanced itself from Mr Robertson\\'s comments, calling them \"inappropriate\".'"
            ]
          },
          "metadata": {},
          "execution_count": 31
        }
      ]
    },
    {
      "cell_type": "code",
      "metadata": {
        "colab": {
          "base_uri": "https://localhost:8080/",
          "height": 140
        },
        "id": "DN7tBN2lM6Uw",
        "outputId": "d992ba11-732b-4f4f-bab5-827d431b6336"
      },
      "source": [
        "titleve['fields.body'][0]"
      ],
      "execution_count": null,
      "outputs": [
        {
          "output_type": "execute_result",
          "data": {
            "application/vnd.google.colaboratory.intrinsic+json": {
              "type": "string"
            },
            "text/plain": [
              "'<p>Venezuela said yesterday that it might ask the US to extradite the tele-evangelist Pat Robertson for suggesting American agents should kill its president, Hugo Chávez.</p> <p>Speaking at a meeting of the Organisation of American States, Mr Chávez said Venezuela would \"exercise legal action in the US\" against Mr Robertson.</p> <p>The broadcaster\\'s comments last week have increased the tension between Caracas and Washington. He called for Mr Chávez\\'s assassination on his television show, The 700 Club, saying the US should \"take him out\" because he posed a danger to the region.</p> <p>Mr Robertson, the founder of the Christian Coalition of America, later apologised.</p> <p>\"Calling for the assassination of a head of state is a terrorist act,\" said Mr Chávez, an outspoken critic of George Bush. \"We could even request his extradition.\"</p> <p>Mr Chávez said Venezuela would consider bringing the issue to United Nations if the American government failed to cooperate.</p> <p>The Bush administration distanced itself from Mr Robertson\\'s comments, calling them \"inappropriate\".</p>'"
            ]
          },
          "metadata": {},
          "execution_count": 32
        }
      ]
    },
    {
      "cell_type": "code",
      "source": [
        "titleve.columns"
      ],
      "metadata": {
        "colab": {
          "base_uri": "https://localhost:8080/"
        },
        "id": "TctQfcAPN785",
        "outputId": "ce51ba7a-305d-4c96-c4d9-12bde5d49819"
      },
      "execution_count": null,
      "outputs": [
        {
          "output_type": "execute_result",
          "data": {
            "text/plain": [
              "Index(['Unnamed: 0', 'id', 'type', 'sectionId', 'sectionName',\n",
              "       'webPublicationDate', 'webTitle', 'webUrl', 'apiUrl', 'isHosted',\n",
              "       'pillarId', 'pillarName', 'fields.body', 'clean'],\n",
              "      dtype='object')"
            ]
          },
          "metadata": {},
          "execution_count": 42
        }
      ]
    },
    {
      "cell_type": "code",
      "source": [
        "titleve.head(3)"
      ],
      "metadata": {
        "colab": {
          "base_uri": "https://localhost:8080/",
          "height": 400
        },
        "id": "68Rz9ZSCOBpP",
        "outputId": "ad20e235-42af-4622-878e-402d3c686b60"
      },
      "execution_count": null,
      "outputs": [
        {
          "output_type": "execute_result",
          "data": {
            "text/html": [
              "<div>\n",
              "<style scoped>\n",
              "    .dataframe tbody tr th:only-of-type {\n",
              "        vertical-align: middle;\n",
              "    }\n",
              "\n",
              "    .dataframe tbody tr th {\n",
              "        vertical-align: top;\n",
              "    }\n",
              "\n",
              "    .dataframe thead th {\n",
              "        text-align: right;\n",
              "    }\n",
              "</style>\n",
              "<table border=\"1\" class=\"dataframe\">\n",
              "  <thead>\n",
              "    <tr style=\"text-align: right;\">\n",
              "      <th></th>\n",
              "      <th>Unnamed: 0</th>\n",
              "      <th>id</th>\n",
              "      <th>type</th>\n",
              "      <th>sectionId</th>\n",
              "      <th>sectionName</th>\n",
              "      <th>webPublicationDate</th>\n",
              "      <th>webTitle</th>\n",
              "      <th>webUrl</th>\n",
              "      <th>apiUrl</th>\n",
              "      <th>isHosted</th>\n",
              "      <th>pillarId</th>\n",
              "      <th>pillarName</th>\n",
              "      <th>fields.body</th>\n",
              "      <th>clean</th>\n",
              "    </tr>\n",
              "  </thead>\n",
              "  <tbody>\n",
              "    <tr>\n",
              "      <th>0</th>\n",
              "      <td>0</td>\n",
              "      <td>world/2005/aug/30/venezuela.usa</td>\n",
              "      <td>article</td>\n",
              "      <td>world</td>\n",
              "      <td>World news</td>\n",
              "      <td>2005-08-29T23:11:17Z</td>\n",
              "      <td>Venezuela threatens legal action</td>\n",
              "      <td>https://www.theguardian.com/world/2005/aug/30/...</td>\n",
              "      <td>https://content.guardianapis.com/world/2005/au...</td>\n",
              "      <td>False</td>\n",
              "      <td>pillar/news</td>\n",
              "      <td>News</td>\n",
              "      <td>&lt;p&gt;Venezuela said yesterday that it might ask ...</td>\n",
              "      <td>Venezuela said yesterday that it might ask the...</td>\n",
              "    </tr>\n",
              "    <tr>\n",
              "      <th>1</th>\n",
              "      <td>1</td>\n",
              "      <td>world/2005/dec/08/usa.venezuela</td>\n",
              "      <td>article</td>\n",
              "      <td>world</td>\n",
              "      <td>World news</td>\n",
              "      <td>2005-12-08T00:09:37Z</td>\n",
              "      <td>Cheap fuel for the Bronx, with love from Venez...</td>\n",
              "      <td>https://www.theguardian.com/world/2005/dec/08/...</td>\n",
              "      <td>https://content.guardianapis.com/world/2005/de...</td>\n",
              "      <td>False</td>\n",
              "      <td>pillar/news</td>\n",
              "      <td>News</td>\n",
              "      <td>&lt;p&gt;One of New York city's poorest neighbourhoo...</td>\n",
              "      <td>One of New York city's poorest neighbourhoods ...</td>\n",
              "    </tr>\n",
              "    <tr>\n",
              "      <th>2</th>\n",
              "      <td>2</td>\n",
              "      <td>business/2005/aug/18/theairlineindustry.venezuela</td>\n",
              "      <td>article</td>\n",
              "      <td>business</td>\n",
              "      <td>Business</td>\n",
              "      <td>2005-08-18T12:28:02Z</td>\n",
              "      <td>Airline's flights suspended after Venezuela crash</td>\n",
              "      <td>https://www.theguardian.com/business/2005/aug/...</td>\n",
              "      <td>https://content.guardianapis.com/business/2005...</td>\n",
              "      <td>False</td>\n",
              "      <td>pillar/news</td>\n",
              "      <td>News</td>\n",
              "      <td>&lt;p&gt;The airline that owned the charter plane th...</td>\n",
              "      <td>The airline that owned the charter plane that ...</td>\n",
              "    </tr>\n",
              "  </tbody>\n",
              "</table>\n",
              "</div>"
            ],
            "text/plain": [
              "   Unnamed: 0  ...                                              clean\n",
              "0           0  ...  Venezuela said yesterday that it might ask the...\n",
              "1           1  ...  One of New York city's poorest neighbourhoods ...\n",
              "2           2  ...  The airline that owned the charter plane that ...\n",
              "\n",
              "[3 rows x 14 columns]"
            ]
          },
          "metadata": {},
          "execution_count": 43
        }
      ]
    },
    {
      "cell_type": "code",
      "source": [
        "#Renaming columns "
      ],
      "metadata": {
        "id": "kU1jNa_VQHO6"
      },
      "execution_count": null,
      "outputs": []
    },
    {
      "cell_type": "code",
      "source": [
        "titleve.rename({'webPublicationDate':'date',\\\n",
        "                'webTitle':'title',\\\n",
        "                'webUrl':'url',\\\n",
        "                'clean':'content'}, axis=1, inplace=True)"
      ],
      "metadata": {
        "colab": {
          "base_uri": "https://localhost:8080/"
        },
        "id": "kUDOAudbQGOZ",
        "outputId": "a8a0f8b5-90ee-4aec-e6ce-feef8f612114"
      },
      "execution_count": null,
      "outputs": [
        {
          "output_type": "stream",
          "name": "stderr",
          "text": [
            "/usr/local/lib/python3.7/dist-packages/pandas/core/frame.py:4308: SettingWithCopyWarning: \n",
            "A value is trying to be set on a copy of a slice from a DataFrame\n",
            "\n",
            "See the caveats in the documentation: https://pandas.pydata.org/pandas-docs/stable/user_guide/indexing.html#returning-a-view-versus-a-copy\n",
            "  errors=errors,\n"
          ]
        }
      ]
    },
    {
      "cell_type": "code",
      "source": [
        "titleve.columns"
      ],
      "metadata": {
        "colab": {
          "base_uri": "https://localhost:8080/"
        },
        "id": "7UnIaOWOQHv3",
        "outputId": "fddb309b-025b-44f2-dc79-e3f18784ede0"
      },
      "execution_count": null,
      "outputs": [
        {
          "output_type": "execute_result",
          "data": {
            "text/plain": [
              "Index(['Unnamed: 0', 'id', 'type', 'sectionId', 'sectionName', 'date', 'title',\n",
              "       'url', 'apiUrl', 'isHosted', 'pillarId', 'pillarName', 'fields.body',\n",
              "       'content'],\n",
              "      dtype='object')"
            ]
          },
          "metadata": {},
          "execution_count": 48
        }
      ]
    },
    {
      "cell_type": "code",
      "source": [
        "from sqlalchemy import create_engine\n",
        "from sqlalchemy import Table, Column, Integer, String, MetaData, Float, Date\n",
        "from collections import defaultdict\n"
      ],
      "metadata": {
        "id": "Tgs_OxOTIlSj"
      },
      "execution_count": null,
      "outputs": []
    },
    {
      "cell_type": "code",
      "metadata": {
        "id": "d5cc6tTGTDeE"
      },
      "source": [
        "#Working on creating the DB now. "
      ],
      "execution_count": null,
      "outputs": []
    },
    {
      "cell_type": "code",
      "source": [
        "engine = create_engine('sqlite:///news.db', echo=False)\n",
        "meta = MetaData()\n",
        "newstable = Table (\n",
        "    'newstable', meta,\n",
        "    Column('id', String, primary_key = True),\n",
        "    Column('date', Date),\n",
        "    Column('title', String),\n",
        "    Column('url', String),\n",
        "    Column('content', String) \n",
        ")\n",
        "titleve[['id', 'date', 'title', 'url', 'content']].to_sql('newstable', con=engine, if_exists='append')"
      ],
      "metadata": {
        "id": "13cf-d7fLKNl"
      },
      "execution_count": null,
      "outputs": []
    },
    {
      "cell_type": "code",
      "source": [
        "meta = MetaData()"
      ],
      "metadata": {
        "id": "RaRdylTlNhWS"
      },
      "execution_count": null,
      "outputs": []
    },
    {
      "cell_type": "code",
      "source": [
        "newstable = Table (\n",
        "    'newstable', meta,\n",
        "    Column('id', String, primary_key = True),\n",
        "    Column('date', Date),\n",
        "    Column('title', String),\n",
        "    Column('url', String),\n",
        "    Column('content', String) \n",
        ")"
      ],
      "metadata": {
        "id": "T7NHS2eMNiD4"
      },
      "execution_count": null,
      "outputs": []
    },
    {
      "cell_type": "code",
      "metadata": {
        "id": "VOL1W9_3UzQF"
      },
      "source": [
        "titleve[['id', 'date', 'title', 'url', 'content']].to_sql('newstable', con=engine, if_exists='append')"
      ],
      "execution_count": null,
      "outputs": []
    },
    {
      "cell_type": "code",
      "metadata": {
        "id": "s19ZFGcTTEaN"
      },
      "source": [
        "#Checking the data from the DB"
      ],
      "execution_count": null,
      "outputs": []
    },
    {
      "cell_type": "code",
      "metadata": {
        "id": "smkHg7qOTB9K",
        "colab": {
          "base_uri": "https://localhost:8080/"
        },
        "outputId": "7830f344-85f2-4d9c-e7e5-be67af2d591c"
      },
      "source": [
        "engine.execute(\"SELECT * FROM newstable limit 20\").fetchall()"
      ],
      "execution_count": null,
      "outputs": [
        {
          "output_type": "execute_result",
          "data": {
            "text/plain": [
              "[(0, 'world/2005/aug/30/venezuela.usa', '2005-08-29T23:11:17Z', 'Venezuela threatens legal action', 'https://www.theguardian.com/world/2005/aug/30/venezuela.usa', 'Venezuela said yesterday that it might ask the US to extradite the tele-evangelist Pat Robertson for suggesting American agents should kill its presi ... (745 characters truncated) ... if the American government failed to cooperate. The Bush administration distanced itself from Mr Robertson\\'s comments, calling them \"inappropriate\".'),\n",
              " (1, 'world/2005/dec/08/usa.venezuela', '2005-12-08T00:09:37Z', 'Cheap fuel for the Bronx, with love from Venezuela', 'https://www.theguardian.com/world/2005/dec/08/usa.venezuela', 'One of New York city\\'s poorest neighbourhoods is to be the beneficiary of \"humanitarian aid\" from the Venezuelan president, Hugo Chavez, in the form ... (2777 characters truncated) ... ions about accepting the \"heartfelt\" gesture from a leader who has been so outspoken about the US. \"This kind of chance don\\'t come along too often.\"'),\n",
              " (2, 'business/2005/aug/18/theairlineindustry.venezuela', '2005-08-18T12:28:02Z', \"Airline's flights suspended after Venezuela crash\", 'https://www.theguardian.com/business/2005/aug/18/theairlineindustry.venezuela', 'The airline that owned the charter plane that crashed in western Venezuela, killing all 160 people on board, has had its operations suspended by the  ... (2420 characters truncated) ... a. Colombia\\'s civil air authority said the plane that crashed had undergone a full inspection before the flight and had met all safety requirements.'),\n",
              " (3, 'business/2005/aug/16/theairlineindustry.venezuela', '2005-08-16T17:06:02Z', '150 killed in Venezuela plane crash', 'https://www.theguardian.com/business/2005/aug/16/theairlineindustry.venezuela', 'More than 150 French passengers and eight crew were killed today when a Colombian airliner crashed in remote western Venezuela, officials said. The c ... (1815 characters truncated) ... Greece. Two weeks ago, an Air France Airbus with more than 300 people on board narrowly avoided a catastrophe in Toronto when it overshot the runway.'),\n",
              " (4, 'world/2005/nov/24/usa.spain', '2005-11-24T00:04:32Z', 'US threatens to block £890m Spanish arms sale to Venezuela', 'https://www.theguardian.com/world/2005/nov/24/usa.spain', 'The US yesterday threatened to block a record-breaking arms deal under which Spain would sell ships and aircraft to Venezuela, in another sign of inc ... (3250 characters truncated) ... . This is going to alleviate the fears of people who were wondering whether they were going to be able to get through our bitter New England winter.\"'),\n",
              " (5, 'business/2005/aug/17/theairlineindustry.venezuela', '2005-08-17T01:06:21Z', '160 killed in plane crash  in Venezuela', 'https://www.theguardian.com/business/2005/aug/17/theairlineindustry.venezuela', 'A Colombian charter plane carrying 152 passengers and eight crew crashed in a remote area of western Venezuela early yesterday, killing everyone on b ... (4295 characters truncated) ... nt \"first to the victims and their families\". He said: \"I wish to express to them the solidarity of the entire nation and my most profound sympathy.\"'),\n",
              " (6, 'world/2005/sep/10/venezuela.jotuckman', '2005-09-10T22:59:36Z', 'Troops seize British-owned cattle ranch in Venezuela', 'https://www.theguardian.com/world/2005/sep/10/venezuela.jotuckman', 'Venezuelan troops have reportedly seized a huge British-owned cattle ranch as part of an agrarian reform programme targeting large estates that the g ... (2216 characters truncated) ... e a year ago. Since that time, the land reform process has accelerated with investigations beginning into dozens of large estates across the country.'),\n",
              " (7, 'world/2005/jun/02/usa.venezuela', '2005-06-02T02:08:41Z', \"Venezuela seeks return of 'terrorist'\", 'https://www.theguardian.com/world/2005/jun/02/usa.venezuela', 'Venezuela is to formally seek the extradition from the US of Luis Posada, who is wanted for trial in connection with the bombing of a Cuban airliner  ... (3209 characters truncated) ... y extends this farce. \"As a result of this, the western hemisphere\\'s worst terrorist has been minimally accused of illegal entry into US territory.\"'),\n",
              " (8, 'world/2005/dec/06/venezuela.mainsection', '2005-12-06T23:58:16Z', \"Venezuela's left awaits huge win\", 'https://www.theguardian.com/world/2005/dec/06/venezuela.mainsection', 'The leftwing political parties allied to Venezuela\\'s president, Hugo Chavez, were yesterday heading for what many predicted would be a clean sweep i ... (1142 characters truncated) ... atic process. He even went one step further: \"We have evidence there are concrete plans by the imperialist US to launch an attack against Venezuela.\"'),\n",
              " (9, 'world/2005/jan/15/columbia.venezuela', '2005-01-15T01:50:25Z', 'Venezuela cuts ties over kidnap', 'https://www.theguardian.com/world/2005/jan/15/columbia.venezuela', 'President Hugo Chavez of Venezuela said yesterday that diplomatic and commercial relations with Colombia would be suspended until it apologised for p ... (668 characters truncated) ... apture of Rodrigo Granda, a member of the Revolutionary Armed Forces of Colombia, or Farc, in Caracas, relations with Venezuela remained \"very good\".'),\n",
              " (12, 'media/2005/aug/24/broadcasting', '2005-08-24T06:40:27Z', \"Evangelist tells 7m TV viewers: US should kill Venezuela's president\", 'https://www.theguardian.com/media/2005/aug/24/broadcasting', 'America\\'s leading televangelist appeared to take Christian fundamentalism into uncharted territory yesterday when he called for the assassination of ... (4404 characters truncated) ... evangelist is using his media power not to win people to faith but to encourage them to support the murder of a foreign leader.\"  theguardian.com/usa'),\n",
              " (13, 'world/2005/aug/24/usa.venezuela', '2005-08-24T00:57:36Z', \"Evangelist tells 7m TV viewers: US should kill Venezuela's president\", 'https://www.theguardian.com/world/2005/aug/24/usa.venezuela', 'America\\'s leading televangelist appeared to take Christian fundamentalism into uncharted territory yesterday when he called for the assassination of ... (4387 characters truncated) ...  that this so-called evangelist is using his media power not to win people to faith but to encourage them to support the murder of a foreign leader.\"'),\n",
              " (16, 'world/2005/mar/14/venezuela', '2005-03-14T10:34:58Z', \"Venezuela moves to seize thousands of hectares of 'idle' land from British peer\", 'https://www.theguardian.com/world/2005/mar/14/venezuela', 'The Venezuelan government is to press ahead with plans to expropriate land from a British-owned farm this week, sparking fears of large-scale land gr ... (1830 characters truncated) ... s said, but had been invaded by up to 1,000 squatters. The government has promised to grant rights to 100,000 plots of land to the poor by next year.'),\n",
              " (17, 'world/2004/aug/16/venezuela', '2004-08-16T13:20:03Z', 'Chávez claims victory in Venezuela vote', 'https://www.theguardian.com/world/2004/aug/16/venezuela', 'Venezuela\\'s leftwing president, Hugo Chavez, claimed victory today in a national referendum on his rule, while his opponents charged him with fraud. ... (2068 characters truncated) ... re of Venezuela, the world\\'s fifth-largest oil exporter, has contributed to record high oil prices, which have reached more than $46 (£25) a barrel.'),\n",
              " (18, 'world/2005/jan/25/venezuela.sibyllabrodzinsky', '2005-01-25T00:04:40Z', 'Squatters sit tight as land revolution is put to the test in Venezuela', 'https://www.theguardian.com/world/2005/jan/25/venezuela.sibyllabrodzinsky', 'Pablo Flores scowls at a small herd of cattle grazing just beyond the barbed wire edge of his small plot where he grows beans, squash and melons. The ... (5232 characters truncated) ... land if he wins the rights to it. \"My family was originally from the countryside and moved to the city. I grew up there, but this is where I belong.\"'),\n",
              " (20, 'news/2004/aug/16/wrap.seanclarke', '2004-08-16T09:38:52Z', 'Chavez set for re-election in Venezuela', 'https://www.theguardian.com/news/2004/aug/16/wrap.seanclarke', 'Welcome to the Wrap, Guardian Unlimited\\'s round-up of the best of the day\\'s papers. BREAKING NEWS: The Venezuelan president Hugo Chavez is reported ... (9082 characters truncated) ... as condemned the massacre last week of more than 160 Tutsi Congolese refugees in Burundi. Updates throughout the day at Guardian.co.uk Guardian.co.uk'),\n",
              " (21, 'world/2004/aug/16/venezuela.danglaister', '2004-08-16T00:49:33Z', 'Massive turnout as Venezuela goes to polls', 'https://www.theguardian.com/world/2004/aug/16/venezuela.danglaister', 'Venezuela\\'s election authorities struggled to retain control of the country\\'s controversial recall poll yesterday in the face of a massive turnout  ... (4813 characters truncated) ... an we expected. Finally, this country is going to find what it has been looking for - the political conflicts can be solved through electoral means.\"'),\n",
              " (25, 'news/2004/aug/17/leadersandreply.mainsection', '2004-08-17T22:59:39Z', 'Leader: Venezuela', 'https://www.theguardian.com/news/2004/aug/17/leadersandreply.mainsection', 'It was, surely, a great victory for democracy in Venezuela yesterday of the kind for which George Bush is striving through-out the world - and this i ... (3486 characters truncated) ... viding a society already polarised by wealth and poverty but Mr Chavez\\'s critics should take a less dramatic view and accept the democratic verdict.'),\n",
              " (27, 'world/2005/jun/22/venezuela.markoliver', '2005-06-22T14:38:59Z', 'UK firm faces confiscation of Venezuelan ranch', 'https://www.theguardian.com/world/2005/jun/22/venezuela.markoliver', 'The British ownership of a vast ranch in Venezuela has been questioned by the Venezuelan government, it emerged today. It was the latest development  ... (3114 characters truncated) ... ng the 60s to prevent revolutions. Many subsistence farmers benefited, but many later sold their farms back to landowners and migrated to the cities.'),\n",
              " (29, 'world/2004/aug/15/venezuela.danglaister', '2004-08-15T00:25:17Z', \"Venezuela to deliver verdict on Chavez's turbulent reign\", 'https://www.theguardian.com/world/2004/aug/15/venezuela.danglaister', \"Carla Melo leans out of the window of her battered Ford Fiesta and hisses a word of admonition at the driver of a car that refuses to move out of her ... (4110 characters truncated) ... ll be respected, so the referendum is perhaps best seen as a distracting from the more urgent task of party political reform and policy development.'\")]"
            ]
          },
          "metadata": {},
          "execution_count": 80
        }
      ]
    },
    {
      "cell_type": "code",
      "source": [
        "#Trying to gather info by date\n",
        "#Imagining that we are giving the chance to the user to change the year with the graphic interface\n",
        "year = 2001\n",
        "engine.execute(f\"SELECT count(*) FROM newstable WHERE date LIKE '{year}%'\").fetchall()[0]"
      ],
      "metadata": {
        "colab": {
          "base_uri": "https://localhost:8080/"
        },
        "id": "J5j-olp_V7jD",
        "outputId": "31f6f1e6-3542-47f5-93cc-9ecd3ccfed02"
      },
      "execution_count": null,
      "outputs": [
        {
          "output_type": "execute_result",
          "data": {
            "text/plain": [
              "(4,)"
            ]
          },
          "metadata": {},
          "execution_count": 105
        }
      ]
    },
    {
      "cell_type": "code",
      "source": [
        "articles_by_year = defaultdict(list)\n",
        "for i in range(1999, 2022):\n",
        "  year = i\n",
        "  articles_by_year[i].append(engine.execute(f\"SELECT count(*) FROM newstable WHERE date LIKE '{year}%'\").fetchall()[0])"
      ],
      "metadata": {
        "id": "svU_xRtcYurF"
      },
      "execution_count": null,
      "outputs": []
    },
    {
      "cell_type": "code",
      "source": [
        "articles_by_year"
      ],
      "metadata": {
        "colab": {
          "base_uri": "https://localhost:8080/"
        },
        "id": "LWGWZ27FaSIA",
        "outputId": "1b265000-2842-4dd9-e17a-8851f5bd0f25"
      },
      "execution_count": null,
      "outputs": [
        {
          "output_type": "execute_result",
          "data": {
            "text/plain": [
              "defaultdict(list,\n",
              "            {1999: [(13,)],\n",
              "             2000: [(10,)],\n",
              "             2001: [(4,)],\n",
              "             2002: [(22,)],\n",
              "             2003: [(17,)],\n",
              "             2004: [(12,)],\n",
              "             2005: [(16,)],\n",
              "             2006: [(34,)],\n",
              "             2007: [(42,)],\n",
              "             2008: [(43,)],\n",
              "             2009: [(44,)],\n",
              "             2010: [(44,)],\n",
              "             2011: [(31,)],\n",
              "             2012: [(33,)],\n",
              "             2013: [(65,)],\n",
              "             2014: [(53,)],\n",
              "             2015: [(29,)],\n",
              "             2016: [(60,)],\n",
              "             2017: [(79,)],\n",
              "             2018: [(55,)],\n",
              "             2019: [(188,)],\n",
              "             2020: [(39,)],\n",
              "             2021: [(11,)]})"
            ]
          },
          "metadata": {},
          "execution_count": 104
        }
      ]
    },
    {
      "cell_type": "code",
      "source": [
        "engine.execute(f\"SELECT * FROM newstable WHERE date LIKE '{year}%'\").fetchall()"
      ],
      "metadata": {
        "colab": {
          "base_uri": "https://localhost:8080/"
        },
        "id": "Dc3Qr8NuaVlR",
        "outputId": "13a82929-f6fa-4508-e4ac-5d5fdc0af4e4"
      },
      "execution_count": null,
      "outputs": [
        {
          "output_type": "execute_result",
          "data": {
            "text/plain": [
              "[(465, 'football/2001/nov/11/newsstory.sport1', '2001-11-11T00:55:14Z', 'Venezuela set their sights on Brazil', 'https://www.theguardian.com/football/2001/nov/11/newsstory.sport1', \"Imagine the Faroe Islands or San Marino suddenly winning four World Cup qualifiers on the trot with flowing, attacking football. South Americans have ... (4704 characters truncated) ... uay through, Brazil to play-offs   Uruguay don't win Brazil through and either Uruguay or Colombia (who can still overtake Uruguay) go into play-offs\"),\n",
              " (489, 'theguardian/2001/aug/16/guardianletters6', '2001-08-16T00:55:31Z', 'Letters: no whitewash in Venezuela', 'https://www.theguardian.com/theguardian/2001/aug/16/guardianletters6', 'You say President Chavez is \"an old-fashioned nationalist caudillo\" who seeks to implement \"some Cuban-style social control\" because of his preferenc ... (969 characters truncated) ...  analysing Venezuela, it is impossible to think of a communist regime, as implied in your article. Alfredo Toro-HardyAmbassador, Embassy of Venezuela'),\n",
              " (514, 'football/2001/nov/14/newsstory.sport5', '2001-11-14T01:08:50Z', 'World Cup play-off: Brazil v Venezuela', 'https://www.theguardian.com/football/2001/nov/14/newsstory.sport5', 'Brazil have another chance to rescue their World Cup campaign tonight. On the switchback of the South American qualifying contest, the big names on t ... (2140 characters truncated) ... gainst Ukraine in Dortmund. \"We must play without anxiety,\" said their coach Rudi Voller. \"I expect our players to play their best game of the year.\"'),\n",
              " (588, 'uk/2001/jan/07/tonythompson.theobserver', '2001-01-07T01:09:24Z', 'Britons flee Venezuela after 4-year jail horror', 'https://www.theguardian.com/uk/2001/jan/07/tonythompson.theobserver', \"Two young Britons, jailed for attempting to smuggle drugs out of Venezuela, have broken their parole and fled back to England after fearing they woul ... (3492 characters truncated) ... ve failed to meet the terms of their parole but it has not asked Britain to take any action. There is no extradition agreement between the countries.\")]"
            ]
          },
          "metadata": {},
          "execution_count": 106
        }
      ]
    },
    {
      "cell_type": "code",
      "source": [
        "#13-12-2021"
      ],
      "metadata": {
        "id": "cTelfjKeRJSr"
      },
      "execution_count": null,
      "outputs": []
    },
    {
      "cell_type": "code",
      "source": [
        "#Trying again! Now this time, I'll be fetching the whole set of articles in one call,\n",
        "#also, this time I'll be adding the word Chavez as another possible match for news. \n"
      ],
      "metadata": {
        "id": "8xNh57xlRJlF"
      },
      "execution_count": null,
      "outputs": []
    },
    {
      "cell_type": "code",
      "source": [
        "#From 1999 to 2021\n",
        "API_KEY = '189604c2-ac97-4295-9ccf-e3556505cff3'\n",
        "query = \"Venezuela | Chavez | Maduro\"\n",
        "query_fields = \"webTitle\"\n",
        "section = \"news\"\n",
        "show_fields = \"body\"\n",
        "page_size = \"100\"\n",
        "from_date = \"1999-01-01\"\n",
        "to_date = \"2021-12-01\"\n",
        "retrieved_articles = 0\n",
        "for i in range(1,100):\n",
        "  query_url = f\"http://content.guardianapis.com/search?\" \\\n",
        "              f\"api-key={API_KEY}\" \\\n",
        "              f\"&q={query}\" \\\n",
        "              f\"&query-fields ={query_fields}\"\\\n",
        "              f\"&page={i}\" f\"&page-size={page_size}\"\\\n",
        "              f\"&show-fields={show_fields}\"\\\n",
        "              f\"&from-date={from_date}\" \\\n",
        "              f\"&to-date={to_date}\"\\\n",
        "\n",
        "  r = http.request('GET', query_url)\n",
        "  time.sleep(1)\n",
        "  data = json.loads(r.data.decode('utf-8')) #Saving the articles in data\n",
        "  num_articles = data['response']['total'] #This is the total number of articles in the range of search. \n",
        "  #Here, I'm creating 'df' if it is the first time running the code, otherwise, I'll be concatenating the new data to the exisiting 'df'. \n",
        "  if i == 1:\n",
        "    df99_21 = pd.json_normalize(data['response'],record_path=['results'])\n",
        "  else:\n",
        "    df99_21 = pd.concat([df99_21,pd.json_normalize(data['response'],record_path=['results'])], axis=0)\n",
        "  retrieved_articles = int(page_size)*i\n",
        "  #Now, I'm gonna compare the number of articles retrieved versus the total of \n",
        "  #articles, to see if i should break the for loop prematurely\n",
        "  if retrieved_articles > num_articles:\n",
        "    break\n",
        "print (num_articles)"
      ],
      "metadata": {
        "colab": {
          "base_uri": "https://localhost:8080/"
        },
        "id": "cww-9IdO2FHW",
        "outputId": "e00fec1a-99b3-4e32-fa68-96734299f5dd"
      },
      "execution_count": null,
      "outputs": [
        {
          "output_type": "stream",
          "name": "stdout",
          "text": [
            "7636\n"
          ]
        }
      ]
    },
    {
      "cell_type": "code",
      "source": [
        "df99_21.sample(2)"
      ],
      "metadata": {
        "colab": {
          "base_uri": "https://localhost:8080/",
          "height": 301
        },
        "id": "c16C0N1H2FaW",
        "outputId": "cebc01a0-5343-4ed9-fe3d-f8bdfb264d77"
      },
      "execution_count": null,
      "outputs": [
        {
          "output_type": "execute_result",
          "data": {
            "text/html": [
              "<div>\n",
              "<style scoped>\n",
              "    .dataframe tbody tr th:only-of-type {\n",
              "        vertical-align: middle;\n",
              "    }\n",
              "\n",
              "    .dataframe tbody tr th {\n",
              "        vertical-align: top;\n",
              "    }\n",
              "\n",
              "    .dataframe thead th {\n",
              "        text-align: right;\n",
              "    }\n",
              "</style>\n",
              "<table border=\"1\" class=\"dataframe\">\n",
              "  <thead>\n",
              "    <tr style=\"text-align: right;\">\n",
              "      <th></th>\n",
              "      <th>id</th>\n",
              "      <th>type</th>\n",
              "      <th>sectionId</th>\n",
              "      <th>sectionName</th>\n",
              "      <th>webPublicationDate</th>\n",
              "      <th>webTitle</th>\n",
              "      <th>webUrl</th>\n",
              "      <th>apiUrl</th>\n",
              "      <th>isHosted</th>\n",
              "      <th>pillarId</th>\n",
              "      <th>pillarName</th>\n",
              "      <th>fields.body</th>\n",
              "    </tr>\n",
              "  </thead>\n",
              "  <tbody>\n",
              "    <tr>\n",
              "      <th>46</th>\n",
              "      <td>lifeandstyle/2016/nov/19/painting-train-hare-b...</td>\n",
              "      <td>article</td>\n",
              "      <td>lifeandstyle</td>\n",
              "      <td>Life and style</td>\n",
              "      <td>2016-11-19T07:00:01Z</td>\n",
              "      <td>Which painting depicts a train bearing down on...</td>\n",
              "      <td>https://www.theguardian.com/lifeandstyle/2016/...</td>\n",
              "      <td>https://content.guardianapis.com/lifeandstyle/...</td>\n",
              "      <td>False</td>\n",
              "      <td>pillar/lifestyle</td>\n",
              "      <td>Lifestyle</td>\n",
              "      <td>&lt;h2&gt;The questions&lt;/h2&gt; &lt;p&gt;&lt;strong&gt;1 &lt;/strong&gt;W...</td>\n",
              "    </tr>\n",
              "    <tr>\n",
              "      <th>2</th>\n",
              "      <td>commentisfree/2019/feb/18/split-labour-writers...</td>\n",
              "      <td>article</td>\n",
              "      <td>commentisfree</td>\n",
              "      <td>Opinion</td>\n",
              "      <td>2019-02-18T12:04:32Z</td>\n",
              "      <td>Are the gang of seven right to split from Labo...</td>\n",
              "      <td>https://www.theguardian.com/commentisfree/2019...</td>\n",
              "      <td>https://content.guardianapis.com/commentisfree...</td>\n",
              "      <td>False</td>\n",
              "      <td>pillar/opinion</td>\n",
              "      <td>Opinion</td>\n",
              "      <td>&lt;h2&gt;&lt;a href=\"https://www.theguardian.com/profi...</td>\n",
              "    </tr>\n",
              "  </tbody>\n",
              "</table>\n",
              "</div>"
            ],
            "text/plain": [
              "                                                   id  ...                                        fields.body\n",
              "46  lifeandstyle/2016/nov/19/painting-train-hare-b...  ...  <h2>The questions</h2> <p><strong>1 </strong>W...\n",
              "2   commentisfree/2019/feb/18/split-labour-writers...  ...  <h2><a href=\"https://www.theguardian.com/profi...\n",
              "\n",
              "[2 rows x 12 columns]"
            ]
          },
          "metadata": {},
          "execution_count": 17
        }
      ]
    },
    {
      "cell_type": "code",
      "source": [
        ""
      ],
      "metadata": {
        "id": "gQDARHX4JNIQ"
      },
      "execution_count": null,
      "outputs": []
    },
    {
      "cell_type": "code",
      "source": [
        "#As there are a lot of articles that mention Venezuela too briefly, I'll focus just on those that include Venezuela in the title.\n",
        "dfve = df99_21[df99_21['webTitle'].str.contains(\"Venezuela|Chavez|Maduro\")]\n",
        "dfve.info()"
      ],
      "metadata": {
        "colab": {
          "base_uri": "https://localhost:8080/"
        },
        "id": "amA_4G2L2Fx5",
        "outputId": "5e946089-5102-4b41-dd00-30785122d87d"
      },
      "execution_count": null,
      "outputs": [
        {
          "output_type": "stream",
          "name": "stdout",
          "text": [
            "<class 'pandas.core.frame.DataFrame'>\n",
            "Int64Index: 1122 entries, 0 to 52\n",
            "Data columns (total 12 columns):\n",
            " #   Column              Non-Null Count  Dtype \n",
            "---  ------              --------------  ----- \n",
            " 0   id                  1122 non-null   object\n",
            " 1   type                1122 non-null   object\n",
            " 2   sectionId           1122 non-null   object\n",
            " 3   sectionName         1122 non-null   object\n",
            " 4   webPublicationDate  1122 non-null   object\n",
            " 5   webTitle            1122 non-null   object\n",
            " 6   webUrl              1122 non-null   object\n",
            " 7   apiUrl              1122 non-null   object\n",
            " 8   isHosted            1122 non-null   bool  \n",
            " 9   pillarId            1108 non-null   object\n",
            " 10  pillarName          1108 non-null   object\n",
            " 11  fields.body         1122 non-null   object\n",
            "dtypes: bool(1), object(11)\n",
            "memory usage: 106.3+ KB\n"
          ]
        }
      ]
    },
    {
      "cell_type": "code",
      "source": [
        "dfve.dropna(subset=['fields.body'], inplace=True)\n",
        "dfve.info()"
      ],
      "metadata": {
        "colab": {
          "base_uri": "https://localhost:8080/"
        },
        "id": "Zi3kqisp2Elz",
        "outputId": "7a1242ca-d99f-475c-9f30-9a3fa7e1875d"
      },
      "execution_count": null,
      "outputs": [
        {
          "output_type": "stream",
          "name": "stdout",
          "text": [
            "<class 'pandas.core.frame.DataFrame'>\n",
            "Int64Index: 1122 entries, 0 to 52\n",
            "Data columns (total 12 columns):\n",
            " #   Column              Non-Null Count  Dtype \n",
            "---  ------              --------------  ----- \n",
            " 0   id                  1122 non-null   object\n",
            " 1   type                1122 non-null   object\n",
            " 2   sectionId           1122 non-null   object\n",
            " 3   sectionName         1122 non-null   object\n",
            " 4   webPublicationDate  1122 non-null   object\n",
            " 5   webTitle            1122 non-null   object\n",
            " 6   webUrl              1122 non-null   object\n",
            " 7   apiUrl              1122 non-null   object\n",
            " 8   isHosted            1122 non-null   bool  \n",
            " 9   pillarId            1108 non-null   object\n",
            " 10  pillarName          1108 non-null   object\n",
            " 11  fields.body         1122 non-null   object\n",
            "dtypes: bool(1), object(11)\n",
            "memory usage: 106.3+ KB\n"
          ]
        },
        {
          "output_type": "stream",
          "name": "stderr",
          "text": [
            "/usr/local/lib/python3.7/dist-packages/ipykernel_launcher.py:1: SettingWithCopyWarning: \n",
            "A value is trying to be set on a copy of a slice from a DataFrame\n",
            "\n",
            "See the caveats in the documentation: https://pandas.pydata.org/pandas-docs/stable/user_guide/indexing.html#returning-a-view-versus-a-copy\n",
            "  \"\"\"Entry point for launching an IPython kernel.\n"
          ]
        }
      ]
    },
    {
      "cell_type": "code",
      "source": [
        "def cleaning_content(text):\n",
        "    \"\"\"Remove html tags from a string\"\"\"\n",
        "    clean = re.compile('<.*?>')\n",
        "    #Removing accents\n",
        "    text = re.sub(u\"[àáâãäå]\", 'a', text)\n",
        "    text = re.sub(u\"[èéêë]\", 'e', text)\n",
        "    text = re.sub(u\"[ìíîï]\", 'i', text)\n",
        "    text = re.sub(u\"[òóôõö]\", 'o', text)\n",
        "    text = re.sub(u\"[ùúûü]\", 'u', text)\n",
        "    text = re.sub(u\"[ýÿ]\", 'y', text)\n",
        "    text = re.sub(u\"[ß]\", 'ss', text)\n",
        "    text = re.sub(u\"[ñ]\", 'n', text)\n",
        "    text = text.replace(\"\\\\\", \" \")\n",
        "    return re.sub(clean, '', text)\n",
        "\n",
        "\n",
        "dfve['clean'] = dfve['fields.body'].apply(cleaning_content)"
      ],
      "metadata": {
        "colab": {
          "base_uri": "https://localhost:8080/"
        },
        "id": "yWrtLXY5At02",
        "outputId": "2d06f868-7fb3-4b3c-84e4-6c35768685bd"
      },
      "execution_count": null,
      "outputs": [
        {
          "output_type": "stream",
          "name": "stderr",
          "text": [
            "/usr/local/lib/python3.7/dist-packages/ipykernel_launcher.py:17: SettingWithCopyWarning: \n",
            "A value is trying to be set on a copy of a slice from a DataFrame.\n",
            "Try using .loc[row_indexer,col_indexer] = value instead\n",
            "\n",
            "See the caveats in the documentation: https://pandas.pydata.org/pandas-docs/stable/user_guide/indexing.html#returning-a-view-versus-a-copy\n"
          ]
        }
      ]
    },
    {
      "cell_type": "code",
      "source": [
        "#Renaming the columns for convenience\n",
        "dfve.rename({'webPublicationDate':'date',\\\n",
        "                'webTitle':'title',\\\n",
        "                'webUrl':'url',\\\n",
        "                'clean':'content'}, axis=1, inplace=True)"
      ],
      "metadata": {
        "id": "TQGArvWfRJ32",
        "colab": {
          "base_uri": "https://localhost:8080/"
        },
        "outputId": "43452887-d96d-4968-ec17-4994a2e5fa78"
      },
      "execution_count": null,
      "outputs": [
        {
          "output_type": "stream",
          "name": "stderr",
          "text": [
            "/usr/local/lib/python3.7/dist-packages/pandas/core/frame.py:4308: SettingWithCopyWarning: \n",
            "A value is trying to be set on a copy of a slice from a DataFrame\n",
            "\n",
            "See the caveats in the documentation: https://pandas.pydata.org/pandas-docs/stable/user_guide/indexing.html#returning-a-view-versus-a-copy\n",
            "  errors=errors,\n"
          ]
        }
      ]
    },
    {
      "cell_type": "code",
      "source": [
        "dfve.iloc[0]['fields.body']"
      ],
      "metadata": {
        "colab": {
          "base_uri": "https://localhost:8080/",
          "height": 140
        },
        "id": "1LG75PHHAEaa",
        "outputId": "0357546c-eee9-4beb-e244-2edead4c31c6"
      },
      "execution_count": null,
      "outputs": [
        {
          "output_type": "execute_result",
          "data": {
            "application/vnd.google.colaboratory.intrinsic+json": {
              "type": "string"
            },
            "text/plain": [
              "'<p> Venezuela’s government is halting negotiations with its opponents in retaliation for the extradition to the US of a close ally of president Nicolás Maduro, who prosecutors believe could be the most significant witness ever about corruption in the South American country.</p> <p>Jorge Rodríguez, who has been heading the government’s delegation, said his team wouldn’t travel to Mexico City for the next scheduled round of negotiations.</p> <p>The announcement capped a tumultuous day that saw Colombian-born businessman Alex Saab placed on a US-bound plane in Cape Verde after a 16-month fight by Maduro and his allies, including Russia, who consider Saab a Venezuelan diplomat.</p> <aside class=\"element element-rich-link element--thumbnail\"> <p> <span>Related: </span><a href=\"https://www.theguardian.com/us-news/2021/jul/08/venezuela-caracas-gun-battles-police-gangs\">Venezuela: intense gun battles rage in Caracas between gangs and police</a> </p> </aside>  <p>The Venezuelan government in September named Saab – who was arrested in June 2020 when his plane stopped in Cape Verde to refuel – as a member of its negotiating team in talks with the opposition in Mexico, where the two sides are looking to solve their political crisis.</p> <p>Rodriguez, reading from a statement, called the decision to suspend negotiations “an expression of our deepest protest against the brutal aggression against the person and the investiture of our delegate Alex Saab Moran”.</p> <p>The leadership of Venezuela’s opposition did not immediately respond to a request for comment.</p> <p>Venezuela, in a Twitter post by the ministry of communications, denounced the extradition as a “kidnapping”.</p> <p>Hours after Saab’s extradition, Venezuela revoked the house arrest of six former executives of refiner Citgo, a US subsidiary of state oil company PDVSA, two sources with knowledge of the situation and a family member told Reuters.</p> <p>The US Justice Department had charged Saab, who also has Venezuelan citizenship, in 2019 in connection with a bribery scheme to take advantage of Venezuela’s state-controlled exchange rate. The US also sanctioned him for allegedly orchestrating a corruption network that allowed Saab and Maduro to profit from a state-run food subsidy program.</p> <p>Saab faces up to 20 years in prison. His lawyers called the US charges “politically motivated”.</p> <p>Saab is expected to make his initial appearance in court on Monday in Miami, according to Justice Department spokesperson Nicole Navas Oxman, who expressed gratitude and admiration to the government of Cape Verde for its professionalism and “perseverance with this complex case”.</p> <p>Cape Verde national radio reported the extradition on Saturday. The government of Cape Verde was not immediately available to comment.</p> <p>In a Twitter post, Colombian president Ivan Duque called Saab’s extradition “a triumph in the fight against drug trafficking, money laundering and corruption by the dictatorship of Nicolas Maduro”.</p> <aside class=\"element element-rich-link element--thumbnail\"> <p> <span>Related: </span><a href=\"https://www.theguardian.com/world/2021/sep/09/former-venezuelan-spymaster-arrested-by-madrid-police-on-us-drugs-charges\">Former Venezuelan spymaster arrested by Madrid police on US drugs charges</a> </p> </aside>  <p>The previous Trump administration had made Saab’s extradition a top priority, at one point even sending a Navy warship to the African archipelago to keep an eye on the captive.</p> <p>The former Citgo executives, who were arrested in November 2017 after being summoned to a meeting at PDVSA headquarters in Caracas, were taken from their homes to one of the headquarters of the intelligence police, two sources said.</p> <p>The six former executives had been released from jail and put on house arrest in April.<br>The group is made up of five naturalised US citizens and one permanent resident. The US government has repeatedly demanded their release.</p> <p>“My father cannot be used as a bargaining chip,” said Cristina Vadell, daughter of former executive Tomeu Vadell. “I’m worried for his health, even more given the country’s coronavirus cases.”</p> <p>The ministry of communications and the attorney general’s office did not immediately respond to requests for comment.</p> <p><em>Associated Press and Reuters contributed to this report</em></p>'"
            ]
          },
          "metadata": {},
          "execution_count": 29
        }
      ]
    },
    {
      "cell_type": "code",
      "source": [
        "dfve.iloc[0]['content']"
      ],
      "metadata": {
        "colab": {
          "base_uri": "https://localhost:8080/",
          "height": 140
        },
        "id": "vbVlI-c3Bs80",
        "outputId": "b42f6bd3-2e70-4c97-9d84-380baf3359e9"
      },
      "execution_count": null,
      "outputs": [
        {
          "output_type": "execute_result",
          "data": {
            "application/vnd.google.colaboratory.intrinsic+json": {
              "type": "string"
            },
            "text/plain": [
              "' Venezuela’s government is halting negotiations with its opponents in retaliation for the extradition to the US of a close ally of president Nicolas Maduro, who prosecutors believe could be the most significant witness ever about corruption in the South American country. Jorge Rodriguez, who has been heading the government’s delegation, said his team wouldn’t travel to Mexico City for the next scheduled round of negotiations. The announcement capped a tumultuous day that saw Colombian-born businessman Alex Saab placed on a US-bound plane in Cape Verde after a 16-month fight by Maduro and his allies, including Russia, who consider Saab a Venezuelan diplomat.   Related: Venezuela: intense gun battles rage in Caracas between gangs and police    The Venezuelan government in September named Saab – who was arrested in June 2020 when his plane stopped in Cape Verde to refuel – as a member of its negotiating team in talks with the opposition in Mexico, where the two sides are looking to solve their political crisis. Rodriguez, reading from a statement, called the decision to suspend negotiations “an expression of our deepest protest against the brutal aggression against the person and the investiture of our delegate Alex Saab Moran”. The leadership of Venezuela’s opposition did not immediately respond to a request for comment. Venezuela, in a Twitter post by the ministry of communications, denounced the extradition as a “kidnapping”. Hours after Saab’s extradition, Venezuela revoked the house arrest of six former executives of refiner Citgo, a US subsidiary of state oil company PDVSA, two sources with knowledge of the situation and a family member told Reuters. The US Justice Department had charged Saab, who also has Venezuelan citizenship, in 2019 in connection with a bribery scheme to take advantage of Venezuela’s state-controlled exchange rate. The US also sanctioned him for allegedly orchestrating a corruption network that allowed Saab and Maduro to profit from a state-run food subsidy program. Saab faces up to 20 years in prison. His lawyers called the US charges “politically motivated”. Saab is expected to make his initial appearance in court on Monday in Miami, according to Justice Department spokesperson Nicole Navas Oxman, who expressed gratitude and admiration to the government of Cape Verde for its professionalism and “perseverance with this complex case”. Cape Verde national radio reported the extradition on Saturday. The government of Cape Verde was not immediately available to comment. In a Twitter post, Colombian president Ivan Duque called Saab’s extradition “a triumph in the fight against drug trafficking, money laundering and corruption by the dictatorship of Nicolas Maduro”.   Related: Former Venezuelan spymaster arrested by Madrid police on US drugs charges    The previous Trump administration had made Saab’s extradition a top priority, at one point even sending a Navy warship to the African archipelago to keep an eye on the captive. The former Citgo executives, who were arrested in November 2017 after being summoned to a meeting at PDVSA headquarters in Caracas, were taken from their homes to one of the headquarters of the intelligence police, two sources said. The six former executives had been released from jail and put on house arrest in April.The group is made up of five naturalised US citizens and one permanent resident. The US government has repeatedly demanded their release. “My father cannot be used as a bargaining chip,” said Cristina Vadell, daughter of former executive Tomeu Vadell. “I’m worried for his health, even more given the country’s coronavirus cases.” The ministry of communications and the attorney general’s office did not immediately respond to requests for comment. Associated Press and Reuters contributed to this report'"
            ]
          },
          "metadata": {},
          "execution_count": 31
        }
      ]
    },
    {
      "cell_type": "code",
      "source": [
        ""
      ],
      "metadata": {
        "id": "qHgARUFaJWBZ"
      },
      "execution_count": null,
      "outputs": []
    },
    {
      "cell_type": "code",
      "source": [
        "#Creating a New Database with this 1122 news articles\n",
        "engine = create_engine('sqlite:///newsve.db', echo=False)\n",
        "meta = MetaData()\n",
        "newstable = Table (\n",
        "    'news_table', meta,\n",
        "    Column('id', String, primary_key = True),\n",
        "    Column('date', Date),\n",
        "    Column('title', String),\n",
        "    Column('url', String),\n",
        "    Column('content', String) \n",
        ")\n",
        "#Selecting just the columns I consider important from the dfve.\n",
        "dfve[['id', 'date', 'title', 'url', 'content']].to_sql('news_table', con=engine, if_exists='append')"
      ],
      "metadata": {
        "id": "uK52TTRbAE2t"
      },
      "execution_count": null,
      "outputs": []
    },
    {
      "cell_type": "code",
      "source": [
        "engine.execute(\"SELECT * FROM news_table limit 5\").fetchall()"
      ],
      "metadata": {
        "colab": {
          "base_uri": "https://localhost:8080/"
        },
        "id": "N9GuOodkAFGt",
        "outputId": "2f6d01f1-56de-4141-f342-a2e8215004f8"
      },
      "execution_count": null,
      "outputs": [
        {
          "output_type": "execute_result",
          "data": {
            "text/plain": [
              "[(0, 'world/2021/oct/17/brutal-aggression-venezuela-halts-talks-with-opposition-after-envoy-extradited-to-us', '2021-10-17T03:31:01Z', '‘Brutal aggression’: Venezuela halts talks with opposition after envoy extradited to US', 'https://www.theguardian.com/world/2021/oct/17/brutal-aggression-venezuela-halts-talks-with-opposition-after-envoy-extradited-to-us', ' Venezuela’s government is halting negotiations with its opponents in retaliation for the extradition to the US of a close ally of president Nicolas  ... (3526 characters truncated) ... ations and the attorney general’s office did not immediately respond to requests for comment. Associated Press and Reuters contributed to this report'),\n",
              " (1, 'world/2020/sep/16/venezuela-un-report-crimes-against-humanity-maduro-government', '2020-09-16T14:41:29Z', 'Venezuela: UN accuses Maduro government of crimes against humanity', 'https://www.theguardian.com/world/2020/sep/16/venezuela-un-report-crimes-against-humanity-maduro-government', 'Venezuela’s president and top ministers are responsible for probable crimes against humanity including extrajudicial killings and the systematic use  ... (3990 characters truncated) ... urt, a crime against humanity is defined as an act committed as part of a “widespread or systematic attack directed against any civilian population”.'),\n",
              " (2, 'world/2021/jan/18/venezuela-nicolas-maduro-oxygen-brazil-covid', '2021-01-18T15:45:00Z', \"Venezuela's Nicolás Maduro sends oxygen to tackle Brazil's Covid crisis\", 'https://www.theguardian.com/world/2021/jan/18/venezuela-nicolas-maduro-oxygen-brazil-covid', \"Venezuela’s strongman president, Nicolas Maduro, has sent an emergency shipment of oxygen to his country’s border with Brazil in a politically charge ... (3053 characters truncated) ...  he is a corrupt dictator and a human rights abuser who has managed to destroy Venezuela, once one of the most prosperous countries in the Americas.”\"),\n",
              " (3, 'world/2021/sep/14/weatherwatch-venezuelas-varied-climate', '2021-09-14T05:00:06Z', 'Weatherwatch: Venezuela’s varied climate', 'https://www.theguardian.com/world/2021/sep/14/weatherwatch-venezuelas-varied-climate', 'The most northerly country in South America, Venezuela is also the sixth largest – roughly one-and-a-half times the size of France or Texas. It is ve ... (1057 characters truncated) ... und; while the Orinoco Delta, to the east towards the border with Guyana, gets about 2,000mm (almost 80in) of rain a year, with no real “dry season”.'),\n",
              " (4, 'environment/2021/jul/08/so-enigmatic-injured-sloth-inspires-rescue-centre-in-venezuela-aoe', '2021-07-08T08:04:35Z', '‘So enigmatic’: injured sloth inspires rescue centre in Venezuela', 'https://www.theguardian.com/environment/2021/jul/08/so-enigmatic-injured-sloth-inspires-rescue-centre-in-venezuela-aoe', \"It is almost a year to the day that Haydee and Juan Carlos Rodriguez first spotted an injured sloth lying by the side of the road while they were out ... (7208 characters truncated) ... d to continue their work, inspired by Chuwie’s remarkable restoration to health. “To us,” Haydee says, “he is the most beautiful sloth in the world.”\")]"
            ]
          },
          "metadata": {},
          "execution_count": 34
        }
      ]
    },
    {
      "cell_type": "code",
      "source": [
        "#Just selecting columns of interest from now on, and calling it df\n",
        "df = dfve[['id', 'date', 'title', 'url', 'content']]"
      ],
      "metadata": {
        "id": "0R3xiieGJDqr"
      },
      "execution_count": null,
      "outputs": []
    },
    {
      "cell_type": "code",
      "source": [
        "#Let's try to focus on building a topic modeling tool for the years between 1999 and 2004\n",
        "start_date = '1999-01-01'\n",
        "end_date = '2004-01-01'\n",
        "mask99_03 = (df['date'] > f'{start_date}') & (df['date'] < f'{end_date}') "
      ],
      "metadata": {
        "id": "coO1aX7HAFV2"
      },
      "execution_count": null,
      "outputs": []
    },
    {
      "cell_type": "code",
      "metadata": {
        "id": "HuABjD4g8r61",
        "colab": {
          "base_uri": "https://localhost:8080/",
          "height": 289
        },
        "outputId": "f7f9eb2b-2c32-4962-c8a3-3268509bd7f9"
      },
      "source": [
        "df[mask99_03].sample(5)"
      ],
      "execution_count": null,
      "outputs": [
        {
          "output_type": "execute_result",
          "data": {
            "text/html": [
              "<div>\n",
              "<style scoped>\n",
              "    .dataframe tbody tr th:only-of-type {\n",
              "        vertical-align: middle;\n",
              "    }\n",
              "\n",
              "    .dataframe tbody tr th {\n",
              "        vertical-align: top;\n",
              "    }\n",
              "\n",
              "    .dataframe thead th {\n",
              "        text-align: right;\n",
              "    }\n",
              "</style>\n",
              "<table border=\"1\" class=\"dataframe\">\n",
              "  <thead>\n",
              "    <tr style=\"text-align: right;\">\n",
              "      <th></th>\n",
              "      <th>id</th>\n",
              "      <th>date</th>\n",
              "      <th>title</th>\n",
              "      <th>url</th>\n",
              "      <th>content</th>\n",
              "    </tr>\n",
              "  </thead>\n",
              "  <tbody>\n",
              "    <tr>\n",
              "      <th>0</th>\n",
              "      <td>stage/2003/mar/14/theatre.artsfeatures2</td>\n",
              "      <td>2003-03-14T11:36:11Z</td>\n",
              "      <td>Venezuela, Arcola, London</td>\n",
              "      <td>https://www.theguardian.com/stage/2003/mar/14/...</td>\n",
              "      <td>The excellent Arcola theatre proves its worth ...</td>\n",
              "    </tr>\n",
              "    <tr>\n",
              "      <th>10</th>\n",
              "      <td>world/2003/aug/10/venezuela.theobserver</td>\n",
              "      <td>2003-08-09T23:57:58Z</td>\n",
              "      <td>Venezuela's slum army takes over</td>\n",
              "      <td>https://www.theguardian.com/world/2003/aug/10/...</td>\n",
              "      <td>The economy is in a shambles, the country is t...</td>\n",
              "    </tr>\n",
              "    <tr>\n",
              "      <th>11</th>\n",
              "      <td>world/2000/aug/10/iraq.brianwhitaker</td>\n",
              "      <td>2000-08-10T00:05:51Z</td>\n",
              "      <td>US furious at Venezuelan leader's visit to Saddam</td>\n",
              "      <td>https://www.theguardian.com/world/2000/aug/10/...</td>\n",
              "      <td>The Venezuelan president, Hugo Chavez, is due ...</td>\n",
              "    </tr>\n",
              "    <tr>\n",
              "      <th>81</th>\n",
              "      <td>media/2003/jan/08/broadcasting</td>\n",
              "      <td>2003-01-08T08:17:19Z</td>\n",
              "      <td>How talk show hosts used canned Castro to fool...</td>\n",
              "      <td>https://www.theguardian.com/media/2003/jan/08/...</td>\n",
              "      <td>Two Miami radio presenters used a tape recordi...</td>\n",
              "    </tr>\n",
              "    <tr>\n",
              "      <th>78</th>\n",
              "      <td>world/2002/apr/08/venezuela.oil</td>\n",
              "      <td>2002-04-08T13:49:36Z</td>\n",
              "      <td>Venezuelan president purges oil company</td>\n",
              "      <td>https://www.theguardian.com/world/2002/apr/08/...</td>\n",
              "      <td>Venezuela's president, Hugo Chavez, sacked sev...</td>\n",
              "    </tr>\n",
              "  </tbody>\n",
              "</table>\n",
              "</div>"
            ],
            "text/plain": [
              "                                         id  ...                                            content\n",
              "0   stage/2003/mar/14/theatre.artsfeatures2  ...  The excellent Arcola theatre proves its worth ...\n",
              "10  world/2003/aug/10/venezuela.theobserver  ...  The economy is in a shambles, the country is t...\n",
              "11     world/2000/aug/10/iraq.brianwhitaker  ...  The Venezuelan president, Hugo Chavez, is due ...\n",
              "81           media/2003/jan/08/broadcasting  ...  Two Miami radio presenters used a tape recordi...\n",
              "78          world/2002/apr/08/venezuela.oil  ...  Venezuela's president, Hugo Chavez, sacked sev...\n",
              "\n",
              "[5 rows x 5 columns]"
            ]
          },
          "metadata": {},
          "execution_count": 69
        }
      ]
    },
    {
      "cell_type": "code",
      "source": [
        "#This is all important for the Pre-processing"
      ],
      "metadata": {
        "id": "Lcp3rzl1Il2z"
      },
      "execution_count": null,
      "outputs": []
    },
    {
      "cell_type": "code",
      "source": [
        "import gensim\n",
        "from nltk.stem import WordNetLemmatizer\n",
        "from collections import Counter\n",
        "import seaborn as sns\n",
        "import matplotlib.pyplot as plt\n",
        "from textblob import TextBlob\n",
        "\n",
        "from sklearn.feature_extraction.text import TfidfVectorizer, CountVectorizer, ENGLISH_STOP_WORDS\n",
        "from sklearn.decomposition import NMF, TruncatedSVD, LatentDirichletAllocation\n",
        "import nltk\n",
        "nltk.download('wordnet')"
      ],
      "metadata": {
        "colab": {
          "base_uri": "https://localhost:8080/"
        },
        "id": "pypZAJtaoBuR",
        "outputId": "0437c62c-97e7-49bf-b91c-d7cb2444ca41"
      },
      "execution_count": null,
      "outputs": [
        {
          "output_type": "stream",
          "name": "stdout",
          "text": [
            "[nltk_data] Downloading package wordnet to /root/nltk_data...\n",
            "[nltk_data]   Unzipping corpora/wordnet.zip.\n"
          ]
        },
        {
          "output_type": "execute_result",
          "data": {
            "text/plain": [
              "True"
            ]
          },
          "metadata": {},
          "execution_count": 1
        }
      ]
    },
    {
      "cell_type": "code",
      "source": [
        "pip install pipreqs"
      ],
      "metadata": {
        "colab": {
          "base_uri": "https://localhost:8080/"
        },
        "id": "uXZw2wVZFRim",
        "outputId": "5b08f735-d20c-4ece-eb6e-1b818e5c0891"
      },
      "execution_count": null,
      "outputs": [
        {
          "output_type": "stream",
          "name": "stdout",
          "text": [
            "Collecting pipreqs\n",
            "  Downloading pipreqs-0.4.11-py2.py3-none-any.whl (32 kB)\n",
            "Requirement already satisfied: docopt in /usr/local/lib/python3.7/dist-packages (from pipreqs) (0.6.2)\n",
            "Collecting yarg\n",
            "  Downloading yarg-0.1.9-py2.py3-none-any.whl (19 kB)\n",
            "Requirement already satisfied: requests in /usr/local/lib/python3.7/dist-packages (from yarg->pipreqs) (2.23.0)\n",
            "Requirement already satisfied: chardet<4,>=3.0.2 in /usr/local/lib/python3.7/dist-packages (from requests->yarg->pipreqs) (3.0.4)\n",
            "Requirement already satisfied: urllib3!=1.25.0,!=1.25.1,<1.26,>=1.21.1 in /usr/local/lib/python3.7/dist-packages (from requests->yarg->pipreqs) (1.24.3)\n",
            "Requirement already satisfied: certifi>=2017.4.17 in /usr/local/lib/python3.7/dist-packages (from requests->yarg->pipreqs) (2021.10.8)\n",
            "Requirement already satisfied: idna<3,>=2.5 in /usr/local/lib/python3.7/dist-packages (from requests->yarg->pipreqs) (2.10)\n",
            "Installing collected packages: yarg, pipreqs\n",
            "Successfully installed pipreqs-0.4.11 yarg-0.1.9\n"
          ]
        }
      ]
    },
    {
      "cell_type": "code",
      "source": [
        "!pipreqs "
      ],
      "metadata": {
        "colab": {
          "base_uri": "https://localhost:8080/"
        },
        "id": "7JlB72C3FZ9M",
        "outputId": "2e332a66-a97a-42c8-81a6-d87e19fd51ce"
      },
      "execution_count": null,
      "outputs": [
        {
          "output_type": "stream",
          "name": "stdout",
          "text": [
            "INFO: Successfully saved requirements file in /content/requirements.txt\n"
          ]
        }
      ]
    },
    {
      "cell_type": "code",
      "source": [
        " def tokenize(text):\n",
        "        \"\"\"Returns tokenized representation of words in lemma form excluding stopwords\"\"\"\n",
        "        result = []\n",
        "        for token in gensim.utils.simple_preprocess(text):\n",
        "            if token not in gensim.parsing.preprocessing.STOPWORDS \\\n",
        "                    and len(token) > 2:  # drops words with less than 3 characters\n",
        "                result.append(lemmatize(token))\n",
        "        return result\n",
        "def lemmatize(token):\n",
        "        \"\"\"Returns lemmatization of a token\"\"\"\n",
        "        return WordNetLemmatizer().lemmatize(token, pos='v')\n",
        "        \n",
        "def string_joiner(x):\n",
        "        return ' '.join([str(item) for item in x])  \n",
        "    \n",
        "#Applying lemmatization\n",
        "df['lemma'] = df.content.apply(tokenize)\n",
        "df['joined_lemma'] = df.lemma.apply(string_joiner)\n",
        "\n"
      ],
      "metadata": {
        "id": "tOfs1fCUks3I"
      },
      "execution_count": null,
      "outputs": []
    },
    {
      "cell_type": "code",
      "source": [
        "df.sample(5)"
      ],
      "metadata": {
        "colab": {
          "base_uri": "https://localhost:8080/",
          "height": 374
        },
        "id": "wv1ZoZppyta4",
        "outputId": "340dd99f-8700-45a2-8f45-b45df0130d8b"
      },
      "execution_count": null,
      "outputs": [
        {
          "output_type": "execute_result",
          "data": {
            "text/html": [
              "<div>\n",
              "<style scoped>\n",
              "    .dataframe tbody tr th:only-of-type {\n",
              "        vertical-align: middle;\n",
              "    }\n",
              "\n",
              "    .dataframe tbody tr th {\n",
              "        vertical-align: top;\n",
              "    }\n",
              "\n",
              "    .dataframe thead th {\n",
              "        text-align: right;\n",
              "    }\n",
              "</style>\n",
              "<table border=\"1\" class=\"dataframe\">\n",
              "  <thead>\n",
              "    <tr style=\"text-align: right;\">\n",
              "      <th></th>\n",
              "      <th>id</th>\n",
              "      <th>date</th>\n",
              "      <th>title</th>\n",
              "      <th>url</th>\n",
              "      <th>content</th>\n",
              "      <th>lemma</th>\n",
              "      <th>joined_lemma</th>\n",
              "    </tr>\n",
              "  </thead>\n",
              "  <tbody>\n",
              "    <tr>\n",
              "      <th>62</th>\n",
              "      <td>world/2017/apr/24/venezuela-protests-roads-blo...</td>\n",
              "      <td>2017-04-25T00:10:54Z</td>\n",
              "      <td>Venezuela anti-government protesters paralyse ...</td>\n",
              "      <td>https://www.theguardian.com/world/2017/apr/24/...</td>\n",
              "      <td>Venezuela’s major transport arteries juddered ...</td>\n",
              "      <td>[venezuela, major, transport, arteries, judder...</td>\n",
              "      <td>venezuela major transport arteries judder halt...</td>\n",
              "    </tr>\n",
              "    <tr>\n",
              "      <th>68</th>\n",
              "      <td>world/2019/apr/15/china-mike-pompeo-venezuela-...</td>\n",
              "      <td>2019-04-15T15:55:45Z</td>\n",
              "      <td>‘Pompeo has lost his mind’: China denies US cl...</td>\n",
              "      <td>https://www.theguardian.com/world/2019/apr/15/...</td>\n",
              "      <td>China has rejected US claims that it is partly...</td>\n",
              "      <td>[china, reject, claim, partly, blame, disinteg...</td>\n",
              "      <td>china reject claim partly blame disintegration...</td>\n",
              "    </tr>\n",
              "    <tr>\n",
              "      <th>61</th>\n",
              "      <td>world/2018/sep/08/trump-nicolas-maduro-overthr...</td>\n",
              "      <td>2018-09-08T16:32:15Z</td>\n",
              "      <td>Trump officials met with Venezuelan officers t...</td>\n",
              "      <td>https://www.theguardian.com/world/2018/sep/08/...</td>\n",
              "      <td>The Trump administration held meetings with di...</td>\n",
              "      <td>[trump, administration, hold, meet, dissident,...</td>\n",
              "      <td>trump administration hold meet dissident venez...</td>\n",
              "    </tr>\n",
              "    <tr>\n",
              "      <th>53</th>\n",
              "      <td>world/2017/aug/08/venezuela-hugo-chavez-ruben-...</td>\n",
              "      <td>2017-08-08T09:00:34Z</td>\n",
              "      <td>Chávez loyalists hold firm amid chaos in Venez...</td>\n",
              "      <td>https://www.theguardian.com/world/2017/aug/08/...</td>\n",
              "      <td>Ruben Ávila – an idealist raised on Marxist th...</td>\n",
              "      <td>[ruben, ávila, idealist, raise, marxist, theor...</td>\n",
              "      <td>ruben ávila idealist raise marxist theory ster...</td>\n",
              "    </tr>\n",
              "    <tr>\n",
              "      <th>21</th>\n",
              "      <td>world/us-embassy-cables-documents/229894</td>\n",
              "      <td>2010-12-09T13:11:19Z</td>\n",
              "      <td>US embassy cables: Safety concerns at Venezuel...</td>\n",
              "      <td>https://www.theguardian.com/world/us-embassy-c...</td>\n",
              "      <td>Thursday, 15 October 2009, 21:59C O N F I D E ...</td>\n",
              "      <td>[thursday, october, section, caracas, sipdis, ...</td>\n",
              "      <td>thursday october section caracas sipdis energy...</td>\n",
              "    </tr>\n",
              "  </tbody>\n",
              "</table>\n",
              "</div>"
            ],
            "text/plain": [
              "                                                   id  ...                                       joined_lemma\n",
              "62  world/2017/apr/24/venezuela-protests-roads-blo...  ...  venezuela major transport arteries judder halt...\n",
              "68  world/2019/apr/15/china-mike-pompeo-venezuela-...  ...  china reject claim partly blame disintegration...\n",
              "61  world/2018/sep/08/trump-nicolas-maduro-overthr...  ...  trump administration hold meet dissident venez...\n",
              "53  world/2017/aug/08/venezuela-hugo-chavez-ruben-...  ...  ruben ávila idealist raise marxist theory ster...\n",
              "21           world/us-embassy-cables-documents/229894  ...  thursday october section caracas sipdis energy...\n",
              "\n",
              "[5 rows x 7 columns]"
            ]
          },
          "metadata": {},
          "execution_count": 74
        }
      ]
    },
    {
      "cell_type": "code",
      "source": [
        "def wcounter(pdseries):\n",
        "    all_words = []\n",
        "    for line in list(pdseries):\n",
        "        words = line.split()\n",
        "        for word in words:\n",
        "            all_words.append(word.lower())\n",
        "    print (Counter(all_words).most_common(20))"
      ],
      "metadata": {
        "id": "Pr5qEiAkzCPp"
      },
      "execution_count": null,
      "outputs": []
    },
    {
      "cell_type": "code",
      "source": [
        "wcounter(df.content)"
      ],
      "metadata": {
        "colab": {
          "base_uri": "https://localhost:8080/"
        },
        "id": "EX0GBTnjzDZH",
        "outputId": "9c0a5fc2-7dc6-448f-f359-c829256b666b"
      },
      "execution_count": null,
      "outputs": [
        {
          "output_type": "stream",
          "name": "stdout",
          "text": [
            "[('the', 48366), ('of', 22892), ('to', 22471), ('a', 20201), ('and', 19038), ('in', 17089), ('is', 7917), ('that', 7755), ('for', 7059), ('on', 6792), ('has', 5410), ('he', 5217), ('with', 5100), ('was', 5015), ('as', 4977), ('by', 4484), ('have', 4449), ('his', 4440), ('it', 4017), ('are', 3880)]\n"
          ]
        }
      ]
    },
    {
      "cell_type": "code",
      "source": [
        "wcounter (df.joined_lemma)"
      ],
      "metadata": {
        "colab": {
          "base_uri": "https://localhost:8080/"
        },
        "id": "NRj8H2ClzD4T",
        "outputId": "df89f782-d63e-49ef-8934-f8b838867ddc"
      },
      "execution_count": null,
      "outputs": [
        {
          "output_type": "stream",
          "name": "stdout",
          "text": [
            "[('venezuela', 6408), ('say', 5996), ('maduro', 4052), ('chavez', 3830), ('government', 3077), ('president', 2741), ('country', 2370), ('opposition', 2156), ('people', 2005), ('venezuelan', 1984), ('state', 1736), ('caracas', 1632), ('oil', 1578), ('year', 1400), ('guaido', 1231), ('power', 1210), ('new', 1196), ('political', 1169), ('time', 1101), ('military', 1040)]\n"
          ]
        }
      ]
    },
    {
      "cell_type": "code",
      "source": [
        "#Saving the df as a CSV and calling it a day..."
      ],
      "metadata": {
        "id": "7mTyBlIM2JAa"
      },
      "execution_count": null,
      "outputs": []
    },
    {
      "cell_type": "code",
      "source": [
        "df.info()"
      ],
      "metadata": {
        "id": "oufaffyj2lX8"
      },
      "execution_count": null,
      "outputs": []
    },
    {
      "cell_type": "code",
      "source": [
        "df.to_csv('data.csv')"
      ],
      "metadata": {
        "id": "WU2ziUqj3BIq"
      },
      "execution_count": null,
      "outputs": []
    },
    {
      "cell_type": "code",
      "source": [
        "#December 14, anniversary day, not feeling the best, but gonna make my project work!\n",
        "testing = pd.read_csv('/data.csv', index_col=0)\n"
      ],
      "metadata": {
        "id": "WLUWpvIf3QSs"
      },
      "execution_count": null,
      "outputs": []
    },
    {
      "cell_type": "code",
      "source": [
        "testing.info()"
      ],
      "metadata": {
        "colab": {
          "base_uri": "https://localhost:8080/"
        },
        "id": "p3r4EClT3dVI",
        "outputId": "814e7aa5-f935-4104-de65-61113444d119"
      },
      "execution_count": null,
      "outputs": [
        {
          "output_type": "stream",
          "name": "stdout",
          "text": [
            "<class 'pandas.core.frame.DataFrame'>\n",
            "Int64Index: 1122 entries, 0 to 52\n",
            "Data columns (total 7 columns):\n",
            " #   Column        Non-Null Count  Dtype \n",
            "---  ------        --------------  ----- \n",
            " 0   id            1122 non-null   object\n",
            " 1   date          1122 non-null   object\n",
            " 2   title         1122 non-null   object\n",
            " 3   url           1122 non-null   object\n",
            " 4   content       1072 non-null   object\n",
            " 5   lemma         1122 non-null   object\n",
            " 6   joined_lemma  1071 non-null   object\n",
            "dtypes: object(7)\n",
            "memory usage: 70.1+ KB\n"
          ]
        }
      ]
    },
    {
      "cell_type": "code",
      "source": [
        "testing.dropna(subset= ['content', 'joined_lemma'],inplace=True, axis=0)"
      ],
      "metadata": {
        "id": "xcxVtnj-3nrl"
      },
      "execution_count": null,
      "outputs": []
    },
    {
      "cell_type": "code",
      "source": [
        "testing.info()"
      ],
      "metadata": {
        "colab": {
          "base_uri": "https://localhost:8080/"
        },
        "id": "y2d_fgyR7ut_",
        "outputId": "4a5388e8-e19d-43d0-e3c3-9b890b1afa6a"
      },
      "execution_count": null,
      "outputs": [
        {
          "output_type": "stream",
          "name": "stdout",
          "text": [
            "<class 'pandas.core.frame.DataFrame'>\n",
            "Int64Index: 1071 entries, 0 to 52\n",
            "Data columns (total 7 columns):\n",
            " #   Column        Non-Null Count  Dtype \n",
            "---  ------        --------------  ----- \n",
            " 0   id            1071 non-null   object\n",
            " 1   date          1071 non-null   object\n",
            " 2   title         1071 non-null   object\n",
            " 3   url           1071 non-null   object\n",
            " 4   content       1071 non-null   object\n",
            " 5   lemma         1071 non-null   object\n",
            " 6   joined_lemma  1071 non-null   object\n",
            "dtypes: object(7)\n",
            "memory usage: 66.9+ KB\n"
          ]
        }
      ]
    },
    {
      "cell_type": "code",
      "source": [
        "testing.head()"
      ],
      "metadata": {
        "colab": {
          "base_uri": "https://localhost:8080/",
          "height": 425
        },
        "id": "_gKQK6-g73pc",
        "outputId": "2f7516a5-907b-4fd3-e6e4-fe01a7fd4195"
      },
      "execution_count": null,
      "outputs": [
        {
          "output_type": "execute_result",
          "data": {
            "text/html": [
              "<div>\n",
              "<style scoped>\n",
              "    .dataframe tbody tr th:only-of-type {\n",
              "        vertical-align: middle;\n",
              "    }\n",
              "\n",
              "    .dataframe tbody tr th {\n",
              "        vertical-align: top;\n",
              "    }\n",
              "\n",
              "    .dataframe thead th {\n",
              "        text-align: right;\n",
              "    }\n",
              "</style>\n",
              "<table border=\"1\" class=\"dataframe\">\n",
              "  <thead>\n",
              "    <tr style=\"text-align: right;\">\n",
              "      <th></th>\n",
              "      <th>id</th>\n",
              "      <th>date</th>\n",
              "      <th>title</th>\n",
              "      <th>url</th>\n",
              "      <th>content</th>\n",
              "      <th>lemma</th>\n",
              "      <th>joined_lemma</th>\n",
              "    </tr>\n",
              "  </thead>\n",
              "  <tbody>\n",
              "    <tr>\n",
              "      <th>0</th>\n",
              "      <td>world/2021/oct/17/brutal-aggression-venezuela-...</td>\n",
              "      <td>2021-10-17T03:31:01Z</td>\n",
              "      <td>‘Brutal aggression’: Venezuela halts talks wit...</td>\n",
              "      <td>https://www.theguardian.com/world/2021/oct/17/...</td>\n",
              "      <td>Venezuela’s government is halting negotiation...</td>\n",
              "      <td>['venezuela', 'government', 'halt', 'negotiati...</td>\n",
              "      <td>venezuela government halt negotiations opponen...</td>\n",
              "    </tr>\n",
              "    <tr>\n",
              "      <th>1</th>\n",
              "      <td>world/2020/sep/16/venezuela-un-report-crimes-a...</td>\n",
              "      <td>2020-09-16T14:41:29Z</td>\n",
              "      <td>Venezuela: UN accuses Maduro government of cri...</td>\n",
              "      <td>https://www.theguardian.com/world/2020/sep/16/...</td>\n",
              "      <td>Venezuela’s president and top ministers are re...</td>\n",
              "      <td>['venezuela', 'president', 'minister', 'respon...</td>\n",
              "      <td>venezuela president minister responsible proba...</td>\n",
              "    </tr>\n",
              "    <tr>\n",
              "      <th>2</th>\n",
              "      <td>world/2021/jan/18/venezuela-nicolas-maduro-oxy...</td>\n",
              "      <td>2021-01-18T15:45:00Z</td>\n",
              "      <td>Venezuela's Nicolás Maduro sends oxygen to tac...</td>\n",
              "      <td>https://www.theguardian.com/world/2021/jan/18/...</td>\n",
              "      <td>Venezuela’s strongman president, Nicolas Madur...</td>\n",
              "      <td>['venezuela', 'strongman', 'president', 'nicol...</td>\n",
              "      <td>venezuela strongman president nicolas maduro s...</td>\n",
              "    </tr>\n",
              "    <tr>\n",
              "      <th>3</th>\n",
              "      <td>world/2021/sep/14/weatherwatch-venezuelas-vari...</td>\n",
              "      <td>2021-09-14T05:00:06Z</td>\n",
              "      <td>Weatherwatch: Venezuela’s varied climate</td>\n",
              "      <td>https://www.theguardian.com/world/2021/sep/14/...</td>\n",
              "      <td>The most northerly country in South America, V...</td>\n",
              "      <td>['northerly', 'country', 'south', 'america', '...</td>\n",
              "      <td>northerly country south america venezuela sixt...</td>\n",
              "    </tr>\n",
              "    <tr>\n",
              "      <th>4</th>\n",
              "      <td>environment/2021/jul/08/so-enigmatic-injured-s...</td>\n",
              "      <td>2021-07-08T08:04:35Z</td>\n",
              "      <td>‘So enigmatic’: injured sloth inspires rescue ...</td>\n",
              "      <td>https://www.theguardian.com/environment/2021/j...</td>\n",
              "      <td>It is almost a year to the day that Haydee and...</td>\n",
              "      <td>['year', 'day', 'haydee', 'juan', 'carlos', 'r...</td>\n",
              "      <td>year day haydee juan carlos rodriguez spot inj...</td>\n",
              "    </tr>\n",
              "  </tbody>\n",
              "</table>\n",
              "</div>"
            ],
            "text/plain": [
              "                                                  id  ...                                       joined_lemma\n",
              "0  world/2021/oct/17/brutal-aggression-venezuela-...  ...  venezuela government halt negotiations opponen...\n",
              "1  world/2020/sep/16/venezuela-un-report-crimes-a...  ...  venezuela president minister responsible proba...\n",
              "2  world/2021/jan/18/venezuela-nicolas-maduro-oxy...  ...  venezuela strongman president nicolas maduro s...\n",
              "3  world/2021/sep/14/weatherwatch-venezuelas-vari...  ...  northerly country south america venezuela sixt...\n",
              "4  environment/2021/jul/08/so-enigmatic-injured-s...  ...  year day haydee juan carlos rodriguez spot inj...\n",
              "\n",
              "[5 rows x 7 columns]"
            ]
          },
          "metadata": {},
          "execution_count": 13
        }
      ]
    },
    {
      "cell_type": "code",
      "source": [
        "df = testing.copy()"
      ],
      "metadata": {
        "id": "9xQ_eN8v8Q5D"
      },
      "execution_count": null,
      "outputs": []
    },
    {
      "cell_type": "code",
      "source": [
        "#Let's try to focus on building a topic modeling tool for the years between 1999 and 2004\n",
        "start_date = '1999-01-01'\n",
        "end_date = '2004-01-01'\n",
        "mask99_03 = (df['date'] > f'{start_date}') & (df['date'] < f'{end_date}') "
      ],
      "metadata": {
        "id": "QldYxKzX764m"
      },
      "execution_count": null,
      "outputs": []
    },
    {
      "cell_type": "code",
      "source": [
        "#For the years [99-2004)\n",
        "\n",
        "#Stopwords\n",
        "words_to_add = ['venezuela', 'chavez', 'caracas', 'say',\\\n",
        "                'miami', 'time', 'live', 'self', 'style',\\\n",
        "                'yellow', 'brazil','theguardian', 'weeks', 'ago', 'year', 'world', 'football']\n",
        "stop_w = ENGLISH_STOP_WORDS.union(words_to_add)\n",
        " \n",
        "vectorizer = TfidfVectorizer(max_features=2000, min_df=0.021, stop_words=stop_w, ngram_range=(2,3))\n",
        "X = vectorizer.fit_transform(df[mask99_03].joined_lemma)\n",
        "words = np.array(vectorizer.get_feature_names_out())\n",
        "#Now, applying the NMF\n",
        " \n",
        "nmf = NMF(n_components=5, solver=\"cd\")\n",
        "W = nmf.fit_transform(X)\n",
        "H = nmf.components_\n",
        "\n",
        "for i, topic in enumerate(H):\n",
        "     print(\"Topic {}: {}\".format(i + 1, \",\".join([str(x) for x in words[topic.argsort()[-4:]]])))\n",
        "\n"
      ],
      "metadata": {
        "colab": {
          "base_uri": "https://localhost:8080/"
        },
        "id": "CWAdPNXg8VDq",
        "outputId": "3c3ca6d5-b5fd-42fa-b0d4-b923dda274ab"
      },
      "execution_count": null,
      "outputs": [
        {
          "output_type": "stream",
          "name": "stdout",
          "text": [
            "Topic 1: oil company,president hugo,general strike,state oil\n",
            "Topic 2: peaceful revolution,constituent assembly,latin america,new constitution\n",
            "Topic 3: fidel castro,april fool,castro want,anti castro\n",
            "Topic 4: qualify finals,beat uruguay,play australia,south american\n",
            "Topic 5: pedro carmona,oil price,white house,unite state\n"
          ]
        },
        {
          "output_type": "stream",
          "name": "stderr",
          "text": [
            "/usr/local/lib/python3.7/dist-packages/sklearn/decomposition/_nmf.py:294: FutureWarning: The 'init' value, when 'init=None' and n_components is less than n_samples and n_features, will be changed from 'nndsvd' to 'nndsvda' in 1.1 (renaming of 0.26).\n",
            "  FutureWarning,\n"
          ]
        }
      ]
    },
    {
      "cell_type": "code",
      "source": [
        "#Finding the links for some of the words in the topics. \n",
        "df[(df.title.str.contains('general | strike', flags=re.IGNORECASE, regex=True)) & (mask99_03)][['title','url']]"
      ],
      "metadata": {
        "colab": {
          "base_uri": "https://localhost:8080/",
          "height": 297
        },
        "id": "6JKnOjCv3enp",
        "outputId": "146be195-5c51-4ca1-cbe2-00a69f99875d"
      },
      "execution_count": null,
      "outputs": [
        {
          "output_type": "execute_result",
          "data": {
            "text/html": [
              "<div>\n",
              "<style scoped>\n",
              "    .dataframe tbody tr th:only-of-type {\n",
              "        vertical-align: middle;\n",
              "    }\n",
              "\n",
              "    .dataframe tbody tr th {\n",
              "        vertical-align: top;\n",
              "    }\n",
              "\n",
              "    .dataframe thead th {\n",
              "        text-align: right;\n",
              "    }\n",
              "</style>\n",
              "<table border=\"1\" class=\"dataframe\">\n",
              "  <thead>\n",
              "    <tr style=\"text-align: right;\">\n",
              "      <th></th>\n",
              "      <th>title</th>\n",
              "      <th>url</th>\n",
              "    </tr>\n",
              "  </thead>\n",
              "  <tbody>\n",
              "    <tr>\n",
              "      <th>74</th>\n",
              "      <td>Chavez turns to troops amid strike chaos</td>\n",
              "      <td>https://www.theguardian.com/world/2003/jan/18/venezuela</td>\n",
              "    </tr>\n",
              "    <tr>\n",
              "      <th>76</th>\n",
              "      <td>Venezuela arrests strike leader</td>\n",
              "      <td>https://www.theguardian.com/world/2003/feb/21/venezuela</td>\n",
              "    </tr>\n",
              "    <tr>\n",
              "      <th>77</th>\n",
              "      <td>Venezuela strike leader 'arrested'</td>\n",
              "      <td>https://www.theguardian.com/world/2003/feb/20/venezuela1</td>\n",
              "    </tr>\n",
              "    <tr>\n",
              "      <th>8</th>\n",
              "      <td>Chavez tries to steady the ship as strike peters out</td>\n",
              "      <td>https://www.theguardian.com/world/2003/feb/07/venezuela.duncancampbell</td>\n",
              "    </tr>\n",
              "    <tr>\n",
              "      <th>33</th>\n",
              "      <td>Bank strike deepens crisis in Venezuela</td>\n",
              "      <td>https://www.theguardian.com/world/2003/jan/09/venezuela.duncancampbell</td>\n",
              "    </tr>\n",
              "    <tr>\n",
              "      <th>37</th>\n",
              "      <td>Venezuelan strike halts oil exports</td>\n",
              "      <td>https://www.theguardian.com/world/2002/dec/07/oil.venezuela</td>\n",
              "    </tr>\n",
              "    <tr>\n",
              "      <th>38</th>\n",
              "      <td>Venezuelan president defies calls for general election</td>\n",
              "      <td>https://www.theguardian.com/world/2002/dec/16/venezuela</td>\n",
              "    </tr>\n",
              "    <tr>\n",
              "      <th>27</th>\n",
              "      <td>Oil exports slump as Venezuelan strike drags on</td>\n",
              "      <td>https://www.theguardian.com/world/2002/dec/11/venezuela</td>\n",
              "    </tr>\n",
              "  </tbody>\n",
              "</table>\n",
              "</div>"
            ],
            "text/plain": [
              "                                                     title                                                                     url\n",
              "74                Chavez turns to troops amid strike chaos                 https://www.theguardian.com/world/2003/jan/18/venezuela\n",
              "76                         Venezuela arrests strike leader                 https://www.theguardian.com/world/2003/feb/21/venezuela\n",
              "77                      Venezuela strike leader 'arrested'                https://www.theguardian.com/world/2003/feb/20/venezuela1\n",
              "8     Chavez tries to steady the ship as strike peters out  https://www.theguardian.com/world/2003/feb/07/venezuela.duncancampbell\n",
              "33                 Bank strike deepens crisis in Venezuela  https://www.theguardian.com/world/2003/jan/09/venezuela.duncancampbell\n",
              "37                     Venezuelan strike halts oil exports             https://www.theguardian.com/world/2002/dec/07/oil.venezuela\n",
              "38  Venezuelan president defies calls for general election                 https://www.theguardian.com/world/2002/dec/16/venezuela\n",
              "27         Oil exports slump as Venezuelan strike drags on                 https://www.theguardian.com/world/2002/dec/11/venezuela"
            ]
          },
          "metadata": {},
          "execution_count": 37
        }
      ]
    },
    {
      "cell_type": "code",
      "source": [
        "#Finding the links for some of the words in the topics. \n",
        "df[(df.title.str.contains('finals', flags=re.IGNORECASE, regex=True)) & (mask99_03)][['title','url']]"
      ],
      "metadata": {
        "colab": {
          "base_uri": "https://localhost:8080/",
          "height": 49
        },
        "id": "Oj8hc2g_6tUB",
        "outputId": "1b150505-71ac-4154-d046-a311e8f2daf6"
      },
      "execution_count": null,
      "outputs": [
        {
          "output_type": "execute_result",
          "data": {
            "text/html": [
              "<div>\n",
              "<style scoped>\n",
              "    .dataframe tbody tr th:only-of-type {\n",
              "        vertical-align: middle;\n",
              "    }\n",
              "\n",
              "    .dataframe tbody tr th {\n",
              "        vertical-align: top;\n",
              "    }\n",
              "\n",
              "    .dataframe thead th {\n",
              "        text-align: right;\n",
              "    }\n",
              "</style>\n",
              "<table border=\"1\" class=\"dataframe\">\n",
              "  <thead>\n",
              "    <tr style=\"text-align: right;\">\n",
              "      <th></th>\n",
              "      <th>title</th>\n",
              "      <th>url</th>\n",
              "    </tr>\n",
              "  </thead>\n",
              "  <tbody>\n",
              "  </tbody>\n",
              "</table>\n",
              "</div>"
            ],
            "text/plain": [
              "Empty DataFrame\n",
              "Columns: [title, url]\n",
              "Index: []"
            ]
          },
          "metadata": {},
          "execution_count": 57
        }
      ]
    },
    {
      "cell_type": "code",
      "source": [
        "pd.set_option('max_rows', 99999)\n",
        "pd.set_option('max_colwidth', 400)\n",
        "pd.describe_option('max_colwidth')"
      ],
      "metadata": {
        "colab": {
          "base_uri": "https://localhost:8080/"
        },
        "id": "jA2glGkX8p71",
        "outputId": "7e406406-647f-46fe-bf32-3aab06c6815d"
      },
      "execution_count": null,
      "outputs": [
        {
          "output_type": "stream",
          "name": "stdout",
          "text": [
            "display.max_colwidth : int or None\n",
            "    The maximum width in characters of a column in the repr of\n",
            "    a pandas data structure. When the column overflows, a \"...\"\n",
            "    placeholder is embedded in the output. A 'None' value means unlimited.\n",
            "    [default: 50] [currently: 400]\n"
          ]
        }
      ]
    },
    {
      "cell_type": "code",
      "source": [
        "#Let's try to focus on building a topic modeling tool for the years between 2004 and 2009)\n",
        "start_date = '2004-01-01'\n",
        "end_date = '2009-01-01'\n",
        "mask04_08 = (df['date'] > f'{start_date}') & (df['date'] < f'{end_date}') "
      ],
      "metadata": {
        "id": "eEO2sJBICMoT"
      },
      "execution_count": null,
      "outputs": []
    },
    {
      "cell_type": "code",
      "source": [
        "#For the years [2004-2009)\n",
        "\n",
        "#Stopwords\n",
        "words_to_add = ['venezuela', 'chavez', 'caracas', 'say', 'time', 'live', 'self', 'style', 'theguardian', 'weeks', 'ago', 'year']\n",
        "stop_w = ENGLISH_STOP_WORDS.union(words_to_add)\n",
        " \n",
        "vectorizer = TfidfVectorizer(max_features=2000, min_df=.03, stop_words=stop_w, ngram_range=(2,3))\n",
        "X = vectorizer.fit_transform(df[mask04_08].joined_lemma)\n",
        "words = np.array(vectorizer.get_feature_names_out())\n",
        "nmf = NMF(n_components=5, solver=\"cd\")\n",
        "W = nmf.fit_transform(X)\n",
        "H = nmf.components_\n",
        "\n",
        "for i, topic in enumerate(H):\n",
        "     print(\"Topic {}: {}\".format(i + 1, \",\".join([str(x) for x in words[topic.argsort()[-4:]]])))\n"
      ],
      "metadata": {
        "colab": {
          "base_uri": "https://localhost:8080/"
        },
        "id": "b9f9l3Om9-2e",
        "outputId": "51eca8a5-fe38-4c05-de06-cf447b87dcd1"
      },
      "execution_count": null,
      "outputs": [
        {
          "output_type": "stream",
          "name": "stdout",
          "text": [
            "Topic 1: latin american,george bush,bush administration,venezuelan president\n",
            "Topic 2: land reform,radio television,press freedom,president hugo\n",
            "Topic 3: human right,latin american,simon bolivar,latin america\n",
            "Topic 4: public service,socialist revolution,term limit,opinion poll\n",
            "Topic 5: colombia farc,revolutionary arm,force colombia,arm force\n"
          ]
        },
        {
          "output_type": "stream",
          "name": "stderr",
          "text": [
            "/usr/local/lib/python3.7/dist-packages/sklearn/decomposition/_nmf.py:294: FutureWarning: The 'init' value, when 'init=None' and n_components is less than n_samples and n_features, will be changed from 'nndsvd' to 'nndsvda' in 1.1 (renaming of 0.26).\n",
            "  FutureWarning,\n"
          ]
        }
      ]
    },
    {
      "cell_type": "code",
      "source": [
        "#Finding the links for some of the words in the topics. \n",
        "df[(df.title.str.contains('socialist', flags=re.IGNORECASE, regex=True)) & (mask04_08)][['title','url']]"
      ],
      "metadata": {
        "colab": {
          "base_uri": "https://localhost:8080/",
          "height": 173
        },
        "id": "ZWzdE0p0Hu7E",
        "outputId": "2f9f5d83-6134-4b09-9041-29962bca269c"
      },
      "execution_count": null,
      "outputs": [
        {
          "output_type": "execute_result",
          "data": {
            "text/html": [
              "<div>\n",
              "<style scoped>\n",
              "    .dataframe tbody tr th:only-of-type {\n",
              "        vertical-align: middle;\n",
              "    }\n",
              "\n",
              "    .dataframe tbody tr th {\n",
              "        vertical-align: top;\n",
              "    }\n",
              "\n",
              "    .dataframe thead th {\n",
              "        text-align: right;\n",
              "    }\n",
              "</style>\n",
              "<table border=\"1\" class=\"dataframe\">\n",
              "  <thead>\n",
              "    <tr style=\"text-align: right;\">\n",
              "      <th></th>\n",
              "      <th>title</th>\n",
              "      <th>url</th>\n",
              "    </tr>\n",
              "  </thead>\n",
              "  <tbody>\n",
              "    <tr>\n",
              "      <th>48</th>\n",
              "      <td>Ben Whitford: Voters in Venezuela's urban areas abandon Hugo Chávez's socialist project</td>\n",
              "      <td>https://www.theguardian.com/commentisfree/cifamerica/2008/nov/24/venezuela-elections-hugo-chavez</td>\n",
              "    </tr>\n",
              "    <tr>\n",
              "      <th>7</th>\n",
              "      <td>Venezuela and Iran: The Holocaust denier, the radical socialist, and their axis of unity</td>\n",
              "      <td>https://www.theguardian.com/world/2007/jul/25/venezuela.iran</td>\n",
              "    </tr>\n",
              "    <tr>\n",
              "      <th>70</th>\n",
              "      <td>Flares and medallions live again on Chavez's socialist TV</td>\n",
              "      <td>https://www.theguardian.com/media/2007/jun/09/venezuela.broadcasting</td>\n",
              "    </tr>\n",
              "    <tr>\n",
              "      <th>34</th>\n",
              "      <td>Chavez is a populist, not a socialist</td>\n",
              "      <td>https://www.theguardian.com/commentisfree/2006/may/15/chavezispopulistnotasocia</td>\n",
              "    </tr>\n",
              "  </tbody>\n",
              "</table>\n",
              "</div>"
            ],
            "text/plain": [
              "                                                                                       title                                                                                               url\n",
              "48   Ben Whitford: Voters in Venezuela's urban areas abandon Hugo Chávez's socialist project  https://www.theguardian.com/commentisfree/cifamerica/2008/nov/24/venezuela-elections-hugo-chavez\n",
              "7   Venezuela and Iran: The Holocaust denier, the radical socialist, and their axis of unity                                      https://www.theguardian.com/world/2007/jul/25/venezuela.iran\n",
              "70                                 Flares and medallions live again on Chavez's socialist TV                              https://www.theguardian.com/media/2007/jun/09/venezuela.broadcasting\n",
              "34                                                     Chavez is a populist, not a socialist                   https://www.theguardian.com/commentisfree/2006/may/15/chavezispopulistnotasocia"
            ]
          },
          "metadata": {},
          "execution_count": 85
        }
      ]
    },
    {
      "cell_type": "code",
      "source": [
        "#From 2009 to 2014)\n",
        "start_date = '2009-01-01'\n",
        "end_date = '2014-01-01'\n",
        "mask09_14 = (df['date'] > f'{start_date}') & (df['date'] < f'{end_date}') "
      ],
      "metadata": {
        "id": "CXNgp8BHC39H"
      },
      "execution_count": null,
      "outputs": []
    },
    {
      "cell_type": "code",
      "source": [
        "#For the years [2009-2014)\n",
        "\n",
        "#Stopwords\n",
        "words_to_add = ['venezuela', 'caracas', 'say', 'time', 'live',\\\n",
        "                'getty', 'venezuelan', 'play', 'nbsp', 'bst', 'min', 'look', 'year', 'ago', 'afp', 'simon', 'chavez']\n",
        "stop_w = ENGLISH_STOP_WORDS.union(words_to_add)\n",
        "  \n",
        "vectorizer = TfidfVectorizer(max_features=2000, min_df=0.10, stop_words=stop_w, ngram_range=(2,3))\n",
        "X = vectorizer.fit_transform(df[mask09_14].joined_lemma)\n",
        "words = np.array(vectorizer.get_feature_names_out())\n",
        "nmf = NMF(n_components=5, solver=\"cd\")\n",
        "W = nmf.fit_transform(X)\n",
        "H = nmf.components_\n",
        "\n",
        "for i, topic in enumerate(H):\n",
        "     print(\"Topic {}: {}\".format(i + 1, \",\".join([str(x) for x in words[topic.argsort()[-5:]]])))\n"
      ],
      "metadata": {
        "colab": {
          "base_uri": "https://localhost:8080/"
        },
        "id": "1Y_Un0MdD_YE",
        "outputId": "16d26e8d-341b-4895-8bc9-3af59603bd97"
      },
      "execution_count": null,
      "outputs": [
        {
          "output_type": "stream",
          "name": "stdout",
          "text": [
            "Topic 1: president nicolas,rule party,henrique capriles,national assembly,nicolas maduro\n",
            "Topic 2: latin american,unite state,south america,socialist revolution,president hugo\n",
            "Topic 3: henrique capriles,south america,unite state,latin american,latin america\n",
            "Topic 4: socialist revolution,vice president,national assembly,human right,national guard\n",
            "Topic 5: national assembly,south america,socialist revolution,oil revenues,oil company\n"
          ]
        },
        {
          "output_type": "stream",
          "name": "stderr",
          "text": [
            "/usr/local/lib/python3.7/dist-packages/sklearn/decomposition/_nmf.py:294: FutureWarning: The 'init' value, when 'init=None' and n_components is less than n_samples and n_features, will be changed from 'nndsvd' to 'nndsvda' in 1.1 (renaming of 0.26).\n",
            "  FutureWarning,\n"
          ]
        }
      ]
    },
    {
      "cell_type": "code",
      "source": [
        "#Finding the links for some of the words in the topics. \n",
        "df[(df.title.str.contains('socialist', flags=re.IGNORECASE, regex=True)) & (mask09_14)][['title','url']]"
      ],
      "metadata": {
        "colab": {
          "base_uri": "https://localhost:8080/",
          "height": 80
        },
        "id": "Pk3ZZASRMJMN",
        "outputId": "2864b05a-f1cd-4534-e218-1738e072f03f"
      },
      "execution_count": null,
      "outputs": [
        {
          "output_type": "execute_result",
          "data": {
            "text/html": [
              "<div>\n",
              "<style scoped>\n",
              "    .dataframe tbody tr th:only-of-type {\n",
              "        vertical-align: middle;\n",
              "    }\n",
              "\n",
              "    .dataframe tbody tr th {\n",
              "        vertical-align: top;\n",
              "    }\n",
              "\n",
              "    .dataframe thead th {\n",
              "        text-align: right;\n",
              "    }\n",
              "</style>\n",
              "<table border=\"1\" class=\"dataframe\">\n",
              "  <thead>\n",
              "    <tr style=\"text-align: right;\">\n",
              "      <th></th>\n",
              "      <th>title</th>\n",
              "      <th>url</th>\n",
              "    </tr>\n",
              "  </thead>\n",
              "  <tbody>\n",
              "    <tr>\n",
              "      <th>57</th>\n",
              "      <td>Hugo Chávez vows to keep Venezuela 'on socialist path' after re-election</td>\n",
              "      <td>https://www.theguardian.com/world/2012/oct/08/venezuela-election-hugo-chavez</td>\n",
              "    </tr>\n",
              "  </tbody>\n",
              "</table>\n",
              "</div>"
            ],
            "text/plain": [
              "                                                                       title                                                                           url\n",
              "57  Hugo Chávez vows to keep Venezuela 'on socialist path' after re-election  https://www.theguardian.com/world/2012/oct/08/venezuela-election-hugo-chavez"
            ]
          },
          "metadata": {},
          "execution_count": 154
        }
      ]
    },
    {
      "cell_type": "code",
      "source": [
        "#From 2014 to 2017)\n",
        "start_date = '2014-01-01'\n",
        "end_date = '2017-01-01'\n",
        "mask14_17 = (df['date'] > f'{start_date}') & (df['date'] < f'{end_date}') "
      ],
      "metadata": {
        "id": "RIJAvvBUEI-r"
      },
      "execution_count": null,
      "outputs": []
    },
    {
      "cell_type": "code",
      "source": [
        "#For the years [2014-2017)\n",
        "\n",
        "#Stopwords\n",
        "words_to_add = ['venezuela', 'caracas', 'say', 'time', 'live',\\\n",
        "                'getty', 'venezuelan', 'play', 'nbsp', 'bst', 'min', 'look', 'year', 'ago', 'afp']\n",
        "stop_w = ENGLISH_STOP_WORDS.union(words_to_add)\n",
        " \n",
        "vectorizer = TfidfVectorizer(max_features=2000, min_df=0.05, stop_words=stop_w, ngram_range=(2,3))\n",
        "X = vectorizer.fit_transform(df[mask14_17].joined_lemma)\n",
        "words = np.array(vectorizer.get_feature_names_out())\n",
        "nmf = NMF(n_components=5, solver=\"cd\")\n",
        "W = nmf.fit_transform(X)\n",
        "H = nmf.components_\n",
        "\n",
        "for i, topic in enumerate(H):\n",
        "     print(\"Topic {}: {}\".format(i + 1, \",\".join([str(x) for x in words[topic.argsort()[-4:]]])))"
      ],
      "metadata": {
        "colab": {
          "base_uri": "https://localhost:8080/"
        },
        "id": "7iBzzHJIG-hD",
        "outputId": "7558ee85-8a66-4e8c-dd17-7593f7a4e6e4"
      },
      "execution_count": null,
      "outputs": [
        {
          "output_type": "stream",
          "name": "stdout",
          "text": [
            "Topic 1: nicolas maduro,recall referendum,oil price,national assembly\n",
            "Topic 2: human right abuse,right abuse,latin america,human right\n",
            "Topic 3: late president hugo,late president,president hugo,president hugo chavez\n",
            "Topic 4: price control,currency control,exchange rate,black market\n",
            "Topic 5: leader leopoldo,leader leopoldo lopez,opposition leader,leopoldo lopez\n"
          ]
        },
        {
          "output_type": "stream",
          "name": "stderr",
          "text": [
            "/usr/local/lib/python3.7/dist-packages/sklearn/decomposition/_nmf.py:294: FutureWarning: The 'init' value, when 'init=None' and n_components is less than n_samples and n_features, will be changed from 'nndsvd' to 'nndsvda' in 1.1 (renaming of 0.26).\n",
            "  FutureWarning,\n"
          ]
        }
      ]
    },
    {
      "cell_type": "code",
      "source": [
        "df[(df.title.str.contains('black market', flags=re.IGNORECASE, regex=True)) & (mask14_17)][['title','url']]"
      ],
      "metadata": {
        "colab": {
          "base_uri": "https://localhost:8080/",
          "height": 97
        },
        "id": "jkKj0nvdQH3V",
        "outputId": "479f5a0f-20b2-4128-a1cc-6bafcbec45db"
      },
      "execution_count": null,
      "outputs": [
        {
          "output_type": "execute_result",
          "data": {
            "text/html": [
              "<div>\n",
              "<style scoped>\n",
              "    .dataframe tbody tr th:only-of-type {\n",
              "        vertical-align: middle;\n",
              "    }\n",
              "\n",
              "    .dataframe tbody tr th {\n",
              "        vertical-align: top;\n",
              "    }\n",
              "\n",
              "    .dataframe thead th {\n",
              "        text-align: right;\n",
              "    }\n",
              "</style>\n",
              "<table border=\"1\" class=\"dataframe\">\n",
              "  <thead>\n",
              "    <tr style=\"text-align: right;\">\n",
              "      <th></th>\n",
              "      <th>title</th>\n",
              "      <th>url</th>\n",
              "    </tr>\n",
              "  </thead>\n",
              "  <tbody>\n",
              "    <tr>\n",
              "      <th>67</th>\n",
              "      <td>Price controls and scarcity force Venezuelans to turn to the black market for milk and toilet paper</td>\n",
              "      <td>https://www.theguardian.com/global-development-professionals-network/2015/apr/16/venezuela-economy-black-market-milk-and-toilet-paper</td>\n",
              "    </tr>\n",
              "  </tbody>\n",
              "</table>\n",
              "</div>"
            ],
            "text/plain": [
              "                                                                                                  title                                                                                                                                    url\n",
              "67  Price controls and scarcity force Venezuelans to turn to the black market for milk and toilet paper  https://www.theguardian.com/global-development-professionals-network/2015/apr/16/venezuela-economy-black-market-milk-and-toilet-paper"
            ]
          },
          "metadata": {},
          "execution_count": 131
        }
      ]
    },
    {
      "cell_type": "code",
      "source": [
        "#From 2017 to 2021)\n",
        "start_date = '2017-01-01'\n",
        "end_date = '2021-01-01'\n",
        "mask17_21 = (df['date'] > f'{start_date}') & (df['date'] < f'{end_date}') "
      ],
      "metadata": {
        "id": "TbtchQWUHHxW"
      },
      "execution_count": null,
      "outputs": []
    },
    {
      "cell_type": "code",
      "source": [
        "#For the years [2017-2021)\n",
        "\n",
        "#Stopwords\n",
        "words_to_add = ['venezuela', 'caracas', 'say', 'time', 'live', 'play', 'nbsp']\n",
        "stop_w = ENGLISH_STOP_WORDS.union(words_to_add)\n",
        " \n",
        "vectorizer = TfidfVectorizer(max_features=2000, min_df=0.01, stop_words=stop_w, ngram_range=(2,3))\n",
        "X = vectorizer.fit_transform(df[mask17_21].joined_lemma)\n",
        "words = np.array(vectorizer.get_feature_names_out())\n",
        "nmf = NMF(n_components=5, solver=\"cd\")\n",
        "W = nmf.fit_transform(X)\n",
        "H = nmf.components_\n",
        "\n",
        "for i, topic in enumerate(H):\n",
        "     print(\"Topic {}: {}\".format(i + 1, \",\".join([str(x) for x in words[topic.argsort()[-4:]]])))"
      ],
      "metadata": {
        "colab": {
          "base_uri": "https://localhost:8080/"
        },
        "id": "_7LVnr-7ICuC",
        "outputId": "16f828db-1ca6-45aa-8b12-47b73348187d"
      },
      "execution_count": null,
      "outputs": [
        {
          "output_type": "stream",
          "name": "stdout",
          "text": [
            "Topic 1: nicolas maduro,opposition leader,donald trump,juan guaido\n",
            "Topic 2: work class family,human right,sanction maduro,oil price\n",
            "Topic 3: import food medicine,electoral boycott,import food,black market\n",
            "Topic 4: brief deliver thousands,sign morning,sign morning brief,morning brief\n",
            "Topic 5: supreme court,security force,human right,constituent assembly\n"
          ]
        },
        {
          "output_type": "stream",
          "name": "stderr",
          "text": [
            "/usr/local/lib/python3.7/dist-packages/sklearn/decomposition/_nmf.py:294: FutureWarning: The 'init' value, when 'init=None' and n_components is less than n_samples and n_features, will be changed from 'nndsvd' to 'nndsvda' in 1.1 (renaming of 0.26).\n",
            "  FutureWarning,\n"
          ]
        }
      ]
    },
    {
      "cell_type": "code",
      "source": [
        "#Finding the links for some of the words in the topics. \n",
        "df[(df.title.str.contains('human', flags=re.IGNORECASE, regex=True)) & (mask17_21)][['title','url']]"
      ],
      "metadata": {
        "colab": {
          "base_uri": "https://localhost:8080/",
          "height": 286
        },
        "id": "GFfh5ZRmVD0x",
        "outputId": "7ddb5c3c-1867-4d1d-ad1b-e78f736165cb"
      },
      "execution_count": null,
      "outputs": [
        {
          "output_type": "execute_result",
          "data": {
            "text/html": [
              "<div>\n",
              "<style scoped>\n",
              "    .dataframe tbody tr th:only-of-type {\n",
              "        vertical-align: middle;\n",
              "    }\n",
              "\n",
              "    .dataframe tbody tr th {\n",
              "        vertical-align: top;\n",
              "    }\n",
              "\n",
              "    .dataframe thead th {\n",
              "        text-align: right;\n",
              "    }\n",
              "</style>\n",
              "<table border=\"1\" class=\"dataframe\">\n",
              "  <thead>\n",
              "    <tr style=\"text-align: right;\">\n",
              "      <th></th>\n",
              "      <th>title</th>\n",
              "      <th>url</th>\n",
              "    </tr>\n",
              "  </thead>\n",
              "  <tbody>\n",
              "    <tr>\n",
              "      <th>1</th>\n",
              "      <td>Venezuela: UN accuses Maduro government of crimes against humanity</td>\n",
              "      <td>https://www.theguardian.com/world/2020/sep/16/venezuela-un-report-crimes-against-humanity-maduro-government</td>\n",
              "    </tr>\n",
              "    <tr>\n",
              "      <th>21</th>\n",
              "      <td>Venezuela’s Covid-19 death toll claims ‘not credible’, human rights group says</td>\n",
              "      <td>https://www.theguardian.com/world/2020/may/26/venezuela-coronavirus-death-toll-human-rights-watch</td>\n",
              "    </tr>\n",
              "    <tr>\n",
              "      <th>24</th>\n",
              "      <td>Venezuela wins UN human rights council seat despite record of abuses</td>\n",
              "      <td>https://www.theguardian.com/world/2019/oct/17/venezuela-un-human-rights-council-activists-outraged</td>\n",
              "    </tr>\n",
              "    <tr>\n",
              "      <th>81</th>\n",
              "      <td>'It's like 1984': Venezuela targets human rights defenders</td>\n",
              "      <td>https://www.theguardian.com/global-development/2019/jan/03/venezuela-human-rights-arrests-nicolas-maduro</td>\n",
              "    </tr>\n",
              "    <tr>\n",
              "      <th>23</th>\n",
              "      <td>Venezuela’s opposition wins EU’s prestigious human rights prize</td>\n",
              "      <td>https://www.theguardian.com/world/2017/dec/13/venezuelas-opposition-wins-eus-prestigious-human-rights-prize</td>\n",
              "    </tr>\n",
              "    <tr>\n",
              "      <th>28</th>\n",
              "      <td>Nine ways you can support Venezuelan human rights protests | Reynaldo Trombetta</td>\n",
              "      <td>https://www.theguardian.com/commentisfree/2017/may/10/support-venezuelan-human-rights-protests-maduro</td>\n",
              "    </tr>\n",
              "  </tbody>\n",
              "</table>\n",
              "</div>"
            ],
            "text/plain": [
              "                                                                              title                                                                                                          url\n",
              "1                Venezuela: UN accuses Maduro government of crimes against humanity  https://www.theguardian.com/world/2020/sep/16/venezuela-un-report-crimes-against-humanity-maduro-government\n",
              "21   Venezuela’s Covid-19 death toll claims ‘not credible’, human rights group says            https://www.theguardian.com/world/2020/may/26/venezuela-coronavirus-death-toll-human-rights-watch\n",
              "24             Venezuela wins UN human rights council seat despite record of abuses           https://www.theguardian.com/world/2019/oct/17/venezuela-un-human-rights-council-activists-outraged\n",
              "81                       'It's like 1984': Venezuela targets human rights defenders     https://www.theguardian.com/global-development/2019/jan/03/venezuela-human-rights-arrests-nicolas-maduro\n",
              "23                  Venezuela’s opposition wins EU’s prestigious human rights prize  https://www.theguardian.com/world/2017/dec/13/venezuelas-opposition-wins-eus-prestigious-human-rights-prize\n",
              "28  Nine ways you can support Venezuelan human rights protests | Reynaldo Trombetta        https://www.theguardian.com/commentisfree/2017/may/10/support-venezuelan-human-rights-protests-maduro"
            ]
          },
          "metadata": {},
          "execution_count": 195
        }
      ]
    },
    {
      "cell_type": "code",
      "source": [
        "#Last piece of code, news from January to december 2021"
      ],
      "metadata": {
        "id": "KN_JL7UfIV4j"
      },
      "execution_count": null,
      "outputs": []
    },
    {
      "cell_type": "code",
      "source": [
        "start_date = '2021-01-01'\n",
        "end_date = '2021-12-01'\n",
        "mask21 = (df['date'] > f'{start_date}') & (df['date'] < f'{end_date}')"
      ],
      "metadata": {
        "id": "aGosEd4rKjP-"
      },
      "execution_count": null,
      "outputs": []
    },
    {
      "cell_type": "code",
      "source": [
        "\n",
        "#Stopwords\n",
        "words_to_add = ['venezuela', 'caracas', 'say', 'time', 'live', 'play', 'chavez']\n",
        "stop_w = ENGLISH_STOP_WORDS.union(words_to_add)\n",
        " \n",
        "vectorizer = TfidfVectorizer(max_features=2000, min_df=0.2, stop_words=stop_w, ngram_range=(2,3))\n",
        "X = vectorizer.fit_transform(df[mask21].joined_lemma)\n",
        "words = np.array(vectorizer.get_feature_names_out())\n",
        "nmf = NMF(n_components=5, solver=\"cd\")\n",
        "W = nmf.fit_transform(X)\n",
        "H = nmf.components_\n",
        "\n",
        "for i, topic in enumerate(H):\n",
        "     print(\"Topic {}: {}\".format(i + 1, \",\".join([str(x) for x in words[topic.argsort()[-4:]]])))"
      ],
      "metadata": {
        "colab": {
          "base_uri": "https://localhost:8080/"
        },
        "id": "abNG7Sj9Knhx",
        "outputId": "79627ca7-0845-4c0e-aff9-7f5300b6a8c1"
      },
      "execution_count": null,
      "outputs": [
        {
          "output_type": "stream",
          "name": "stdout",
          "text": [
            "Topic 1: venezuelan refugees,human right,latin american,latin america\n",
            "Topic 2: refugees migrants,drug traffic,tell guardian,year old\n",
            "Topic 3: president nicolas,president nicolas maduro,drug traffic,nicolas maduro\n",
            "Topic 4: president nicolas maduro,president nicolas,nicolas maduro,political crisis\n",
            "Topic 5: economic social,refugee agency,venezuelan migrants,million venezuelans\n"
          ]
        },
        {
          "output_type": "stream",
          "name": "stderr",
          "text": [
            "/usr/local/lib/python3.7/dist-packages/sklearn/decomposition/_nmf.py:294: FutureWarning: The 'init' value, when 'init=None' and n_components is less than n_samples and n_features, will be changed from 'nndsvd' to 'nndsvda' in 1.1 (renaming of 0.26).\n",
            "  FutureWarning,\n"
          ]
        }
      ]
    },
    {
      "cell_type": "code",
      "source": [
        "#Finding the links for some of the words in the topics. \n",
        "df[(df.title.str.contains('', flags=re.IGNORECASE, regex=True)) & (mask21)][['title','url']]"
      ],
      "metadata": {
        "id": "P0aAobnIKr2E",
        "colab": {
          "base_uri": "https://localhost:8080/",
          "height": 49
        },
        "outputId": "a51a61ca-5f0a-40c1-f14f-6dfd2053bc02"
      },
      "execution_count": null,
      "outputs": [
        {
          "output_type": "execute_result",
          "data": {
            "text/html": [
              "<div>\n",
              "<style scoped>\n",
              "    .dataframe tbody tr th:only-of-type {\n",
              "        vertical-align: middle;\n",
              "    }\n",
              "\n",
              "    .dataframe tbody tr th {\n",
              "        vertical-align: top;\n",
              "    }\n",
              "\n",
              "    .dataframe thead th {\n",
              "        text-align: right;\n",
              "    }\n",
              "</style>\n",
              "<table border=\"1\" class=\"dataframe\">\n",
              "  <thead>\n",
              "    <tr style=\"text-align: right;\">\n",
              "      <th></th>\n",
              "      <th>title</th>\n",
              "      <th>url</th>\n",
              "    </tr>\n",
              "  </thead>\n",
              "  <tbody>\n",
              "  </tbody>\n",
              "</table>\n",
              "</div>"
            ],
            "text/plain": [
              "Empty DataFrame\n",
              "Columns: [title, url]\n",
              "Index: []"
            ]
          },
          "metadata": {},
          "execution_count": 225
        }
      ]
    },
    {
      "cell_type": "code",
      "source": [
        "#12-15-21\n",
        "\n",
        "\n",
        "#Today's plan, get all of the versions of packages and libraries needed to add to my streamlit app. \n",
        "\n",
        "\n",
        "#12-16-21. Write them manually is the best option. "
      ],
      "metadata": {
        "id": "3c694vynbUn9"
      },
      "execution_count": null,
      "outputs": []
    },
    {
      "cell_type": "code",
      "source": [
        ""
      ],
      "metadata": {
        "id": "6YIDZg972XHY"
      },
      "execution_count": null,
      "outputs": []
    },
    {
      "cell_type": "code",
      "source": [
        ""
      ],
      "metadata": {
        "id": "TDhXzcMRXBA9"
      },
      "execution_count": null,
      "outputs": []
    },
    {
      "cell_type": "code",
      "source": [
        ""
      ],
      "metadata": {
        "id": "12j_uR8gahZ8"
      },
      "execution_count": null,
      "outputs": []
    }
  ]
}