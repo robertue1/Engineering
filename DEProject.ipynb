{
  "nbformat": 4,
  "nbformat_minor": 0,
  "metadata": {
    "colab": {
      "name": "DEProject.ipynb",
      "provenance": [],
      "mount_file_id": "1vTGIa9NjSwWF9O5iM10qLT-gLn7AMzKO",
      "authorship_tag": "ABX9TyNU6VSSlwLVmcOVMyM7NR3N",
      "include_colab_link": true
    },
    "kernelspec": {
      "name": "python3",
      "display_name": "Python 3"
    },
    "language_info": {
      "name": "python"
    }
  },
  "cells": [
    {
      "cell_type": "markdown",
      "metadata": {
        "id": "view-in-github",
        "colab_type": "text"
      },
      "source": [
        "<a href=\"https://colab.research.google.com/github/robertue1/News_topic_modeling_using_NLP/blob/main/DEProject.ipynb\" target=\"_parent\"><img src=\"https://colab.research.google.com/assets/colab-badge.svg\" alt=\"Open In Colab\"/></a>"
      ]
    },
    {
      "cell_type": "code",
      "metadata": {
        "id": "lknPZoYH_jvk",
        "colab": {
          "base_uri": "https://localhost:8080/"
        },
        "outputId": "e4b06538-55ec-4c16-db4c-cfa44bd17baa"
      },
      "source": [
        "\n",
        "import urllib3\n",
        "from urllib3 import request\n",
        "import json\n",
        "from pprint import pprint\n",
        "import pandas as pd\n",
        "import certifi\n",
        "import numpy as np\n",
        "import time\n",
        "import re\n",
        "\n",
        "#other needed tools\n",
        "from sqlalchemy import create_engine\n",
        "from sqlalchemy import Table, Column, Integer, String, MetaData, Float, Date\n",
        "from collections import defaultdict\n",
        "\n",
        "import gensim\n",
        "from nltk.stem import WordNetLemmatizer\n",
        "from collections import Counter\n",
        "import seaborn as sns\n",
        "import matplotlib.pyplot as plt\n",
        "from textblob import TextBlob\n",
        "\n",
        "from sklearn.feature_extraction.text import TfidfVectorizer, CountVectorizer, ENGLISH_STOP_WORDS\n",
        "from sklearn.decomposition import NMF, TruncatedSVD, LatentDirichletAllocation\n",
        "import nltk\n",
        "nltk.download('wordnet')\n",
        "\n",
        "http = urllib3.PoolManager(\n",
        "       cert_reqs='CERT_REQUIRED',\n",
        "       ca_certs=certifi.where())"
      ],
      "execution_count": null,
      "outputs": [
        {
          "output_type": "stream",
          "name": "stdout",
          "text": [
            "[nltk_data] Downloading package wordnet to /root/nltk_data...\n",
            "[nltk_data]   Unzipping corpora/wordnet.zip.\n"
          ]
        }
      ]
    },
    {
      "cell_type": "code",
      "source": [
        "# I'll be fetching the whole set of articles in one call,\n",
        "#also, this time I'll be adding the word Chavez and Maduro as another possible match for news. \n"
      ],
      "metadata": {
        "id": "8xNh57xlRJlF"
      },
      "execution_count": null,
      "outputs": []
    },
    {
      "cell_type": "code",
      "source": [
        "#From 1999 to 2021\n",
        "API_KEY = '189604c2-ac97-4295-9ccf-e3556505cff3'\n",
        "query = \"Venezuela | Chavez | Maduro\"\n",
        "query_fields = \"webTitle\"\n",
        "section = \"news\"\n",
        "show_fields = \"body\"\n",
        "page_size = \"100\"\n",
        "from_date = \"1999-01-01\"\n",
        "to_date = \"2021-12-01\"\n",
        "retrieved_articles = 0\n",
        "for i in range(1,100):\n",
        "  query_url = f\"http://content.guardianapis.com/search?\" \\\n",
        "              f\"api-key={API_KEY}\" \\\n",
        "              f\"&q={query}\" \\\n",
        "              f\"&query-fields ={query_fields}\"\\\n",
        "              f\"&page={i}\" f\"&page-size={page_size}\"\\\n",
        "              f\"&show-fields={show_fields}\"\\\n",
        "              f\"&from-date={from_date}\" \\\n",
        "              f\"&to-date={to_date}\"\\\n",
        "\n",
        "  r = http.request('GET', query_url)\n",
        "  time.sleep(1)\n",
        "  data = json.loads(r.data.decode('utf-8')) #Saving the articles in data\n",
        "  num_articles = data['response']['total'] #This is the total number of articles in the range of search. \n",
        "  #Here, I'm creating 'df' if it is the first time running the code, otherwise, I'll be concatenating the new data to the exisiting 'df'. \n",
        "  if i == 1:\n",
        "    df99_21 = pd.json_normalize(data['response'],record_path=['results'])\n",
        "  else:\n",
        "    df99_21 = pd.concat([df99_21,pd.json_normalize(data['response'],record_path=['results'])], axis=0)\n",
        "  retrieved_articles = int(page_size)*i\n",
        "  #Now, I'm gonna compare the number of articles retrieved versus the total of \n",
        "  #articles, to see if i should break the for loop prematurely\n",
        "  if retrieved_articles > num_articles:\n",
        "    break\n",
        "print (num_articles)"
      ],
      "metadata": {
        "colab": {
          "base_uri": "https://localhost:8080/"
        },
        "id": "cww-9IdO2FHW",
        "outputId": "e00fec1a-99b3-4e32-fa68-96734299f5dd"
      },
      "execution_count": null,
      "outputs": [
        {
          "output_type": "stream",
          "name": "stdout",
          "text": [
            "7636\n"
          ]
        }
      ]
    },
    {
      "cell_type": "code",
      "source": [
        "df99_21.sample(2)"
      ],
      "metadata": {
        "colab": {
          "base_uri": "https://localhost:8080/",
          "height": 301
        },
        "id": "c16C0N1H2FaW",
        "outputId": "cebc01a0-5343-4ed9-fe3d-f8bdfb264d77"
      },
      "execution_count": null,
      "outputs": [
        {
          "output_type": "execute_result",
          "data": {
            "text/html": [
              "<div>\n",
              "<style scoped>\n",
              "    .dataframe tbody tr th:only-of-type {\n",
              "        vertical-align: middle;\n",
              "    }\n",
              "\n",
              "    .dataframe tbody tr th {\n",
              "        vertical-align: top;\n",
              "    }\n",
              "\n",
              "    .dataframe thead th {\n",
              "        text-align: right;\n",
              "    }\n",
              "</style>\n",
              "<table border=\"1\" class=\"dataframe\">\n",
              "  <thead>\n",
              "    <tr style=\"text-align: right;\">\n",
              "      <th></th>\n",
              "      <th>id</th>\n",
              "      <th>type</th>\n",
              "      <th>sectionId</th>\n",
              "      <th>sectionName</th>\n",
              "      <th>webPublicationDate</th>\n",
              "      <th>webTitle</th>\n",
              "      <th>webUrl</th>\n",
              "      <th>apiUrl</th>\n",
              "      <th>isHosted</th>\n",
              "      <th>pillarId</th>\n",
              "      <th>pillarName</th>\n",
              "      <th>fields.body</th>\n",
              "    </tr>\n",
              "  </thead>\n",
              "  <tbody>\n",
              "    <tr>\n",
              "      <th>46</th>\n",
              "      <td>lifeandstyle/2016/nov/19/painting-train-hare-b...</td>\n",
              "      <td>article</td>\n",
              "      <td>lifeandstyle</td>\n",
              "      <td>Life and style</td>\n",
              "      <td>2016-11-19T07:00:01Z</td>\n",
              "      <td>Which painting depicts a train bearing down on...</td>\n",
              "      <td>https://www.theguardian.com/lifeandstyle/2016/...</td>\n",
              "      <td>https://content.guardianapis.com/lifeandstyle/...</td>\n",
              "      <td>False</td>\n",
              "      <td>pillar/lifestyle</td>\n",
              "      <td>Lifestyle</td>\n",
              "      <td>&lt;h2&gt;The questions&lt;/h2&gt; &lt;p&gt;&lt;strong&gt;1 &lt;/strong&gt;W...</td>\n",
              "    </tr>\n",
              "    <tr>\n",
              "      <th>2</th>\n",
              "      <td>commentisfree/2019/feb/18/split-labour-writers...</td>\n",
              "      <td>article</td>\n",
              "      <td>commentisfree</td>\n",
              "      <td>Opinion</td>\n",
              "      <td>2019-02-18T12:04:32Z</td>\n",
              "      <td>Are the gang of seven right to split from Labo...</td>\n",
              "      <td>https://www.theguardian.com/commentisfree/2019...</td>\n",
              "      <td>https://content.guardianapis.com/commentisfree...</td>\n",
              "      <td>False</td>\n",
              "      <td>pillar/opinion</td>\n",
              "      <td>Opinion</td>\n",
              "      <td>&lt;h2&gt;&lt;a href=\"https://www.theguardian.com/profi...</td>\n",
              "    </tr>\n",
              "  </tbody>\n",
              "</table>\n",
              "</div>"
            ],
            "text/plain": [
              "                                                   id  ...                                        fields.body\n",
              "46  lifeandstyle/2016/nov/19/painting-train-hare-b...  ...  <h2>The questions</h2> <p><strong>1 </strong>W...\n",
              "2   commentisfree/2019/feb/18/split-labour-writers...  ...  <h2><a href=\"https://www.theguardian.com/profi...\n",
              "\n",
              "[2 rows x 12 columns]"
            ]
          },
          "metadata": {},
          "execution_count": 17
        }
      ]
    },
    {
      "cell_type": "code",
      "source": [
        "#As there are a lot of articles that mention Venezuela too briefly, I'll focus just on those that include Venezuela, Chavez or Maduro in the title.\n",
        "dfve = df99_21[df99_21['webTitle'].str.contains(\"Venezuela|Chavez|Maduro\")]\n",
        "dfve.info()"
      ],
      "metadata": {
        "colab": {
          "base_uri": "https://localhost:8080/"
        },
        "id": "amA_4G2L2Fx5",
        "outputId": "5e946089-5102-4b41-dd00-30785122d87d"
      },
      "execution_count": null,
      "outputs": [
        {
          "output_type": "stream",
          "name": "stdout",
          "text": [
            "<class 'pandas.core.frame.DataFrame'>\n",
            "Int64Index: 1122 entries, 0 to 52\n",
            "Data columns (total 12 columns):\n",
            " #   Column              Non-Null Count  Dtype \n",
            "---  ------              --------------  ----- \n",
            " 0   id                  1122 non-null   object\n",
            " 1   type                1122 non-null   object\n",
            " 2   sectionId           1122 non-null   object\n",
            " 3   sectionName         1122 non-null   object\n",
            " 4   webPublicationDate  1122 non-null   object\n",
            " 5   webTitle            1122 non-null   object\n",
            " 6   webUrl              1122 non-null   object\n",
            " 7   apiUrl              1122 non-null   object\n",
            " 8   isHosted            1122 non-null   bool  \n",
            " 9   pillarId            1108 non-null   object\n",
            " 10  pillarName          1108 non-null   object\n",
            " 11  fields.body         1122 non-null   object\n",
            "dtypes: bool(1), object(11)\n",
            "memory usage: 106.3+ KB\n"
          ]
        }
      ]
    },
    {
      "cell_type": "code",
      "source": [
        "dfve.dropna(subset=['fields.body'], inplace=True)\n",
        "dfve.info()"
      ],
      "metadata": {
        "colab": {
          "base_uri": "https://localhost:8080/"
        },
        "id": "Zi3kqisp2Elz",
        "outputId": "7a1242ca-d99f-475c-9f30-9a3fa7e1875d"
      },
      "execution_count": null,
      "outputs": [
        {
          "output_type": "stream",
          "name": "stdout",
          "text": [
            "<class 'pandas.core.frame.DataFrame'>\n",
            "Int64Index: 1122 entries, 0 to 52\n",
            "Data columns (total 12 columns):\n",
            " #   Column              Non-Null Count  Dtype \n",
            "---  ------              --------------  ----- \n",
            " 0   id                  1122 non-null   object\n",
            " 1   type                1122 non-null   object\n",
            " 2   sectionId           1122 non-null   object\n",
            " 3   sectionName         1122 non-null   object\n",
            " 4   webPublicationDate  1122 non-null   object\n",
            " 5   webTitle            1122 non-null   object\n",
            " 6   webUrl              1122 non-null   object\n",
            " 7   apiUrl              1122 non-null   object\n",
            " 8   isHosted            1122 non-null   bool  \n",
            " 9   pillarId            1108 non-null   object\n",
            " 10  pillarName          1108 non-null   object\n",
            " 11  fields.body         1122 non-null   object\n",
            "dtypes: bool(1), object(11)\n",
            "memory usage: 106.3+ KB\n"
          ]
        },
        {
          "output_type": "stream",
          "name": "stderr",
          "text": [
            "/usr/local/lib/python3.7/dist-packages/ipykernel_launcher.py:1: SettingWithCopyWarning: \n",
            "A value is trying to be set on a copy of a slice from a DataFrame\n",
            "\n",
            "See the caveats in the documentation: https://pandas.pydata.org/pandas-docs/stable/user_guide/indexing.html#returning-a-view-versus-a-copy\n",
            "  \"\"\"Entry point for launching an IPython kernel.\n"
          ]
        }
      ]
    },
    {
      "cell_type": "code",
      "source": [
        "def cleaning_content(text):\n",
        "    \"\"\"Remove html tags from a string\"\"\"\n",
        "    clean = re.compile('<.*?>')\n",
        "    #Removing accents\n",
        "    text = re.sub(u\"[àáâãäå]\", 'a', text)\n",
        "    text = re.sub(u\"[èéêë]\", 'e', text)\n",
        "    text = re.sub(u\"[ìíîï]\", 'i', text)\n",
        "    text = re.sub(u\"[òóôõö]\", 'o', text)\n",
        "    text = re.sub(u\"[ùúûü]\", 'u', text)\n",
        "    text = re.sub(u\"[ýÿ]\", 'y', text)\n",
        "    text = re.sub(u\"[ß]\", 'ss', text)\n",
        "    text = re.sub(u\"[ñ]\", 'n', text)\n",
        "    text = text.replace(\"\\\\\", \" \")\n",
        "    return re.sub(clean, '', text)\n",
        "\n",
        "\n",
        "dfve['clean'] = dfve['fields.body'].apply(cleaning_content)"
      ],
      "metadata": {
        "colab": {
          "base_uri": "https://localhost:8080/"
        },
        "id": "yWrtLXY5At02",
        "outputId": "2d06f868-7fb3-4b3c-84e4-6c35768685bd"
      },
      "execution_count": null,
      "outputs": [
        {
          "output_type": "stream",
          "name": "stderr",
          "text": [
            "/usr/local/lib/python3.7/dist-packages/ipykernel_launcher.py:17: SettingWithCopyWarning: \n",
            "A value is trying to be set on a copy of a slice from a DataFrame.\n",
            "Try using .loc[row_indexer,col_indexer] = value instead\n",
            "\n",
            "See the caveats in the documentation: https://pandas.pydata.org/pandas-docs/stable/user_guide/indexing.html#returning-a-view-versus-a-copy\n"
          ]
        }
      ]
    },
    {
      "cell_type": "code",
      "source": [
        "#Renaming the columns for convenience\n",
        "dfve.rename({'webPublicationDate':'date',\\\n",
        "                'webTitle':'title',\\\n",
        "                'webUrl':'url',\\\n",
        "                'clean':'content'}, axis=1, inplace=True)"
      ],
      "metadata": {
        "id": "TQGArvWfRJ32",
        "colab": {
          "base_uri": "https://localhost:8080/"
        },
        "outputId": "43452887-d96d-4968-ec17-4994a2e5fa78"
      },
      "execution_count": null,
      "outputs": [
        {
          "output_type": "stream",
          "name": "stderr",
          "text": [
            "/usr/local/lib/python3.7/dist-packages/pandas/core/frame.py:4308: SettingWithCopyWarning: \n",
            "A value is trying to be set on a copy of a slice from a DataFrame\n",
            "\n",
            "See the caveats in the documentation: https://pandas.pydata.org/pandas-docs/stable/user_guide/indexing.html#returning-a-view-versus-a-copy\n",
            "  errors=errors,\n"
          ]
        }
      ]
    },
    {
      "cell_type": "code",
      "source": [
        "#Comparing the text before and after applying the 'Cleaning_content' function, which is used to eliminate links, html tags and accents. "
      ],
      "metadata": {
        "id": "l936P5sTjuYX"
      },
      "execution_count": null,
      "outputs": []
    },
    {
      "cell_type": "code",
      "source": [
        "dfve.iloc[0]['fields.body']"
      ],
      "metadata": {
        "colab": {
          "base_uri": "https://localhost:8080/",
          "height": 140
        },
        "id": "1LG75PHHAEaa",
        "outputId": "0357546c-eee9-4beb-e244-2edead4c31c6"
      },
      "execution_count": null,
      "outputs": [
        {
          "output_type": "execute_result",
          "data": {
            "application/vnd.google.colaboratory.intrinsic+json": {
              "type": "string"
            },
            "text/plain": [
              "'<p> Venezuela’s government is halting negotiations with its opponents in retaliation for the extradition to the US of a close ally of president Nicolás Maduro, who prosecutors believe could be the most significant witness ever about corruption in the South American country.</p> <p>Jorge Rodríguez, who has been heading the government’s delegation, said his team wouldn’t travel to Mexico City for the next scheduled round of negotiations.</p> <p>The announcement capped a tumultuous day that saw Colombian-born businessman Alex Saab placed on a US-bound plane in Cape Verde after a 16-month fight by Maduro and his allies, including Russia, who consider Saab a Venezuelan diplomat.</p> <aside class=\"element element-rich-link element--thumbnail\"> <p> <span>Related: </span><a href=\"https://www.theguardian.com/us-news/2021/jul/08/venezuela-caracas-gun-battles-police-gangs\">Venezuela: intense gun battles rage in Caracas between gangs and police</a> </p> </aside>  <p>The Venezuelan government in September named Saab – who was arrested in June 2020 when his plane stopped in Cape Verde to refuel – as a member of its negotiating team in talks with the opposition in Mexico, where the two sides are looking to solve their political crisis.</p> <p>Rodriguez, reading from a statement, called the decision to suspend negotiations “an expression of our deepest protest against the brutal aggression against the person and the investiture of our delegate Alex Saab Moran”.</p> <p>The leadership of Venezuela’s opposition did not immediately respond to a request for comment.</p> <p>Venezuela, in a Twitter post by the ministry of communications, denounced the extradition as a “kidnapping”.</p> <p>Hours after Saab’s extradition, Venezuela revoked the house arrest of six former executives of refiner Citgo, a US subsidiary of state oil company PDVSA, two sources with knowledge of the situation and a family member told Reuters.</p> <p>The US Justice Department had charged Saab, who also has Venezuelan citizenship, in 2019 in connection with a bribery scheme to take advantage of Venezuela’s state-controlled exchange rate. The US also sanctioned him for allegedly orchestrating a corruption network that allowed Saab and Maduro to profit from a state-run food subsidy program.</p> <p>Saab faces up to 20 years in prison. His lawyers called the US charges “politically motivated”.</p> <p>Saab is expected to make his initial appearance in court on Monday in Miami, according to Justice Department spokesperson Nicole Navas Oxman, who expressed gratitude and admiration to the government of Cape Verde for its professionalism and “perseverance with this complex case”.</p> <p>Cape Verde national radio reported the extradition on Saturday. The government of Cape Verde was not immediately available to comment.</p> <p>In a Twitter post, Colombian president Ivan Duque called Saab’s extradition “a triumph in the fight against drug trafficking, money laundering and corruption by the dictatorship of Nicolas Maduro”.</p> <aside class=\"element element-rich-link element--thumbnail\"> <p> <span>Related: </span><a href=\"https://www.theguardian.com/world/2021/sep/09/former-venezuelan-spymaster-arrested-by-madrid-police-on-us-drugs-charges\">Former Venezuelan spymaster arrested by Madrid police on US drugs charges</a> </p> </aside>  <p>The previous Trump administration had made Saab’s extradition a top priority, at one point even sending a Navy warship to the African archipelago to keep an eye on the captive.</p> <p>The former Citgo executives, who were arrested in November 2017 after being summoned to a meeting at PDVSA headquarters in Caracas, were taken from their homes to one of the headquarters of the intelligence police, two sources said.</p> <p>The six former executives had been released from jail and put on house arrest in April.<br>The group is made up of five naturalised US citizens and one permanent resident. The US government has repeatedly demanded their release.</p> <p>“My father cannot be used as a bargaining chip,” said Cristina Vadell, daughter of former executive Tomeu Vadell. “I’m worried for his health, even more given the country’s coronavirus cases.”</p> <p>The ministry of communications and the attorney general’s office did not immediately respond to requests for comment.</p> <p><em>Associated Press and Reuters contributed to this report</em></p>'"
            ]
          },
          "metadata": {},
          "execution_count": 29
        }
      ]
    },
    {
      "cell_type": "code",
      "source": [
        "dfve.iloc[0]['content']"
      ],
      "metadata": {
        "colab": {
          "base_uri": "https://localhost:8080/",
          "height": 140
        },
        "id": "vbVlI-c3Bs80",
        "outputId": "b42f6bd3-2e70-4c97-9d84-380baf3359e9"
      },
      "execution_count": null,
      "outputs": [
        {
          "output_type": "execute_result",
          "data": {
            "application/vnd.google.colaboratory.intrinsic+json": {
              "type": "string"
            },
            "text/plain": [
              "' Venezuela’s government is halting negotiations with its opponents in retaliation for the extradition to the US of a close ally of president Nicolas Maduro, who prosecutors believe could be the most significant witness ever about corruption in the South American country. Jorge Rodriguez, who has been heading the government’s delegation, said his team wouldn’t travel to Mexico City for the next scheduled round of negotiations. The announcement capped a tumultuous day that saw Colombian-born businessman Alex Saab placed on a US-bound plane in Cape Verde after a 16-month fight by Maduro and his allies, including Russia, who consider Saab a Venezuelan diplomat.   Related: Venezuela: intense gun battles rage in Caracas between gangs and police    The Venezuelan government in September named Saab – who was arrested in June 2020 when his plane stopped in Cape Verde to refuel – as a member of its negotiating team in talks with the opposition in Mexico, where the two sides are looking to solve their political crisis. Rodriguez, reading from a statement, called the decision to suspend negotiations “an expression of our deepest protest against the brutal aggression against the person and the investiture of our delegate Alex Saab Moran”. The leadership of Venezuela’s opposition did not immediately respond to a request for comment. Venezuela, in a Twitter post by the ministry of communications, denounced the extradition as a “kidnapping”. Hours after Saab’s extradition, Venezuela revoked the house arrest of six former executives of refiner Citgo, a US subsidiary of state oil company PDVSA, two sources with knowledge of the situation and a family member told Reuters. The US Justice Department had charged Saab, who also has Venezuelan citizenship, in 2019 in connection with a bribery scheme to take advantage of Venezuela’s state-controlled exchange rate. The US also sanctioned him for allegedly orchestrating a corruption network that allowed Saab and Maduro to profit from a state-run food subsidy program. Saab faces up to 20 years in prison. His lawyers called the US charges “politically motivated”. Saab is expected to make his initial appearance in court on Monday in Miami, according to Justice Department spokesperson Nicole Navas Oxman, who expressed gratitude and admiration to the government of Cape Verde for its professionalism and “perseverance with this complex case”. Cape Verde national radio reported the extradition on Saturday. The government of Cape Verde was not immediately available to comment. In a Twitter post, Colombian president Ivan Duque called Saab’s extradition “a triumph in the fight against drug trafficking, money laundering and corruption by the dictatorship of Nicolas Maduro”.   Related: Former Venezuelan spymaster arrested by Madrid police on US drugs charges    The previous Trump administration had made Saab’s extradition a top priority, at one point even sending a Navy warship to the African archipelago to keep an eye on the captive. The former Citgo executives, who were arrested in November 2017 after being summoned to a meeting at PDVSA headquarters in Caracas, were taken from their homes to one of the headquarters of the intelligence police, two sources said. The six former executives had been released from jail and put on house arrest in April.The group is made up of five naturalised US citizens and one permanent resident. The US government has repeatedly demanded their release. “My father cannot be used as a bargaining chip,” said Cristina Vadell, daughter of former executive Tomeu Vadell. “I’m worried for his health, even more given the country’s coronavirus cases.” The ministry of communications and the attorney general’s office did not immediately respond to requests for comment. Associated Press and Reuters contributed to this report'"
            ]
          },
          "metadata": {},
          "execution_count": 31
        }
      ]
    },
    {
      "cell_type": "code",
      "source": [
        "#Creating a New Database with this 1122 news articles\n",
        "engine = create_engine('sqlite:///newsve.db', echo=False)\n",
        "meta = MetaData()\n",
        "newstable = Table (\n",
        "    'news_table', meta,\n",
        "    Column('id', String, primary_key = True),\n",
        "    Column('date', Date),\n",
        "    Column('title', String),\n",
        "    Column('url', String),\n",
        "    Column('content', String) \n",
        ")\n",
        "#Selecting just the columns I consider important from the dfve.\n",
        "dfve[['id', 'date', 'title', 'url', 'content']].to_sql('news_table', con=engine, if_exists='append')"
      ],
      "metadata": {
        "id": "uK52TTRbAE2t"
      },
      "execution_count": null,
      "outputs": []
    },
    {
      "cell_type": "code",
      "source": [
        "engine.execute(\"SELECT * FROM news_table limit 5\").fetchall()"
      ],
      "metadata": {
        "colab": {
          "base_uri": "https://localhost:8080/"
        },
        "id": "N9GuOodkAFGt",
        "outputId": "2f6d01f1-56de-4141-f342-a2e8215004f8"
      },
      "execution_count": null,
      "outputs": [
        {
          "output_type": "execute_result",
          "data": {
            "text/plain": [
              "[(0, 'world/2021/oct/17/brutal-aggression-venezuela-halts-talks-with-opposition-after-envoy-extradited-to-us', '2021-10-17T03:31:01Z', '‘Brutal aggression’: Venezuela halts talks with opposition after envoy extradited to US', 'https://www.theguardian.com/world/2021/oct/17/brutal-aggression-venezuela-halts-talks-with-opposition-after-envoy-extradited-to-us', ' Venezuela’s government is halting negotiations with its opponents in retaliation for the extradition to the US of a close ally of president Nicolas  ... (3526 characters truncated) ... ations and the attorney general’s office did not immediately respond to requests for comment. Associated Press and Reuters contributed to this report'),\n",
              " (1, 'world/2020/sep/16/venezuela-un-report-crimes-against-humanity-maduro-government', '2020-09-16T14:41:29Z', 'Venezuela: UN accuses Maduro government of crimes against humanity', 'https://www.theguardian.com/world/2020/sep/16/venezuela-un-report-crimes-against-humanity-maduro-government', 'Venezuela’s president and top ministers are responsible for probable crimes against humanity including extrajudicial killings and the systematic use  ... (3990 characters truncated) ... urt, a crime against humanity is defined as an act committed as part of a “widespread or systematic attack directed against any civilian population”.'),\n",
              " (2, 'world/2021/jan/18/venezuela-nicolas-maduro-oxygen-brazil-covid', '2021-01-18T15:45:00Z', \"Venezuela's Nicolás Maduro sends oxygen to tackle Brazil's Covid crisis\", 'https://www.theguardian.com/world/2021/jan/18/venezuela-nicolas-maduro-oxygen-brazil-covid', \"Venezuela’s strongman president, Nicolas Maduro, has sent an emergency shipment of oxygen to his country’s border with Brazil in a politically charge ... (3053 characters truncated) ...  he is a corrupt dictator and a human rights abuser who has managed to destroy Venezuela, once one of the most prosperous countries in the Americas.”\"),\n",
              " (3, 'world/2021/sep/14/weatherwatch-venezuelas-varied-climate', '2021-09-14T05:00:06Z', 'Weatherwatch: Venezuela’s varied climate', 'https://www.theguardian.com/world/2021/sep/14/weatherwatch-venezuelas-varied-climate', 'The most northerly country in South America, Venezuela is also the sixth largest – roughly one-and-a-half times the size of France or Texas. It is ve ... (1057 characters truncated) ... und; while the Orinoco Delta, to the east towards the border with Guyana, gets about 2,000mm (almost 80in) of rain a year, with no real “dry season”.'),\n",
              " (4, 'environment/2021/jul/08/so-enigmatic-injured-sloth-inspires-rescue-centre-in-venezuela-aoe', '2021-07-08T08:04:35Z', '‘So enigmatic’: injured sloth inspires rescue centre in Venezuela', 'https://www.theguardian.com/environment/2021/jul/08/so-enigmatic-injured-sloth-inspires-rescue-centre-in-venezuela-aoe', \"It is almost a year to the day that Haydee and Juan Carlos Rodriguez first spotted an injured sloth lying by the side of the road while they were out ... (7208 characters truncated) ... d to continue their work, inspired by Chuwie’s remarkable restoration to health. “To us,” Haydee says, “he is the most beautiful sloth in the world.”\")]"
            ]
          },
          "metadata": {},
          "execution_count": 34
        }
      ]
    },
    {
      "cell_type": "code",
      "source": [
        "#Just selecting columns of interest from now on, and calling it df\n",
        "df = dfve[['id', 'date', 'title', 'url', 'content']]"
      ],
      "metadata": {
        "id": "0R3xiieGJDqr"
      },
      "execution_count": null,
      "outputs": []
    },
    {
      "cell_type": "code",
      "source": [
        "#Let's try to focus on building a topic modeling tool for the years between 1999 and 2004\n",
        "start_date = '1999-01-01'\n",
        "end_date = '2004-01-01'\n",
        "mask99_03 = (df['date'] > f'{start_date}') & (df['date'] < f'{end_date}') "
      ],
      "metadata": {
        "id": "coO1aX7HAFV2"
      },
      "execution_count": null,
      "outputs": []
    },
    {
      "cell_type": "code",
      "metadata": {
        "id": "HuABjD4g8r61",
        "colab": {
          "base_uri": "https://localhost:8080/",
          "height": 289
        },
        "outputId": "f7f9eb2b-2c32-4962-c8a3-3268509bd7f9"
      },
      "source": [
        "df[mask99_03].sample(5)"
      ],
      "execution_count": null,
      "outputs": [
        {
          "output_type": "execute_result",
          "data": {
            "text/html": [
              "<div>\n",
              "<style scoped>\n",
              "    .dataframe tbody tr th:only-of-type {\n",
              "        vertical-align: middle;\n",
              "    }\n",
              "\n",
              "    .dataframe tbody tr th {\n",
              "        vertical-align: top;\n",
              "    }\n",
              "\n",
              "    .dataframe thead th {\n",
              "        text-align: right;\n",
              "    }\n",
              "</style>\n",
              "<table border=\"1\" class=\"dataframe\">\n",
              "  <thead>\n",
              "    <tr style=\"text-align: right;\">\n",
              "      <th></th>\n",
              "      <th>id</th>\n",
              "      <th>date</th>\n",
              "      <th>title</th>\n",
              "      <th>url</th>\n",
              "      <th>content</th>\n",
              "    </tr>\n",
              "  </thead>\n",
              "  <tbody>\n",
              "    <tr>\n",
              "      <th>0</th>\n",
              "      <td>stage/2003/mar/14/theatre.artsfeatures2</td>\n",
              "      <td>2003-03-14T11:36:11Z</td>\n",
              "      <td>Venezuela, Arcola, London</td>\n",
              "      <td>https://www.theguardian.com/stage/2003/mar/14/...</td>\n",
              "      <td>The excellent Arcola theatre proves its worth ...</td>\n",
              "    </tr>\n",
              "    <tr>\n",
              "      <th>10</th>\n",
              "      <td>world/2003/aug/10/venezuela.theobserver</td>\n",
              "      <td>2003-08-09T23:57:58Z</td>\n",
              "      <td>Venezuela's slum army takes over</td>\n",
              "      <td>https://www.theguardian.com/world/2003/aug/10/...</td>\n",
              "      <td>The economy is in a shambles, the country is t...</td>\n",
              "    </tr>\n",
              "    <tr>\n",
              "      <th>11</th>\n",
              "      <td>world/2000/aug/10/iraq.brianwhitaker</td>\n",
              "      <td>2000-08-10T00:05:51Z</td>\n",
              "      <td>US furious at Venezuelan leader's visit to Saddam</td>\n",
              "      <td>https://www.theguardian.com/world/2000/aug/10/...</td>\n",
              "      <td>The Venezuelan president, Hugo Chavez, is due ...</td>\n",
              "    </tr>\n",
              "    <tr>\n",
              "      <th>81</th>\n",
              "      <td>media/2003/jan/08/broadcasting</td>\n",
              "      <td>2003-01-08T08:17:19Z</td>\n",
              "      <td>How talk show hosts used canned Castro to fool...</td>\n",
              "      <td>https://www.theguardian.com/media/2003/jan/08/...</td>\n",
              "      <td>Two Miami radio presenters used a tape recordi...</td>\n",
              "    </tr>\n",
              "    <tr>\n",
              "      <th>78</th>\n",
              "      <td>world/2002/apr/08/venezuela.oil</td>\n",
              "      <td>2002-04-08T13:49:36Z</td>\n",
              "      <td>Venezuelan president purges oil company</td>\n",
              "      <td>https://www.theguardian.com/world/2002/apr/08/...</td>\n",
              "      <td>Venezuela's president, Hugo Chavez, sacked sev...</td>\n",
              "    </tr>\n",
              "  </tbody>\n",
              "</table>\n",
              "</div>"
            ],
            "text/plain": [
              "                                         id  ...                                            content\n",
              "0   stage/2003/mar/14/theatre.artsfeatures2  ...  The excellent Arcola theatre proves its worth ...\n",
              "10  world/2003/aug/10/venezuela.theobserver  ...  The economy is in a shambles, the country is t...\n",
              "11     world/2000/aug/10/iraq.brianwhitaker  ...  The Venezuelan president, Hugo Chavez, is due ...\n",
              "81           media/2003/jan/08/broadcasting  ...  Two Miami radio presenters used a tape recordi...\n",
              "78          world/2002/apr/08/venezuela.oil  ...  Venezuela's president, Hugo Chavez, sacked sev...\n",
              "\n",
              "[5 rows x 5 columns]"
            ]
          },
          "metadata": {},
          "execution_count": 69
        }
      ]
    },
    {
      "cell_type": "code",
      "source": [
        " def tokenize(text):\n",
        "        \"\"\"Returns tokenized representation of words in lemma form excluding stopwords\"\"\"\n",
        "        result = []\n",
        "        for token in gensim.utils.simple_preprocess(text):\n",
        "            if token not in gensim.parsing.preprocessing.STOPWORDS \\\n",
        "                    and len(token) > 2:  # drops words with less than 3 characters\n",
        "                result.append(lemmatize(token))\n",
        "        return result\n",
        "def lemmatize(token):\n",
        "        \"\"\"Returns lemmatization of a token\"\"\"\n",
        "        return WordNetLemmatizer().lemmatize(token, pos='v')\n",
        "        \n",
        "def string_joiner(x):\n",
        "        return ' '.join([str(item) for item in x])  \n",
        "    \n",
        "#Applying lemmatization\n",
        "df['lemma'] = df.content.apply(tokenize)\n",
        "df['joined_lemma'] = df.lemma.apply(string_joiner)\n",
        "\n"
      ],
      "metadata": {
        "id": "tOfs1fCUks3I"
      },
      "execution_count": null,
      "outputs": []
    },
    {
      "cell_type": "code",
      "source": [
        "df.sample(5)"
      ],
      "metadata": {
        "colab": {
          "base_uri": "https://localhost:8080/",
          "height": 374
        },
        "id": "wv1ZoZppyta4",
        "outputId": "340dd99f-8700-45a2-8f45-b45df0130d8b"
      },
      "execution_count": null,
      "outputs": [
        {
          "output_type": "execute_result",
          "data": {
            "text/html": [
              "<div>\n",
              "<style scoped>\n",
              "    .dataframe tbody tr th:only-of-type {\n",
              "        vertical-align: middle;\n",
              "    }\n",
              "\n",
              "    .dataframe tbody tr th {\n",
              "        vertical-align: top;\n",
              "    }\n",
              "\n",
              "    .dataframe thead th {\n",
              "        text-align: right;\n",
              "    }\n",
              "</style>\n",
              "<table border=\"1\" class=\"dataframe\">\n",
              "  <thead>\n",
              "    <tr style=\"text-align: right;\">\n",
              "      <th></th>\n",
              "      <th>id</th>\n",
              "      <th>date</th>\n",
              "      <th>title</th>\n",
              "      <th>url</th>\n",
              "      <th>content</th>\n",
              "      <th>lemma</th>\n",
              "      <th>joined_lemma</th>\n",
              "    </tr>\n",
              "  </thead>\n",
              "  <tbody>\n",
              "    <tr>\n",
              "      <th>62</th>\n",
              "      <td>world/2017/apr/24/venezuela-protests-roads-blo...</td>\n",
              "      <td>2017-04-25T00:10:54Z</td>\n",
              "      <td>Venezuela anti-government protesters paralyse ...</td>\n",
              "      <td>https://www.theguardian.com/world/2017/apr/24/...</td>\n",
              "      <td>Venezuela’s major transport arteries juddered ...</td>\n",
              "      <td>[venezuela, major, transport, arteries, judder...</td>\n",
              "      <td>venezuela major transport arteries judder halt...</td>\n",
              "    </tr>\n",
              "    <tr>\n",
              "      <th>68</th>\n",
              "      <td>world/2019/apr/15/china-mike-pompeo-venezuela-...</td>\n",
              "      <td>2019-04-15T15:55:45Z</td>\n",
              "      <td>‘Pompeo has lost his mind’: China denies US cl...</td>\n",
              "      <td>https://www.theguardian.com/world/2019/apr/15/...</td>\n",
              "      <td>China has rejected US claims that it is partly...</td>\n",
              "      <td>[china, reject, claim, partly, blame, disinteg...</td>\n",
              "      <td>china reject claim partly blame disintegration...</td>\n",
              "    </tr>\n",
              "    <tr>\n",
              "      <th>61</th>\n",
              "      <td>world/2018/sep/08/trump-nicolas-maduro-overthr...</td>\n",
              "      <td>2018-09-08T16:32:15Z</td>\n",
              "      <td>Trump officials met with Venezuelan officers t...</td>\n",
              "      <td>https://www.theguardian.com/world/2018/sep/08/...</td>\n",
              "      <td>The Trump administration held meetings with di...</td>\n",
              "      <td>[trump, administration, hold, meet, dissident,...</td>\n",
              "      <td>trump administration hold meet dissident venez...</td>\n",
              "    </tr>\n",
              "    <tr>\n",
              "      <th>53</th>\n",
              "      <td>world/2017/aug/08/venezuela-hugo-chavez-ruben-...</td>\n",
              "      <td>2017-08-08T09:00:34Z</td>\n",
              "      <td>Chávez loyalists hold firm amid chaos in Venez...</td>\n",
              "      <td>https://www.theguardian.com/world/2017/aug/08/...</td>\n",
              "      <td>Ruben Ávila – an idealist raised on Marxist th...</td>\n",
              "      <td>[ruben, ávila, idealist, raise, marxist, theor...</td>\n",
              "      <td>ruben ávila idealist raise marxist theory ster...</td>\n",
              "    </tr>\n",
              "    <tr>\n",
              "      <th>21</th>\n",
              "      <td>world/us-embassy-cables-documents/229894</td>\n",
              "      <td>2010-12-09T13:11:19Z</td>\n",
              "      <td>US embassy cables: Safety concerns at Venezuel...</td>\n",
              "      <td>https://www.theguardian.com/world/us-embassy-c...</td>\n",
              "      <td>Thursday, 15 October 2009, 21:59C O N F I D E ...</td>\n",
              "      <td>[thursday, october, section, caracas, sipdis, ...</td>\n",
              "      <td>thursday october section caracas sipdis energy...</td>\n",
              "    </tr>\n",
              "  </tbody>\n",
              "</table>\n",
              "</div>"
            ],
            "text/plain": [
              "                                                   id  ...                                       joined_lemma\n",
              "62  world/2017/apr/24/venezuela-protests-roads-blo...  ...  venezuela major transport arteries judder halt...\n",
              "68  world/2019/apr/15/china-mike-pompeo-venezuela-...  ...  china reject claim partly blame disintegration...\n",
              "61  world/2018/sep/08/trump-nicolas-maduro-overthr...  ...  trump administration hold meet dissident venez...\n",
              "53  world/2017/aug/08/venezuela-hugo-chavez-ruben-...  ...  ruben ávila idealist raise marxist theory ster...\n",
              "21           world/us-embassy-cables-documents/229894  ...  thursday october section caracas sipdis energy...\n",
              "\n",
              "[5 rows x 7 columns]"
            ]
          },
          "metadata": {},
          "execution_count": 74
        }
      ]
    },
    {
      "cell_type": "code",
      "source": [
        "#Saving the df as a CSV and calling it a day."
      ],
      "metadata": {
        "id": "7mTyBlIM2JAa"
      },
      "execution_count": null,
      "outputs": []
    },
    {
      "cell_type": "code",
      "source": [
        "df.to_csv('data.csv')"
      ],
      "metadata": {
        "id": "WU2ziUqj3BIq"
      },
      "execution_count": null,
      "outputs": []
    },
    {
      "cell_type": "code",
      "source": [
        "#Reading the CSV and getting it into a DF. \n",
        "testing = pd.read_csv('/data.csv', index_col=0)\n"
      ],
      "metadata": {
        "id": "WLUWpvIf3QSs"
      },
      "execution_count": null,
      "outputs": []
    },
    {
      "cell_type": "code",
      "source": [
        "testing.info()"
      ],
      "metadata": {
        "colab": {
          "base_uri": "https://localhost:8080/"
        },
        "id": "p3r4EClT3dVI",
        "outputId": "814e7aa5-f935-4104-de65-61113444d119"
      },
      "execution_count": null,
      "outputs": [
        {
          "output_type": "stream",
          "name": "stdout",
          "text": [
            "<class 'pandas.core.frame.DataFrame'>\n",
            "Int64Index: 1122 entries, 0 to 52\n",
            "Data columns (total 7 columns):\n",
            " #   Column        Non-Null Count  Dtype \n",
            "---  ------        --------------  ----- \n",
            " 0   id            1122 non-null   object\n",
            " 1   date          1122 non-null   object\n",
            " 2   title         1122 non-null   object\n",
            " 3   url           1122 non-null   object\n",
            " 4   content       1072 non-null   object\n",
            " 5   lemma         1122 non-null   object\n",
            " 6   joined_lemma  1071 non-null   object\n",
            "dtypes: object(7)\n",
            "memory usage: 70.1+ KB\n"
          ]
        }
      ]
    },
    {
      "cell_type": "code",
      "source": [
        "testing.dropna(subset= ['content', 'joined_lemma'],inplace=True, axis=0)"
      ],
      "metadata": {
        "id": "xcxVtnj-3nrl"
      },
      "execution_count": null,
      "outputs": []
    },
    {
      "cell_type": "code",
      "source": [
        "testing.info()"
      ],
      "metadata": {
        "colab": {
          "base_uri": "https://localhost:8080/"
        },
        "id": "y2d_fgyR7ut_",
        "outputId": "4a5388e8-e19d-43d0-e3c3-9b890b1afa6a"
      },
      "execution_count": null,
      "outputs": [
        {
          "output_type": "stream",
          "name": "stdout",
          "text": [
            "<class 'pandas.core.frame.DataFrame'>\n",
            "Int64Index: 1071 entries, 0 to 52\n",
            "Data columns (total 7 columns):\n",
            " #   Column        Non-Null Count  Dtype \n",
            "---  ------        --------------  ----- \n",
            " 0   id            1071 non-null   object\n",
            " 1   date          1071 non-null   object\n",
            " 2   title         1071 non-null   object\n",
            " 3   url           1071 non-null   object\n",
            " 4   content       1071 non-null   object\n",
            " 5   lemma         1071 non-null   object\n",
            " 6   joined_lemma  1071 non-null   object\n",
            "dtypes: object(7)\n",
            "memory usage: 66.9+ KB\n"
          ]
        }
      ]
    },
    {
      "cell_type": "code",
      "source": [
        "df = testing.copy()"
      ],
      "metadata": {
        "id": "9xQ_eN8v8Q5D"
      },
      "execution_count": null,
      "outputs": []
    },
    {
      "cell_type": "code",
      "source": [
        "#Topic Modeling for the years between 1999 and 2004\n",
        "start_date = '1999-01-01'\n",
        "end_date = '2004-01-01'\n",
        "mask99_03 = (df['date'] > f'{start_date}') & (df['date'] < f'{end_date}') "
      ],
      "metadata": {
        "id": "QldYxKzX764m"
      },
      "execution_count": null,
      "outputs": []
    },
    {
      "cell_type": "code",
      "source": [
        "#For the years [99-2004)\n",
        "\n",
        "#Stopwords\n",
        "words_to_add = ['venezuela', 'chavez', 'caracas', 'say',\\\n",
        "                'miami', 'time', 'live', 'self', 'style',\\\n",
        "                'yellow', 'brazil','theguardian', 'weeks', 'ago', 'year', 'world', 'football']\n",
        "stop_w = ENGLISH_STOP_WORDS.union(words_to_add)\n",
        " \n",
        "vectorizer = TfidfVectorizer(max_features=2000, min_df=0.021, stop_words=stop_w, ngram_range=(2,3))\n",
        "X = vectorizer.fit_transform(df[mask99_03].joined_lemma)\n",
        "words = np.array(vectorizer.get_feature_names_out())\n",
        "#Now, applying the NMF\n",
        " \n",
        "nmf = NMF(n_components=5, solver=\"cd\")\n",
        "W = nmf.fit_transform(X)\n",
        "H = nmf.components_\n",
        "\n",
        "for i, topic in enumerate(H):\n",
        "     print(\"Topic {}: {}\".format(i + 1, \",\".join([str(x) for x in words[topic.argsort()[-4:]]])))\n",
        "\n"
      ],
      "metadata": {
        "colab": {
          "base_uri": "https://localhost:8080/"
        },
        "id": "CWAdPNXg8VDq",
        "outputId": "3c3ca6d5-b5fd-42fa-b0d4-b923dda274ab"
      },
      "execution_count": null,
      "outputs": [
        {
          "output_type": "stream",
          "name": "stdout",
          "text": [
            "Topic 1: oil company,president hugo,general strike,state oil\n",
            "Topic 2: peaceful revolution,constituent assembly,latin america,new constitution\n",
            "Topic 3: fidel castro,april fool,castro want,anti castro\n",
            "Topic 4: qualify finals,beat uruguay,play australia,south american\n",
            "Topic 5: pedro carmona,oil price,white house,unite state\n"
          ]
        },
        {
          "output_type": "stream",
          "name": "stderr",
          "text": [
            "/usr/local/lib/python3.7/dist-packages/sklearn/decomposition/_nmf.py:294: FutureWarning: The 'init' value, when 'init=None' and n_components is less than n_samples and n_features, will be changed from 'nndsvd' to 'nndsvda' in 1.1 (renaming of 0.26).\n",
            "  FutureWarning,\n"
          ]
        }
      ]
    },
    {
      "cell_type": "code",
      "source": [
        "#Finding the links for some of the words in the topics. \n",
        "df[(df.title.str.contains('general | strike', flags=re.IGNORECASE, regex=True)) & (mask99_03)][['title','url']]"
      ],
      "metadata": {
        "colab": {
          "base_uri": "https://localhost:8080/",
          "height": 297
        },
        "id": "6JKnOjCv3enp",
        "outputId": "146be195-5c51-4ca1-cbe2-00a69f99875d"
      },
      "execution_count": null,
      "outputs": [
        {
          "output_type": "execute_result",
          "data": {
            "text/html": [
              "<div>\n",
              "<style scoped>\n",
              "    .dataframe tbody tr th:only-of-type {\n",
              "        vertical-align: middle;\n",
              "    }\n",
              "\n",
              "    .dataframe tbody tr th {\n",
              "        vertical-align: top;\n",
              "    }\n",
              "\n",
              "    .dataframe thead th {\n",
              "        text-align: right;\n",
              "    }\n",
              "</style>\n",
              "<table border=\"1\" class=\"dataframe\">\n",
              "  <thead>\n",
              "    <tr style=\"text-align: right;\">\n",
              "      <th></th>\n",
              "      <th>title</th>\n",
              "      <th>url</th>\n",
              "    </tr>\n",
              "  </thead>\n",
              "  <tbody>\n",
              "    <tr>\n",
              "      <th>74</th>\n",
              "      <td>Chavez turns to troops amid strike chaos</td>\n",
              "      <td>https://www.theguardian.com/world/2003/jan/18/venezuela</td>\n",
              "    </tr>\n",
              "    <tr>\n",
              "      <th>76</th>\n",
              "      <td>Venezuela arrests strike leader</td>\n",
              "      <td>https://www.theguardian.com/world/2003/feb/21/venezuela</td>\n",
              "    </tr>\n",
              "    <tr>\n",
              "      <th>77</th>\n",
              "      <td>Venezuela strike leader 'arrested'</td>\n",
              "      <td>https://www.theguardian.com/world/2003/feb/20/venezuela1</td>\n",
              "    </tr>\n",
              "    <tr>\n",
              "      <th>8</th>\n",
              "      <td>Chavez tries to steady the ship as strike peters out</td>\n",
              "      <td>https://www.theguardian.com/world/2003/feb/07/venezuela.duncancampbell</td>\n",
              "    </tr>\n",
              "    <tr>\n",
              "      <th>33</th>\n",
              "      <td>Bank strike deepens crisis in Venezuela</td>\n",
              "      <td>https://www.theguardian.com/world/2003/jan/09/venezuela.duncancampbell</td>\n",
              "    </tr>\n",
              "    <tr>\n",
              "      <th>37</th>\n",
              "      <td>Venezuelan strike halts oil exports</td>\n",
              "      <td>https://www.theguardian.com/world/2002/dec/07/oil.venezuela</td>\n",
              "    </tr>\n",
              "    <tr>\n",
              "      <th>38</th>\n",
              "      <td>Venezuelan president defies calls for general election</td>\n",
              "      <td>https://www.theguardian.com/world/2002/dec/16/venezuela</td>\n",
              "    </tr>\n",
              "    <tr>\n",
              "      <th>27</th>\n",
              "      <td>Oil exports slump as Venezuelan strike drags on</td>\n",
              "      <td>https://www.theguardian.com/world/2002/dec/11/venezuela</td>\n",
              "    </tr>\n",
              "  </tbody>\n",
              "</table>\n",
              "</div>"
            ],
            "text/plain": [
              "                                                     title                                                                     url\n",
              "74                Chavez turns to troops amid strike chaos                 https://www.theguardian.com/world/2003/jan/18/venezuela\n",
              "76                         Venezuela arrests strike leader                 https://www.theguardian.com/world/2003/feb/21/venezuela\n",
              "77                      Venezuela strike leader 'arrested'                https://www.theguardian.com/world/2003/feb/20/venezuela1\n",
              "8     Chavez tries to steady the ship as strike peters out  https://www.theguardian.com/world/2003/feb/07/venezuela.duncancampbell\n",
              "33                 Bank strike deepens crisis in Venezuela  https://www.theguardian.com/world/2003/jan/09/venezuela.duncancampbell\n",
              "37                     Venezuelan strike halts oil exports             https://www.theguardian.com/world/2002/dec/07/oil.venezuela\n",
              "38  Venezuelan president defies calls for general election                 https://www.theguardian.com/world/2002/dec/16/venezuela\n",
              "27         Oil exports slump as Venezuelan strike drags on                 https://www.theguardian.com/world/2002/dec/11/venezuela"
            ]
          },
          "metadata": {},
          "execution_count": 37
        }
      ]
    },
    {
      "cell_type": "code",
      "source": [
        "#Finding the links for some of the words in the topics. \n",
        "df[(df.title.str.contains('finals', flags=re.IGNORECASE, regex=True)) & (mask99_03)][['title','url']]"
      ],
      "metadata": {
        "colab": {
          "base_uri": "https://localhost:8080/",
          "height": 49
        },
        "id": "Oj8hc2g_6tUB",
        "outputId": "1b150505-71ac-4154-d046-a311e8f2daf6"
      },
      "execution_count": null,
      "outputs": [
        {
          "output_type": "execute_result",
          "data": {
            "text/html": [
              "<div>\n",
              "<style scoped>\n",
              "    .dataframe tbody tr th:only-of-type {\n",
              "        vertical-align: middle;\n",
              "    }\n",
              "\n",
              "    .dataframe tbody tr th {\n",
              "        vertical-align: top;\n",
              "    }\n",
              "\n",
              "    .dataframe thead th {\n",
              "        text-align: right;\n",
              "    }\n",
              "</style>\n",
              "<table border=\"1\" class=\"dataframe\">\n",
              "  <thead>\n",
              "    <tr style=\"text-align: right;\">\n",
              "      <th></th>\n",
              "      <th>title</th>\n",
              "      <th>url</th>\n",
              "    </tr>\n",
              "  </thead>\n",
              "  <tbody>\n",
              "  </tbody>\n",
              "</table>\n",
              "</div>"
            ],
            "text/plain": [
              "Empty DataFrame\n",
              "Columns: [title, url]\n",
              "Index: []"
            ]
          },
          "metadata": {},
          "execution_count": 57
        }
      ]
    },
    {
      "cell_type": "code",
      "source": [
        "pd.set_option('max_rows', 99999)\n",
        "pd.set_option('max_colwidth', 400)\n",
        "pd.describe_option('max_colwidth')"
      ],
      "metadata": {
        "colab": {
          "base_uri": "https://localhost:8080/"
        },
        "id": "jA2glGkX8p71",
        "outputId": "7e406406-647f-46fe-bf32-3aab06c6815d"
      },
      "execution_count": null,
      "outputs": [
        {
          "output_type": "stream",
          "name": "stdout",
          "text": [
            "display.max_colwidth : int or None\n",
            "    The maximum width in characters of a column in the repr of\n",
            "    a pandas data structure. When the column overflows, a \"...\"\n",
            "    placeholder is embedded in the output. A 'None' value means unlimited.\n",
            "    [default: 50] [currently: 400]\n"
          ]
        }
      ]
    },
    {
      "cell_type": "code",
      "source": [
        "#Topic Modeling for the years between 2004 and 2009)\n",
        "start_date = '2004-01-01'\n",
        "end_date = '2009-01-01'\n",
        "mask04_08 = (df['date'] > f'{start_date}') & (df['date'] < f'{end_date}') "
      ],
      "metadata": {
        "id": "eEO2sJBICMoT"
      },
      "execution_count": null,
      "outputs": []
    },
    {
      "cell_type": "code",
      "source": [
        "#For the years [2004-2009)\n",
        "\n",
        "#Stopwords\n",
        "words_to_add = ['venezuela', 'chavez', 'caracas', 'say', 'time', 'live', 'self', 'style', 'theguardian', 'weeks', 'ago', 'year']\n",
        "stop_w = ENGLISH_STOP_WORDS.union(words_to_add)\n",
        " \n",
        "vectorizer = TfidfVectorizer(max_features=2000, min_df=.03, stop_words=stop_w, ngram_range=(2,3))\n",
        "X = vectorizer.fit_transform(df[mask04_08].joined_lemma)\n",
        "words = np.array(vectorizer.get_feature_names_out())\n",
        "nmf = NMF(n_components=5, solver=\"cd\")\n",
        "W = nmf.fit_transform(X)\n",
        "H = nmf.components_\n",
        "\n",
        "for i, topic in enumerate(H):\n",
        "     print(\"Topic {}: {}\".format(i + 1, \",\".join([str(x) for x in words[topic.argsort()[-4:]]])))\n"
      ],
      "metadata": {
        "colab": {
          "base_uri": "https://localhost:8080/"
        },
        "id": "b9f9l3Om9-2e",
        "outputId": "51eca8a5-fe38-4c05-de06-cf447b87dcd1"
      },
      "execution_count": null,
      "outputs": [
        {
          "output_type": "stream",
          "name": "stdout",
          "text": [
            "Topic 1: latin american,george bush,bush administration,venezuelan president\n",
            "Topic 2: land reform,radio television,press freedom,president hugo\n",
            "Topic 3: human right,latin american,simon bolivar,latin america\n",
            "Topic 4: public service,socialist revolution,term limit,opinion poll\n",
            "Topic 5: colombia farc,revolutionary arm,force colombia,arm force\n"
          ]
        },
        {
          "output_type": "stream",
          "name": "stderr",
          "text": [
            "/usr/local/lib/python3.7/dist-packages/sklearn/decomposition/_nmf.py:294: FutureWarning: The 'init' value, when 'init=None' and n_components is less than n_samples and n_features, will be changed from 'nndsvd' to 'nndsvda' in 1.1 (renaming of 0.26).\n",
            "  FutureWarning,\n"
          ]
        }
      ]
    },
    {
      "cell_type": "code",
      "source": [
        "#Finding the links for some of the words in the topics. \n",
        "df[(df.title.str.contains('socialist', flags=re.IGNORECASE, regex=True)) & (mask04_08)][['title','url']]"
      ],
      "metadata": {
        "colab": {
          "base_uri": "https://localhost:8080/",
          "height": 173
        },
        "id": "ZWzdE0p0Hu7E",
        "outputId": "2f9f5d83-6134-4b09-9041-29962bca269c"
      },
      "execution_count": null,
      "outputs": [
        {
          "output_type": "execute_result",
          "data": {
            "text/html": [
              "<div>\n",
              "<style scoped>\n",
              "    .dataframe tbody tr th:only-of-type {\n",
              "        vertical-align: middle;\n",
              "    }\n",
              "\n",
              "    .dataframe tbody tr th {\n",
              "        vertical-align: top;\n",
              "    }\n",
              "\n",
              "    .dataframe thead th {\n",
              "        text-align: right;\n",
              "    }\n",
              "</style>\n",
              "<table border=\"1\" class=\"dataframe\">\n",
              "  <thead>\n",
              "    <tr style=\"text-align: right;\">\n",
              "      <th></th>\n",
              "      <th>title</th>\n",
              "      <th>url</th>\n",
              "    </tr>\n",
              "  </thead>\n",
              "  <tbody>\n",
              "    <tr>\n",
              "      <th>48</th>\n",
              "      <td>Ben Whitford: Voters in Venezuela's urban areas abandon Hugo Chávez's socialist project</td>\n",
              "      <td>https://www.theguardian.com/commentisfree/cifamerica/2008/nov/24/venezuela-elections-hugo-chavez</td>\n",
              "    </tr>\n",
              "    <tr>\n",
              "      <th>7</th>\n",
              "      <td>Venezuela and Iran: The Holocaust denier, the radical socialist, and their axis of unity</td>\n",
              "      <td>https://www.theguardian.com/world/2007/jul/25/venezuela.iran</td>\n",
              "    </tr>\n",
              "    <tr>\n",
              "      <th>70</th>\n",
              "      <td>Flares and medallions live again on Chavez's socialist TV</td>\n",
              "      <td>https://www.theguardian.com/media/2007/jun/09/venezuela.broadcasting</td>\n",
              "    </tr>\n",
              "    <tr>\n",
              "      <th>34</th>\n",
              "      <td>Chavez is a populist, not a socialist</td>\n",
              "      <td>https://www.theguardian.com/commentisfree/2006/may/15/chavezispopulistnotasocia</td>\n",
              "    </tr>\n",
              "  </tbody>\n",
              "</table>\n",
              "</div>"
            ],
            "text/plain": [
              "                                                                                       title                                                                                               url\n",
              "48   Ben Whitford: Voters in Venezuela's urban areas abandon Hugo Chávez's socialist project  https://www.theguardian.com/commentisfree/cifamerica/2008/nov/24/venezuela-elections-hugo-chavez\n",
              "7   Venezuela and Iran: The Holocaust denier, the radical socialist, and their axis of unity                                      https://www.theguardian.com/world/2007/jul/25/venezuela.iran\n",
              "70                                 Flares and medallions live again on Chavez's socialist TV                              https://www.theguardian.com/media/2007/jun/09/venezuela.broadcasting\n",
              "34                                                     Chavez is a populist, not a socialist                   https://www.theguardian.com/commentisfree/2006/may/15/chavezispopulistnotasocia"
            ]
          },
          "metadata": {},
          "execution_count": 85
        }
      ]
    },
    {
      "cell_type": "code",
      "source": [
        "#From 2009 to 2014)\n",
        "start_date = '2009-01-01'\n",
        "end_date = '2014-01-01'\n",
        "mask09_14 = (df['date'] > f'{start_date}') & (df['date'] < f'{end_date}') "
      ],
      "metadata": {
        "id": "CXNgp8BHC39H"
      },
      "execution_count": null,
      "outputs": []
    },
    {
      "cell_type": "code",
      "source": [
        "#For the years [2009-2014)\n",
        "\n",
        "#Stopwords\n",
        "words_to_add = ['venezuela', 'caracas', 'say', 'time', 'live',\\\n",
        "                'getty', 'venezuelan', 'play', 'nbsp', 'bst', 'min', 'look', 'year', 'ago', 'afp', 'simon', 'chavez']\n",
        "stop_w = ENGLISH_STOP_WORDS.union(words_to_add)\n",
        "  \n",
        "vectorizer = TfidfVectorizer(max_features=2000, min_df=0.10, stop_words=stop_w, ngram_range=(2,3))\n",
        "X = vectorizer.fit_transform(df[mask09_14].joined_lemma)\n",
        "words = np.array(vectorizer.get_feature_names_out())\n",
        "nmf = NMF(n_components=5, solver=\"cd\")\n",
        "W = nmf.fit_transform(X)\n",
        "H = nmf.components_\n",
        "\n",
        "for i, topic in enumerate(H):\n",
        "     print(\"Topic {}: {}\".format(i + 1, \",\".join([str(x) for x in words[topic.argsort()[-5:]]])))\n"
      ],
      "metadata": {
        "colab": {
          "base_uri": "https://localhost:8080/"
        },
        "id": "1Y_Un0MdD_YE",
        "outputId": "16d26e8d-341b-4895-8bc9-3af59603bd97"
      },
      "execution_count": null,
      "outputs": [
        {
          "output_type": "stream",
          "name": "stdout",
          "text": [
            "Topic 1: president nicolas,rule party,henrique capriles,national assembly,nicolas maduro\n",
            "Topic 2: latin american,unite state,south america,socialist revolution,president hugo\n",
            "Topic 3: henrique capriles,south america,unite state,latin american,latin america\n",
            "Topic 4: socialist revolution,vice president,national assembly,human right,national guard\n",
            "Topic 5: national assembly,south america,socialist revolution,oil revenues,oil company\n"
          ]
        },
        {
          "output_type": "stream",
          "name": "stderr",
          "text": [
            "/usr/local/lib/python3.7/dist-packages/sklearn/decomposition/_nmf.py:294: FutureWarning: The 'init' value, when 'init=None' and n_components is less than n_samples and n_features, will be changed from 'nndsvd' to 'nndsvda' in 1.1 (renaming of 0.26).\n",
            "  FutureWarning,\n"
          ]
        }
      ]
    },
    {
      "cell_type": "code",
      "source": [
        "#Finding the links for some of the words in the topics. \n",
        "df[(df.title.str.contains('socialist', flags=re.IGNORECASE, regex=True)) & (mask09_14)][['title','url']]"
      ],
      "metadata": {
        "colab": {
          "base_uri": "https://localhost:8080/",
          "height": 80
        },
        "id": "Pk3ZZASRMJMN",
        "outputId": "2864b05a-f1cd-4534-e218-1738e072f03f"
      },
      "execution_count": null,
      "outputs": [
        {
          "output_type": "execute_result",
          "data": {
            "text/html": [
              "<div>\n",
              "<style scoped>\n",
              "    .dataframe tbody tr th:only-of-type {\n",
              "        vertical-align: middle;\n",
              "    }\n",
              "\n",
              "    .dataframe tbody tr th {\n",
              "        vertical-align: top;\n",
              "    }\n",
              "\n",
              "    .dataframe thead th {\n",
              "        text-align: right;\n",
              "    }\n",
              "</style>\n",
              "<table border=\"1\" class=\"dataframe\">\n",
              "  <thead>\n",
              "    <tr style=\"text-align: right;\">\n",
              "      <th></th>\n",
              "      <th>title</th>\n",
              "      <th>url</th>\n",
              "    </tr>\n",
              "  </thead>\n",
              "  <tbody>\n",
              "    <tr>\n",
              "      <th>57</th>\n",
              "      <td>Hugo Chávez vows to keep Venezuela 'on socialist path' after re-election</td>\n",
              "      <td>https://www.theguardian.com/world/2012/oct/08/venezuela-election-hugo-chavez</td>\n",
              "    </tr>\n",
              "  </tbody>\n",
              "</table>\n",
              "</div>"
            ],
            "text/plain": [
              "                                                                       title                                                                           url\n",
              "57  Hugo Chávez vows to keep Venezuela 'on socialist path' after re-election  https://www.theguardian.com/world/2012/oct/08/venezuela-election-hugo-chavez"
            ]
          },
          "metadata": {},
          "execution_count": 154
        }
      ]
    },
    {
      "cell_type": "code",
      "source": [
        "#From 2014 to 2017)\n",
        "start_date = '2014-01-01'\n",
        "end_date = '2017-01-01'\n",
        "mask14_17 = (df['date'] > f'{start_date}') & (df['date'] < f'{end_date}') "
      ],
      "metadata": {
        "id": "RIJAvvBUEI-r"
      },
      "execution_count": null,
      "outputs": []
    },
    {
      "cell_type": "code",
      "source": [
        "#For the years [2014-2017)\n",
        "\n",
        "#Stopwords\n",
        "words_to_add = ['venezuela', 'caracas', 'say', 'time', 'live',\\\n",
        "                'getty', 'venezuelan', 'play', 'nbsp', 'bst', 'min', 'look', 'year', 'ago', 'afp']\n",
        "stop_w = ENGLISH_STOP_WORDS.union(words_to_add)\n",
        " \n",
        "vectorizer = TfidfVectorizer(max_features=2000, min_df=0.05, stop_words=stop_w, ngram_range=(2,3))\n",
        "X = vectorizer.fit_transform(df[mask14_17].joined_lemma)\n",
        "words = np.array(vectorizer.get_feature_names_out())\n",
        "nmf = NMF(n_components=5, solver=\"cd\")\n",
        "W = nmf.fit_transform(X)\n",
        "H = nmf.components_\n",
        "\n",
        "for i, topic in enumerate(H):\n",
        "     print(\"Topic {}: {}\".format(i + 1, \",\".join([str(x) for x in words[topic.argsort()[-4:]]])))"
      ],
      "metadata": {
        "colab": {
          "base_uri": "https://localhost:8080/"
        },
        "id": "7iBzzHJIG-hD",
        "outputId": "7558ee85-8a66-4e8c-dd17-7593f7a4e6e4"
      },
      "execution_count": null,
      "outputs": [
        {
          "output_type": "stream",
          "name": "stdout",
          "text": [
            "Topic 1: nicolas maduro,recall referendum,oil price,national assembly\n",
            "Topic 2: human right abuse,right abuse,latin america,human right\n",
            "Topic 3: late president hugo,late president,president hugo,president hugo chavez\n",
            "Topic 4: price control,currency control,exchange rate,black market\n",
            "Topic 5: leader leopoldo,leader leopoldo lopez,opposition leader,leopoldo lopez\n"
          ]
        },
        {
          "output_type": "stream",
          "name": "stderr",
          "text": [
            "/usr/local/lib/python3.7/dist-packages/sklearn/decomposition/_nmf.py:294: FutureWarning: The 'init' value, when 'init=None' and n_components is less than n_samples and n_features, will be changed from 'nndsvd' to 'nndsvda' in 1.1 (renaming of 0.26).\n",
            "  FutureWarning,\n"
          ]
        }
      ]
    },
    {
      "cell_type": "code",
      "source": [
        "df[(df.title.str.contains('black market', flags=re.IGNORECASE, regex=True)) & (mask14_17)][['title','url']]"
      ],
      "metadata": {
        "colab": {
          "base_uri": "https://localhost:8080/",
          "height": 97
        },
        "id": "jkKj0nvdQH3V",
        "outputId": "479f5a0f-20b2-4128-a1cc-6bafcbec45db"
      },
      "execution_count": null,
      "outputs": [
        {
          "output_type": "execute_result",
          "data": {
            "text/html": [
              "<div>\n",
              "<style scoped>\n",
              "    .dataframe tbody tr th:only-of-type {\n",
              "        vertical-align: middle;\n",
              "    }\n",
              "\n",
              "    .dataframe tbody tr th {\n",
              "        vertical-align: top;\n",
              "    }\n",
              "\n",
              "    .dataframe thead th {\n",
              "        text-align: right;\n",
              "    }\n",
              "</style>\n",
              "<table border=\"1\" class=\"dataframe\">\n",
              "  <thead>\n",
              "    <tr style=\"text-align: right;\">\n",
              "      <th></th>\n",
              "      <th>title</th>\n",
              "      <th>url</th>\n",
              "    </tr>\n",
              "  </thead>\n",
              "  <tbody>\n",
              "    <tr>\n",
              "      <th>67</th>\n",
              "      <td>Price controls and scarcity force Venezuelans to turn to the black market for milk and toilet paper</td>\n",
              "      <td>https://www.theguardian.com/global-development-professionals-network/2015/apr/16/venezuela-economy-black-market-milk-and-toilet-paper</td>\n",
              "    </tr>\n",
              "  </tbody>\n",
              "</table>\n",
              "</div>"
            ],
            "text/plain": [
              "                                                                                                  title                                                                                                                                    url\n",
              "67  Price controls and scarcity force Venezuelans to turn to the black market for milk and toilet paper  https://www.theguardian.com/global-development-professionals-network/2015/apr/16/venezuela-economy-black-market-milk-and-toilet-paper"
            ]
          },
          "metadata": {},
          "execution_count": 131
        }
      ]
    },
    {
      "cell_type": "code",
      "source": [
        "#From 2017 to 2021)\n",
        "start_date = '2017-01-01'\n",
        "end_date = '2021-01-01'\n",
        "mask17_21 = (df['date'] > f'{start_date}') & (df['date'] < f'{end_date}') "
      ],
      "metadata": {
        "id": "TbtchQWUHHxW"
      },
      "execution_count": null,
      "outputs": []
    },
    {
      "cell_type": "code",
      "source": [
        "#For the years [2017-2021)\n",
        "\n",
        "#Stopwords\n",
        "words_to_add = ['venezuela', 'caracas', 'say', 'time', 'live', 'play', 'nbsp']\n",
        "stop_w = ENGLISH_STOP_WORDS.union(words_to_add)\n",
        " \n",
        "vectorizer = TfidfVectorizer(max_features=2000, min_df=0.01, stop_words=stop_w, ngram_range=(2,3))\n",
        "X = vectorizer.fit_transform(df[mask17_21].joined_lemma)\n",
        "words = np.array(vectorizer.get_feature_names_out())\n",
        "nmf = NMF(n_components=5, solver=\"cd\")\n",
        "W = nmf.fit_transform(X)\n",
        "H = nmf.components_\n",
        "\n",
        "for i, topic in enumerate(H):\n",
        "     print(\"Topic {}: {}\".format(i + 1, \",\".join([str(x) for x in words[topic.argsort()[-4:]]])))"
      ],
      "metadata": {
        "colab": {
          "base_uri": "https://localhost:8080/"
        },
        "id": "_7LVnr-7ICuC",
        "outputId": "16f828db-1ca6-45aa-8b12-47b73348187d"
      },
      "execution_count": null,
      "outputs": [
        {
          "output_type": "stream",
          "name": "stdout",
          "text": [
            "Topic 1: nicolas maduro,opposition leader,donald trump,juan guaido\n",
            "Topic 2: work class family,human right,sanction maduro,oil price\n",
            "Topic 3: import food medicine,electoral boycott,import food,black market\n",
            "Topic 4: brief deliver thousands,sign morning,sign morning brief,morning brief\n",
            "Topic 5: supreme court,security force,human right,constituent assembly\n"
          ]
        },
        {
          "output_type": "stream",
          "name": "stderr",
          "text": [
            "/usr/local/lib/python3.7/dist-packages/sklearn/decomposition/_nmf.py:294: FutureWarning: The 'init' value, when 'init=None' and n_components is less than n_samples and n_features, will be changed from 'nndsvd' to 'nndsvda' in 1.1 (renaming of 0.26).\n",
            "  FutureWarning,\n"
          ]
        }
      ]
    },
    {
      "cell_type": "code",
      "source": [
        "#Finding the links for some of the words in the topics. \n",
        "df[(df.title.str.contains('human', flags=re.IGNORECASE, regex=True)) & (mask17_21)][['title','url']]"
      ],
      "metadata": {
        "colab": {
          "base_uri": "https://localhost:8080/",
          "height": 286
        },
        "id": "GFfh5ZRmVD0x",
        "outputId": "7ddb5c3c-1867-4d1d-ad1b-e78f736165cb"
      },
      "execution_count": null,
      "outputs": [
        {
          "output_type": "execute_result",
          "data": {
            "text/html": [
              "<div>\n",
              "<style scoped>\n",
              "    .dataframe tbody tr th:only-of-type {\n",
              "        vertical-align: middle;\n",
              "    }\n",
              "\n",
              "    .dataframe tbody tr th {\n",
              "        vertical-align: top;\n",
              "    }\n",
              "\n",
              "    .dataframe thead th {\n",
              "        text-align: right;\n",
              "    }\n",
              "</style>\n",
              "<table border=\"1\" class=\"dataframe\">\n",
              "  <thead>\n",
              "    <tr style=\"text-align: right;\">\n",
              "      <th></th>\n",
              "      <th>title</th>\n",
              "      <th>url</th>\n",
              "    </tr>\n",
              "  </thead>\n",
              "  <tbody>\n",
              "    <tr>\n",
              "      <th>1</th>\n",
              "      <td>Venezuela: UN accuses Maduro government of crimes against humanity</td>\n",
              "      <td>https://www.theguardian.com/world/2020/sep/16/venezuela-un-report-crimes-against-humanity-maduro-government</td>\n",
              "    </tr>\n",
              "    <tr>\n",
              "      <th>21</th>\n",
              "      <td>Venezuela’s Covid-19 death toll claims ‘not credible’, human rights group says</td>\n",
              "      <td>https://www.theguardian.com/world/2020/may/26/venezuela-coronavirus-death-toll-human-rights-watch</td>\n",
              "    </tr>\n",
              "    <tr>\n",
              "      <th>24</th>\n",
              "      <td>Venezuela wins UN human rights council seat despite record of abuses</td>\n",
              "      <td>https://www.theguardian.com/world/2019/oct/17/venezuela-un-human-rights-council-activists-outraged</td>\n",
              "    </tr>\n",
              "    <tr>\n",
              "      <th>81</th>\n",
              "      <td>'It's like 1984': Venezuela targets human rights defenders</td>\n",
              "      <td>https://www.theguardian.com/global-development/2019/jan/03/venezuela-human-rights-arrests-nicolas-maduro</td>\n",
              "    </tr>\n",
              "    <tr>\n",
              "      <th>23</th>\n",
              "      <td>Venezuela’s opposition wins EU’s prestigious human rights prize</td>\n",
              "      <td>https://www.theguardian.com/world/2017/dec/13/venezuelas-opposition-wins-eus-prestigious-human-rights-prize</td>\n",
              "    </tr>\n",
              "    <tr>\n",
              "      <th>28</th>\n",
              "      <td>Nine ways you can support Venezuelan human rights protests | Reynaldo Trombetta</td>\n",
              "      <td>https://www.theguardian.com/commentisfree/2017/may/10/support-venezuelan-human-rights-protests-maduro</td>\n",
              "    </tr>\n",
              "  </tbody>\n",
              "</table>\n",
              "</div>"
            ],
            "text/plain": [
              "                                                                              title                                                                                                          url\n",
              "1                Venezuela: UN accuses Maduro government of crimes against humanity  https://www.theguardian.com/world/2020/sep/16/venezuela-un-report-crimes-against-humanity-maduro-government\n",
              "21   Venezuela’s Covid-19 death toll claims ‘not credible’, human rights group says            https://www.theguardian.com/world/2020/may/26/venezuela-coronavirus-death-toll-human-rights-watch\n",
              "24             Venezuela wins UN human rights council seat despite record of abuses           https://www.theguardian.com/world/2019/oct/17/venezuela-un-human-rights-council-activists-outraged\n",
              "81                       'It's like 1984': Venezuela targets human rights defenders     https://www.theguardian.com/global-development/2019/jan/03/venezuela-human-rights-arrests-nicolas-maduro\n",
              "23                  Venezuela’s opposition wins EU’s prestigious human rights prize  https://www.theguardian.com/world/2017/dec/13/venezuelas-opposition-wins-eus-prestigious-human-rights-prize\n",
              "28  Nine ways you can support Venezuelan human rights protests | Reynaldo Trombetta        https://www.theguardian.com/commentisfree/2017/may/10/support-venezuelan-human-rights-protests-maduro"
            ]
          },
          "metadata": {},
          "execution_count": 195
        }
      ]
    },
    {
      "cell_type": "code",
      "source": [
        "#Last piece of code, news from January to december 2021"
      ],
      "metadata": {
        "id": "KN_JL7UfIV4j"
      },
      "execution_count": null,
      "outputs": []
    },
    {
      "cell_type": "code",
      "source": [
        "start_date = '2021-01-01'\n",
        "end_date = '2021-12-01'\n",
        "mask21 = (df['date'] > f'{start_date}') & (df['date'] < f'{end_date}')"
      ],
      "metadata": {
        "id": "aGosEd4rKjP-"
      },
      "execution_count": null,
      "outputs": []
    },
    {
      "cell_type": "code",
      "source": [
        "\n",
        "#Stopwords\n",
        "words_to_add = ['venezuela', 'caracas', 'say', 'time', 'live', 'play', 'chavez']\n",
        "stop_w = ENGLISH_STOP_WORDS.union(words_to_add)\n",
        " \n",
        "vectorizer = TfidfVectorizer(max_features=2000, min_df=0.2, stop_words=stop_w, ngram_range=(2,3))\n",
        "X = vectorizer.fit_transform(df[mask21].joined_lemma)\n",
        "words = np.array(vectorizer.get_feature_names_out())\n",
        "nmf = NMF(n_components=5, solver=\"cd\")\n",
        "W = nmf.fit_transform(X)\n",
        "H = nmf.components_\n",
        "\n",
        "for i, topic in enumerate(H):\n",
        "     print(\"Topic {}: {}\".format(i + 1, \",\".join([str(x) for x in words[topic.argsort()[-4:]]])))"
      ],
      "metadata": {
        "colab": {
          "base_uri": "https://localhost:8080/"
        },
        "id": "abNG7Sj9Knhx",
        "outputId": "79627ca7-0845-4c0e-aff9-7f5300b6a8c1"
      },
      "execution_count": null,
      "outputs": [
        {
          "output_type": "stream",
          "name": "stdout",
          "text": [
            "Topic 1: venezuelan refugees,human right,latin american,latin america\n",
            "Topic 2: refugees migrants,drug traffic,tell guardian,year old\n",
            "Topic 3: president nicolas,president nicolas maduro,drug traffic,nicolas maduro\n",
            "Topic 4: president nicolas maduro,president nicolas,nicolas maduro,political crisis\n",
            "Topic 5: economic social,refugee agency,venezuelan migrants,million venezuelans\n"
          ]
        },
        {
          "output_type": "stream",
          "name": "stderr",
          "text": [
            "/usr/local/lib/python3.7/dist-packages/sklearn/decomposition/_nmf.py:294: FutureWarning: The 'init' value, when 'init=None' and n_components is less than n_samples and n_features, will be changed from 'nndsvd' to 'nndsvda' in 1.1 (renaming of 0.26).\n",
            "  FutureWarning,\n"
          ]
        }
      ]
    },
    {
      "cell_type": "code",
      "source": [
        "#Done with this, the rest, will be the Streamlit App"
      ],
      "metadata": {
        "id": "3c694vynbUn9"
      },
      "execution_count": null,
      "outputs": []
    }
  ]
}